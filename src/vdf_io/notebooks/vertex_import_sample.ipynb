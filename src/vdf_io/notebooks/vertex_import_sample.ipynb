{
 "cells": [
  {
   "cell_type": "markdown",
   "id": "0309530d-3358-447c-ade5-a110dec39148",
   "metadata": {},
   "source": [
    "# Testing import class for Vertex AI Vector Search"
   ]
  },
  {
   "cell_type": "code",
   "execution_count": 1,
   "id": "8907184b-229f-4125-a1c5-f3725d95a55c",
   "metadata": {
    "tags": []
   },
   "outputs": [
    {
     "data": {
      "text/plain": [
       "'/home/jupyter/vector-io'"
      ]
     },
     "execution_count": 1,
     "metadata": {},
     "output_type": "execute_result"
    }
   ],
   "source": [
    "import os\n",
    "\n",
    "root_path = \"..\"\n",
    "os.chdir(root_path)\n",
    "os.getcwd()"
   ]
  },
  {
   "cell_type": "code",
   "execution_count": 2,
   "id": "97c951cd-f693-4722-adea-9b9ba58ecab6",
   "metadata": {
    "tags": []
   },
   "outputs": [
    {
     "name": "stdout",
     "output_type": "stream",
     "text": [
      "/home/jupyter/vector-io\n"
     ]
    }
   ],
   "source": [
    "!pwd"
   ]
  },
  {
   "cell_type": "code",
   "execution_count": 3,
   "id": "ee5def52-1bd5-4b84-8c37-b765a9f5e071",
   "metadata": {
    "tags": []
   },
   "outputs": [
    {
     "name": "stdout",
     "output_type": "stream",
     "text": [
      "PREFIX = vvs-vectorio-pubv3\n"
     ]
    }
   ],
   "source": [
    "# naming convention for all cloud resources\n",
    "VERSION = \"pubv3\"  # TODO\n",
    "PREFIX = f\"vvs-vectorio-{VERSION}\"  # TODO\n",
    "\n",
    "print(f\"PREFIX = {PREFIX}\")"
   ]
  },
  {
   "cell_type": "markdown",
   "id": "6961c375-5d91-4fbf-8dc9-ed82c6fa4e0f",
   "metadata": {},
   "source": [
    "## Load notebook config"
   ]
  },
  {
   "cell_type": "code",
   "execution_count": 4,
   "id": "b48cb465-ab53-46d5-a0df-1482ed2ccb87",
   "metadata": {
    "tags": []
   },
   "outputs": [
    {
     "name": "stdout",
     "output_type": "stream",
     "text": [
      "\n",
      "PREFIX                   = \"vvs-vectorio-pubv3\"\n",
      "VERSION                  = \"pubv3\"\n",
      "\n",
      "PROJECT_ID               = \"hybrid-vertex\"\n",
      "PROJECT_NUM              = \"934903580331\"\n",
      "\n",
      "REGION                   = \"us-central1\"\n",
      "BQ_REGION                = \"US\"\n",
      "\n",
      "VERTEX_SA                = \"934903580331-compute@developer.gserviceaccount.com\"\n",
      "\n",
      "VPC_NETWORK_NAME         = \"\"\n",
      "VPC_NETWORK_FULL         = \"None\"\n",
      "\n",
      "USE_PUBLIC_ENDPOINTS     = \"True\"\n",
      "\n",
      "BUCKET_NAME              = \"vvs-vectorio-pubv3-hybrid-vertex\"\n",
      "BUCKET_URI               = \"gs://vvs-vectorio-pubv3-hybrid-vertex\"\n",
      "\n",
      "REMOTE_GCS_FOLDER        = \"gs://vvs-vectorio-pubv3-hybrid-vertex/vvs-vectorio-pubv3/embedding_indexes/tmpm4k5k6gq/\"\n",
      "\n",
      "SO_PARQUET_GCS_DIR       = \"gs://vvs-vectorio-pubv3-hybrid-vertex/emb_vector_parquet/so_2000_5000_1000/tmpsgm4txp8/\"\n",
      "\n",
      "LOCAL_TEST_DIR           = \"data/stack_overflow_parquet_pubv3\"\n",
      "LOCAL_TEST_DATA_DIR      = \"data/stack_overflow_parquet_pubv3/files\"\n",
      "\n",
      "DIMENSIONS               = \"768\"\n",
      "\n",
      "INDEX_DISPLAY_NAME       = \"soverflow_vvs_vectorio_pubv3\"\n",
      "INDEX_RESOURCE_NAME      = \"projects/934903580331/locations/us-central1/indexes/1081325705452584960\"\n",
      "MY_INDEX_ID              = \"1081325705452584960\"\n",
      "\n",
      "ENDPOINT_DISPLAY_NAME    = \"soverflow_vvs_vectorio_pubv3_endpoint\"\n",
      "ENDPOINT_RESOURCE_NAME   = \"projects/934903580331/locations/us-central1/indexEndpoints/5739455095037231104\"\n",
      "MY_INDEX_ENDPOINT_ID     = \"5739455095037231104\"\n",
      "\n",
      "DEPLOYED_INDEX_ID        = \"soverflow_vvs_vectorio_pubv3_20240130131739\"\n",
      "\n",
      "PUBLIC_ENDPOINT_URL      = \"139422526.us-central1-934903580331.vdb.vertexai.goog\"\n",
      "\n",
      "LOCAL_PARQUEST_FILE_LIST = \"data/stack_overflow_parquet_pubv3/files/so_tmpm4k5k6gq_2001.parquet|data/stack_overflow_parquet_pubv3/files/so_tmpm4k5k6gq_2000.parquet|data/stack_overflow_parquet_pubv3/files/so_tmpm4k5k6gq_2002.parquet\"\n",
      "\n"
     ]
    }
   ],
   "source": [
    "# staging GCS\n",
    "GCP_PROJECTS = !gcloud config get-value project\n",
    "PROJECT_ID = GCP_PROJECTS[0]\n",
    "\n",
    "# GCS bucket and paths\n",
    "BUCKET_NAME = f\"{PREFIX}-{PROJECT_ID}\"\n",
    "BUCKET_URI = f\"gs://{BUCKET_NAME}\"\n",
    "\n",
    "config = !gsutil cat {BUCKET_URI}/config/notebook_env.py\n",
    "print(config.n)\n",
    "exec(config.n)"
   ]
  },
  {
   "cell_type": "code",
   "execution_count": 5,
   "id": "5db6b85a-42bb-452c-b289-3067057670a8",
   "metadata": {
    "tags": []
   },
   "outputs": [
    {
     "data": {
      "text/plain": [
       "['data/stack_overflow_parquet_pubv3/files/so_tmpm4k5k6gq_2001.parquet',\n",
       " 'data/stack_overflow_parquet_pubv3/files/so_tmpm4k5k6gq_2000.parquet',\n",
       " 'data/stack_overflow_parquet_pubv3/files/so_tmpm4k5k6gq_2002.parquet']"
      ]
     },
     "execution_count": 5,
     "metadata": {},
     "output_type": "execute_result"
    }
   ],
   "source": [
    "LOCAL_PARQUEST_FILE_LIST = LOCAL_PARQUEST_FILE_LIST.split(\"|\")\n",
    "LOCAL_PARQUEST_FILE_LIST"
   ]
  },
  {
   "cell_type": "markdown",
   "id": "4fa1ad36-d591-4fc5-9807-fbf8b3b41fd2",
   "metadata": {},
   "source": [
    "## Imports"
   ]
  },
  {
   "cell_type": "code",
   "execution_count": 6,
   "id": "734aa30c-31fb-456a-bb40-5d85b1e2eac1",
   "metadata": {
    "tags": []
   },
   "outputs": [
    {
     "name": "stdout",
     "output_type": "stream",
     "text": [
      "BigQuery SDK version      : 3.15.0\n",
      "Vertex AI SDK version     : 1.39.0\n",
      "Cloud Storage SDK version : 2.14.0\n"
     ]
    }
   ],
   "source": [
    "import pandas as pd\n",
    "import time\n",
    "import json\n",
    "\n",
    "from pprint import pprint\n",
    "\n",
    "from google.cloud import aiplatform as aip\n",
    "from google.cloud import storage\n",
    "from google.cloud import bigquery\n",
    "\n",
    "# logging\n",
    "import logging\n",
    "\n",
    "logging.disable(logging.WARNING)\n",
    "\n",
    "# python warning\n",
    "import warnings\n",
    "\n",
    "warnings.filterwarnings(\"ignore\")\n",
    "\n",
    "print(f\"BigQuery SDK version      : {bigquery.__version__}\")\n",
    "print(f\"Vertex AI SDK version     : {aip.__version__}\")\n",
    "print(f\"Cloud Storage SDK version : {storage.__version__}\")"
   ]
  },
  {
   "cell_type": "markdown",
   "id": "9002756a-ba05-4b3a-a25d-0a066da9bfba",
   "metadata": {},
   "source": [
    "### init Google Cloud SDK clients"
   ]
  },
  {
   "cell_type": "code",
   "execution_count": 7,
   "id": "edadf322-eabc-49f9-92ae-007019d41fcc",
   "metadata": {
    "tags": []
   },
   "outputs": [],
   "source": [
    "# cloud storage client\n",
    "storage_client = storage.Client(project=PROJECT_ID)\n",
    "\n",
    "# Vertex client\n",
    "aip.init(project=PROJECT_ID, location=REGION)"
   ]
  },
  {
   "cell_type": "markdown",
   "id": "014a428a-3ca6-4f14-ac0d-2315abfffcf6",
   "metadata": {},
   "source": [
    "### Vertex AI Vector Search Import class"
   ]
  },
  {
   "cell_type": "code",
   "execution_count": 8,
   "id": "5f8e34c7-2ead-4d8b-9740-70ae3d9b3229",
   "metadata": {
    "tags": []
   },
   "outputs": [],
   "source": [
    "import os\n",
    "\n",
    "# sys.path.append(\"..\")\n",
    "# from vdf_io.import_vdf.vertexai_vector_search_import import ImportVertexAIVectorSearch # TODO\n",
    "# from vdf_io.names import DBNames"
   ]
  },
  {
   "cell_type": "markdown",
   "id": "38ccfce7-e5fd-4a65-baa5-3c3763400d12",
   "metadata": {},
   "source": [
    "## Get test data"
   ]
  },
  {
   "cell_type": "code",
   "execution_count": 9,
   "id": "47002977-789c-477b-b402-080ac770eb98",
   "metadata": {
    "tags": []
   },
   "outputs": [],
   "source": [
    "# !tree notebooks/data"
   ]
  },
  {
   "cell_type": "code",
   "execution_count": 36,
   "id": "bcd95b8a-7d1f-495e-a5ab-4a86d2acd9e5",
   "metadata": {
    "tags": []
   },
   "outputs": [
    {
     "name": "stdout",
     "output_type": "stream",
     "text": [
      "TEST_VDF_META : notebooks/data/stack_overflow_parquet_pubv3/VDF_META.json\n",
      "DIMENSIONS    : 768\n",
      "VDF_VERSION   : v1\n",
      "TIMESTAMP_vdf : 20240205-142539\n",
      "\n"
     ]
    },
    {
     "data": {
      "text/plain": [
       "['notebooks/data/stack_overflow_parquet_pubv3/VDF_META.json',\n",
       " 'notebooks/data/stack_overflow_parquet_pubv3/files/so_tmpm4k5k6gq_2001.parquet',\n",
       " 'notebooks/data/stack_overflow_parquet_pubv3/files/so_tmpm4k5k6gq_2000.parquet',\n",
       " 'notebooks/data/stack_overflow_parquet_pubv3/files/so_tmpm4k5k6gq_2002.parquet']"
      ]
     },
     "execution_count": 36,
     "metadata": {},
     "output_type": "execute_result"
    }
   ],
   "source": [
    "# LOCAL_TEST_DIR            # 'data/stack_overflow_parquet'\n",
    "# LOCAL_TEST_DATA_DIR       # 'data/stack_overflow_parquet/files'\n",
    "\n",
    "# local vdf json file\n",
    "TEST_VDF_META_DIR = f\"notebooks/{LOCAL_TEST_DIR}\"\n",
    "TEST_VDF_META = f\"{TEST_VDF_META_DIR}/VDF_META.json\"\n",
    "\n",
    "VDF_VERSION = \"v1\"\n",
    "TIMESTAMP_vdf = time.strftime(\"%Y%m%d-%H%M%S\")\n",
    "\n",
    "print(f\"TEST_VDF_META : {TEST_VDF_META}\")\n",
    "print(f\"DIMENSIONS    : {DIMENSIONS}\")\n",
    "print(f\"VDF_VERSION   : {VDF_VERSION}\")\n",
    "print(f\"TIMESTAMP_vdf : {TIMESTAMP_vdf}\\n\")\n",
    "\n",
    "FILE_STRUCTURE_V1 = []\n",
    "FILE_STRUCTURE_V1.append(f\"{TEST_VDF_META}\")\n",
    "for element in LOCAL_PARQUEST_FILE_LIST:\n",
    "    FILE_STRUCTURE_V1.append(f\"notebooks/{element}\")\n",
    "\n",
    "FILE_STRUCTURE_V1"
   ]
  },
  {
   "cell_type": "code",
   "execution_count": 11,
   "id": "0258a956-809e-479e-8f0a-a11f4cb6c7ef",
   "metadata": {
    "tags": []
   },
   "outputs": [
    {
     "name": "stdout",
     "output_type": "stream",
     "text": [
      "(1000, 5)\n"
     ]
    },
    {
     "data": {
      "text/html": [
       "<div>\n",
       "<style scoped>\n",
       "    .dataframe tbody tr th:only-of-type {\n",
       "        vertical-align: middle;\n",
       "    }\n",
       "\n",
       "    .dataframe tbody tr th {\n",
       "        vertical-align: top;\n",
       "    }\n",
       "\n",
       "    .dataframe thead th {\n",
       "        text-align: right;\n",
       "    }\n",
       "</style>\n",
       "<table border=\"1\" class=\"dataframe\">\n",
       "  <thead>\n",
       "    <tr style=\"text-align: right;\">\n",
       "      <th></th>\n",
       "      <th>id</th>\n",
       "      <th>embedding</th>\n",
       "      <th>tag</th>\n",
       "      <th>score</th>\n",
       "      <th>crowding_tag</th>\n",
       "    </tr>\n",
       "  </thead>\n",
       "  <tbody>\n",
       "    <tr>\n",
       "      <th>0</th>\n",
       "      <td>43154170</td>\n",
       "      <td>[-0.024622129276394844, -0.005234652664512396,...</td>\n",
       "      <td>security</td>\n",
       "      <td>16</td>\n",
       "      <td>cors</td>\n",
       "    </tr>\n",
       "    <tr>\n",
       "      <th>1</th>\n",
       "      <td>43441856</td>\n",
       "      <td>[0.01128651574254036, -0.0018839503172785044, ...</td>\n",
       "      <td>javascript</td>\n",
       "      <td>387</td>\n",
       "      <td>ecmascript-6</td>\n",
       "    </tr>\n",
       "    <tr>\n",
       "      <th>2</th>\n",
       "      <td>43460880</td>\n",
       "      <td>[-0.04847663268446922, -0.01450541615486145, 0...</td>\n",
       "      <td>unit-testing</td>\n",
       "      <td>20</td>\n",
       "      <td>xunit</td>\n",
       "    </tr>\n",
       "  </tbody>\n",
       "</table>\n",
       "</div>"
      ],
      "text/plain": [
       "         id                                          embedding           tag  \\\n",
       "0  43154170  [-0.024622129276394844, -0.005234652664512396,...      security   \n",
       "1  43441856  [0.01128651574254036, -0.0018839503172785044, ...    javascript   \n",
       "2  43460880  [-0.04847663268446922, -0.01450541615486145, 0...  unit-testing   \n",
       "\n",
       "   score  crowding_tag  \n",
       "0     16          cors  \n",
       "1    387  ecmascript-6  \n",
       "2     20         xunit  "
      ]
     },
     "execution_count": 11,
     "metadata": {},
     "output_type": "execute_result"
    }
   ],
   "source": [
    "# validate parquet files\n",
    "df_from_pq = pd.read_parquet(FILE_STRUCTURE_V1[1])\n",
    "\n",
    "print(df_from_pq.shape)\n",
    "df_from_pq.head(3)"
   ]
  },
  {
   "cell_type": "markdown",
   "id": "7121a4eb-a452-4eab-ae0c-522f03d04b75",
   "metadata": {},
   "source": [
    "### Create VDF Metadata json"
   ]
  },
  {
   "cell_type": "code",
   "execution_count": 12,
   "id": "746f1816-575e-4d63-a32e-89da8932c51c",
   "metadata": {
    "tags": []
   },
   "outputs": [],
   "source": [
    "# target_vs_index = aip.MatchingEngineIndex(INDEX_RESOURCE_NAME)\n",
    "# target_vs_index.to_dict()"
   ]
  },
  {
   "cell_type": "code",
   "execution_count": 41,
   "id": "2edd9e68-d13c-477b-ba05-b3068b6f19fa",
   "metadata": {
    "tags": []
   },
   "outputs": [
    {
     "name": "stdout",
     "output_type": "stream",
     "text": [
      "{'author': 'jordantotten',\n",
      " 'exported_at': '20240205-142539',\n",
      " 'exported_from': 'vertex',\n",
      " 'file_structure': ['notebooks/data/stack_overflow_parquet_pubv3/VDF_META.json',\n",
      "                    'notebooks/data/stack_overflow_parquet_pubv3/files/so_tmpm4k5k6gq_2001.parquet',\n",
      "                    'notebooks/data/stack_overflow_parquet_pubv3/files/so_tmpm4k5k6gq_2000.parquet',\n",
      "                    'notebooks/data/stack_overflow_parquet_pubv3/files/so_tmpm4k5k6gq_2002.parquet'],\n",
      " 'indexes': {'soverflow_vvs_vectorio_pubv3': [{'data_path': 'vdf_20240201_181031_a26f5/soverflow_vvs_vectorio_pubv3',\n",
      "                                               'dimensions': 768,\n",
      "                                               'exported_vector_count': 1000,\n",
      "                                               'metric': 'Dot',\n",
      "                                               'model_name': 'textembedding-gecko@001',\n",
      "                                               'namespace': '',\n",
      "                                               'total_vector_count': 1000,\n",
      "                                               'vector_columns': ['vector']}]},\n",
      " 'version': 'v1'}\n"
     ]
    }
   ],
   "source": [
    "DATA_PATH = \"vdf_20240201_181031_a26f5\"\n",
    "my_vdf = {\n",
    "    \"author\": \"jordantotten\",\n",
    "    \"exported_from\": \"vertex\",\n",
    "    \"file_structure\": FILE_STRUCTURE_V1,\n",
    "    \"version\": VDF_VERSION,\n",
    "    \"exported_at\": TIMESTAMP_vdf,\n",
    "    \"indexes\": {\n",
    "        \"soverflow_vvs_vectorio_pubv3\": [\n",
    "            {\n",
    "                \"data_path\": f\"{DATA_PATH}/soverflow_vvs_vectorio_pubv3\",\n",
    "                \"dimensions\": int(DIMENSIONS),\n",
    "                \"exported_vector_count\": 1000,\n",
    "                \"metric\": \"Dot\",\n",
    "                \"model_name\": \"textembedding-gecko@001\",\n",
    "                \"namespace\": \"\",\n",
    "                \"total_vector_count\": 1000,\n",
    "                \"vector_columns\": [\"vector\"],\n",
    "            }\n",
    "        ]\n",
    "    },\n",
    "}\n",
    "pprint(my_vdf)"
   ]
  },
  {
   "cell_type": "markdown",
   "id": "4887557c-2143-4f89-b8d9-fcc67cbab6d9",
   "metadata": {},
   "source": [
    "*Write local VDF metadata json file*"
   ]
  },
  {
   "cell_type": "code",
   "execution_count": 42,
   "id": "4f4c8985-0357-40ab-b4ab-43de8b3fbe25",
   "metadata": {
    "tags": []
   },
   "outputs": [],
   "source": [
    "with open(f\"{TEST_VDF_META}\", \"w\") as fp:\n",
    "    json.dump(my_vdf, fp)"
   ]
  },
  {
   "cell_type": "markdown",
   "id": "4216b107-301c-4123-9b98-886d007fa70c",
   "metadata": {},
   "source": [
    "*Validate json file*"
   ]
  },
  {
   "cell_type": "code",
   "execution_count": 43,
   "id": "a30beed4-5a92-4e76-9d30-812a7ea46e99",
   "metadata": {
    "tags": []
   },
   "outputs": [
    {
     "name": "stdout",
     "output_type": "stream",
     "text": [
      "{'author': 'jordantotten',\n",
      " 'exported_at': '20240205-142539',\n",
      " 'exported_from': 'vertex',\n",
      " 'file_structure': ['notebooks/data/stack_overflow_parquet_pubv3/VDF_META.json',\n",
      "                    'notebooks/data/stack_overflow_parquet_pubv3/files/so_tmpm4k5k6gq_2001.parquet',\n",
      "                    'notebooks/data/stack_overflow_parquet_pubv3/files/so_tmpm4k5k6gq_2000.parquet',\n",
      "                    'notebooks/data/stack_overflow_parquet_pubv3/files/so_tmpm4k5k6gq_2002.parquet'],\n",
      " 'indexes': {'soverflow_vvs_vectorio_pubv3': [{'data_path': 'vdf_20240201_181031_a26f5/soverflow_vvs_vectorio_pubv3',\n",
      "                                               'dimensions': 768,\n",
      "                                               'exported_vector_count': 1000,\n",
      "                                               'metric': 'Dot',\n",
      "                                               'model_name': 'textembedding-gecko@001',\n",
      "                                               'namespace': '',\n",
      "                                               'total_vector_count': 1000,\n",
      "                                               'vector_columns': ['vector']}]},\n",
      " 'version': 'v1'}\n"
     ]
    }
   ],
   "source": [
    "with open(f\"{TEST_VDF_META}\") as f:\n",
    "    d = json.load(f)\n",
    "    pprint(d)"
   ]
  },
  {
   "cell_type": "markdown",
   "id": "acc08aa6-586f-45fb-a17c-ef7f19a7d300",
   "metadata": {},
   "source": [
    "### run via Command Line"
   ]
  },
  {
   "cell_type": "code",
   "execution_count": 50,
   "id": "25bd1684-b7fd-442e-a0b3-3b1b96c03c11",
   "metadata": {
    "tags": []
   },
   "outputs": [
    {
     "name": "stdout",
     "output_type": "stream",
     "text": [
      "\n",
      "src/import_vdf.py --dir notebooks/data/stack_overflow_parquet_pubv3 vertexai_vectorsearch -p hybrid-vertex -l us-central1\n",
      "\n"
     ]
    }
   ],
   "source": [
    "# --create_new\n",
    "# --deploy_new_index\n",
    "\n",
    "CL_STRING = f\"\"\"\n",
    "src/import_vdf.py --dir {TEST_VDF_META_DIR} vertexai_vectorsearch -p {PROJECT_ID} -l {REGION}\n",
    "\"\"\"\n",
    "print(CL_STRING)"
   ]
  },
  {
   "cell_type": "markdown",
   "id": "b8d106f3-4297-45e2-bb0a-7c524ffe215d",
   "metadata": {},
   "source": [
    "# Initialize import class\n",
    "\n",
    "> Pass config for target index to import vectors t"
   ]
  },
  {
   "cell_type": "code",
   "execution_count": 22,
   "id": "3ab51f94-7cfe-4c5c-b8be-6cad93ea55b2",
   "metadata": {
    "tags": []
   },
   "outputs": [
    {
     "name": "stdout",
     "output_type": "stream",
     "text": [
      "INDEX_DISPLAY_NAME : soverflow_vvs_vectorio_pubv3\n",
      "DEPLOYED_INDEX_ID  : soverflow_vvs_vectorio_pubv3_20240130131739\n"
     ]
    }
   ],
   "source": [
    "print(f\"INDEX_DISPLAY_NAME : {INDEX_DISPLAY_NAME}\")\n",
    "print(f\"DEPLOYED_INDEX_ID  : {DEPLOYED_INDEX_ID}\")"
   ]
  },
  {
   "cell_type": "code",
   "execution_count": 23,
   "id": "f33a8b01-fa43-4e31-b5a8-9b840701e7c0",
   "metadata": {},
   "outputs": [
    {
     "name": "stdout",
     "output_type": "stream",
     "text": [
      "{'approx_nn_count': 150,\n",
      " 'batch_size': 100,\n",
      " 'create_new_index': False,\n",
      " 'crowding_tag': 'crowding_tag',\n",
      " 'deploy_new_index': False,\n",
      " 'dir': 'notebooks/data/stack_overflow_parquet_pubv3/files',\n",
      " 'distance_measure': 'DOT_PRODUCT_DISTANCE',\n",
      " 'filter_restricts': [{'allow_list': ['tag'], 'namespace': 'tag'}],\n",
      " 'gcs_bucket': 'vvs-vectorio-pubv3-hybrid-vertex',\n",
      " 'leaf_node_emb_count': 1000,\n",
      " 'leaf_nodes_percent': 7,\n",
      " 'library_version': 'v1',\n",
      " 'location': 'us-central1',\n",
      " 'machine_type': 'e2-standard-16',\n",
      " 'max_replicas': 1,\n",
      " 'min_replicas': 1,\n",
      " 'numeric_restricts': [{'data_type': 'value_int', 'namespace': 'score'}],\n",
      " 'project_id': 'hybrid-vertex',\n",
      " 'project_num': '934903580331'}\n"
     ]
    }
   ],
   "source": [
    "TARGET_INDEX_ARG = (\n",
    "    \"new_index_vv4\"  # INDEX_DISPLAY_NAME | DEPLOYED_INDEX_ID | INDEX_RESOURCE_NAME\n",
    ")\n",
    "\n",
    "my_import_args = {\n",
    "    \"project_id\": PROJECT_ID,\n",
    "    \"location\": REGION,\n",
    "    \"batch_size\": 100,\n",
    "    \"library_version\": VDF_VERSION,\n",
    "    \"dir\": DATA_PATH,\n",
    "    \"filter_restricts\": [\n",
    "        {\n",
    "            \"namespace\": \"tag\",  # vertex VS namespace\n",
    "            \"allow_list\": [\"tag\"],  # col name\n",
    "        },\n",
    "    ],\n",
    "    \"numeric_restricts\": [{\"namespace\": \"score\", \"data_type\": \"value_int\"}],\n",
    "    \"crowding_tag\": \"crowding_tag\",\n",
    "    \"create_new_index\": False,\n",
    "    \"gcs_bucket\": BUCKET_NAME,\n",
    "    \"machine_type\": \"e2-standard-16\",\n",
    "    \"approx_nn_count\": 150,\n",
    "    \"leaf_node_emb_count\": 1000,\n",
    "    \"leaf_nodes_percent\": 7,\n",
    "    \"distance_measure\": \"DOT_PRODUCT_DISTANCE\",\n",
    "    \"deploy_new_index\": False,\n",
    "    \"machine_type\": \"e2-standard-16\",\n",
    "    \"min_replicas\": 1,\n",
    "    \"max_replicas\": 1,\n",
    "}\n",
    "pprint(my_import_args)"
   ]
  },
  {
   "cell_type": "code",
   "execution_count": 19,
   "id": "7188aeca-3eda-4f7f-acd6-dbe70720019c",
   "metadata": {
    "tags": []
   },
   "outputs": [
    {
     "name": "stdout",
     "output_type": "stream",
     "text": [
      "list_restrict_entries : [{'namespace': 'tag', 'allow_list': ['tag']}]\n",
      "list_of_numeric_entries : [{'namespace': 'score', 'data_type': 'value_int'}]\n",
      "checking if new_index_vv4 already exists...\n",
      "checking existing display_names and resource_names\n",
      "found existing index: projects/934903580331/locations/us-central1/indexes/2486448789192179712\n",
      "Importing to index : new_index_vv4\n",
      "Full resource name : projects/934903580331/locations/us-central1/indexes/2486448789192179712\n",
      "Target index config:\n",
      "{\n",
      "    \"dimensions\": 768.0,\n",
      "    \"approximateNeighborsCount\": 150.0,\n",
      "    \"distanceMeasureType\": \"DOT_PRODUCT_DISTANCE\",\n",
      "    \"algorithmConfig\": {\n",
      "        \"treeAhConfig\": {\n",
      "            \"leafNodeEmbeddingCount\": \"1000\",\n",
      "            \"leafNodesToSearchPercent\": 10.0\n",
      "        }\n",
      "    },\n",
      "    \"shardSize\": \"SHARD_SIZE_MEDIUM\"\n",
      "}\n"
     ]
    },
    {
     "data": {
      "text/plain": [
       "<src.import_vdf.jt_vertexai_vector_search_import.ImportVertexAIVectorSearch at 0x7f003c82b550>"
      ]
     },
     "execution_count": 19,
     "metadata": {},
     "output_type": "execute_result"
    }
   ],
   "source": [
    "import_vvs = ImportVertexAIVectorSearch(args=my_import_args)\n",
    "\n",
    "import_vvs"
   ]
  },
  {
   "cell_type": "code",
   "execution_count": 20,
   "id": "112a4dc2-314c-46e7-8890-97d6dd36714b",
   "metadata": {
    "tags": []
   },
   "outputs": [
    {
     "data": {
      "text/plain": [
       "{'author': 'jordantotten',\n",
       " 'exported_from': 'vertex',\n",
       " 'file_structure': ['notebooks/data/stack_overflow_parquet_pubv3/VDF_META.json',\n",
       "  'notebooks/data/stack_overflow_parquet_pubv3/files/so_tmpm4k5k6gq_2001.parquet',\n",
       "  'notebooks/data/stack_overflow_parquet_pubv3/files/so_tmpm4k5k6gq_2000.parquet',\n",
       "  'notebooks/data/stack_overflow_parquet_pubv3/files/so_tmpm4k5k6gq_2002.parquet'],\n",
       " 'version': 'v1',\n",
       " 'exported_at': '20240203-144741',\n",
       " 'indexes': {'test_so_index': [{'data_path': 'notebooks/data/stack_overflow_parquet_pubv3/files',\n",
       "    'dimensions': '768',\n",
       "    'exported_vector_count': 1000,\n",
       "    'metric': 'Dot',\n",
       "    'model_name': 'textembedding-gecko@001',\n",
       "    'namespace': 'so_questions',\n",
       "    'total_vector_count': 1000,\n",
       "    'vector_columns': ['embedding']}]}}"
      ]
     },
     "execution_count": 20,
     "metadata": {},
     "output_type": "execute_result"
    }
   ],
   "source": [
    "import_vvs.vdf_meta"
   ]
  },
  {
   "cell_type": "code",
   "execution_count": 21,
   "id": "e5117400-bc8c-469c-8b12-08e3b5d0045f",
   "metadata": {
    "tags": []
   },
   "outputs": [
    {
     "name": "stdout",
     "output_type": "stream",
     "text": [
      "Importing data from: test_so_index\n",
      "index_meta: [{'data_path': 'notebooks/data/stack_overflow_parquet_pubv3/files', 'dimensions': '768', 'exported_vector_count': 1000, 'metric': 'Dot', 'model_name': 'textembedding-gecko@001', 'namespace': 'so_questions', 'total_vector_count': 1000, 'vector_columns': ['embedding']}]\n",
      "data_path: notebooks/data/stack_overflow_parquet_pubv3/files\n",
      "vector_column_name    : embedding\n",
      "vector_metadata_names : ['embedding']\n"
     ]
    },
    {
     "name": "stderr",
     "output_type": "stream",
     "text": [
      "Inserting data: 100%|██████████| 3/3 [00:11<00:00,  3.94s/it]"
     ]
    },
    {
     "name": "stdout",
     "output_type": "stream",
     "text": [
      "Index import complete\n",
      "Updated new_index_vv4 with 3000 vectors\n"
     ]
    },
    {
     "name": "stderr",
     "output_type": "stream",
     "text": [
      "\n"
     ]
    }
   ],
   "source": [
    "import_vvs.upsert_data()"
   ]
  },
  {
   "cell_type": "code",
   "execution_count": 22,
   "id": "7bd410bc-153e-4ba9-acc3-26bb4e71bfe7",
   "metadata": {
    "tags": []
   },
   "outputs": [],
   "source": [
    "# import_vvs.list_index_endpoints"
   ]
  },
  {
   "cell_type": "markdown",
   "id": "172b2619-b5e3-4761-8133-18bd1c940374",
   "metadata": {},
   "source": [
    "## Validate imported vectors"
   ]
  },
  {
   "cell_type": "markdown",
   "id": "1e732fc2-f060-413b-a24b-94f90fbbd655",
   "metadata": {},
   "source": [
    "Vectors upserted via streaming updates are immeadetaley available for querying, but they will not be reflected in the indexes `vectorsCount` until the index is compacted (see details on [index compaction here](https://cloud.google.com/vertex-ai/docs/vector-search/update-rebuild-index#compaction))\n",
    "\n",
    "> Index compaction occurs when the uncompacted data size is > 1 GB or the oldest uncompacted data is at least three days old. \n",
    "\n",
    "Below, note the `indexStats`. Then verify ability to query newly upserted vector ID "
   ]
  },
  {
   "cell_type": "code",
   "execution_count": 23,
   "id": "9d85f0e3-0933-47ef-8ec2-7e6434965bef",
   "metadata": {
    "tags": []
   },
   "outputs": [
    {
     "name": "stdout",
     "output_type": "stream",
     "text": [
      "target_index_resource_name:\n",
      " projects/934903580331/locations/us-central1/indexes/2486448789192179712\n"
     ]
    },
    {
     "data": {
      "text/plain": [
       "{'name': 'projects/934903580331/locations/us-central1/indexes/2486448789192179712',\n",
       " 'displayName': 'new_index_vv4',\n",
       " 'description': 'created during vectorio import at 20240204_222701',\n",
       " 'metadataSchemaUri': 'gs://google-cloud-aiplatform/schema/matchingengine/metadata/nearest_neighbor_search_1.0.0.yaml',\n",
       " 'metadata': {'config': {'dimensions': 768.0,\n",
       "   'approximateNeighborsCount': 150.0,\n",
       "   'distanceMeasureType': 'DOT_PRODUCT_DISTANCE',\n",
       "   'algorithmConfig': {'treeAhConfig': {'leafNodeEmbeddingCount': '1000',\n",
       "     'leafNodesToSearchPercent': 10.0}},\n",
       "   'shardSize': 'SHARD_SIZE_MEDIUM'}},\n",
       " 'etag': 'AMEw9yNrFJej2PV6Vw34fz0RE2voRmjkD_LQe_mmn5J2AgTyUWw2JbgCynnIEoBVjCjM',\n",
       " 'createTime': '2024-02-04T22:27:01.899233Z',\n",
       " 'updateTime': '2024-02-04T22:27:08.611341Z',\n",
       " 'indexStats': {'vectorsCount': '1', 'shardsCount': 1},\n",
       " 'indexUpdateMethod': 'STREAM_UPDATE',\n",
       " 'encryptionSpec': {}}"
      ]
     },
     "execution_count": 23,
     "metadata": {},
     "output_type": "execute_result"
    }
   ],
   "source": [
    "print(f\"target_index_resource_name:\\n {import_vvs.target_index_resource_name}\")\n",
    "\n",
    "target_vs_index = aip.MatchingEngineIndex(import_vvs.target_index_resource_name)\n",
    "target_vs_index.to_dict()"
   ]
  },
  {
   "cell_type": "code",
   "execution_count": 24,
   "id": "d9eaf7f8-763b-415a-a1f7-410b34ef3ef3",
   "metadata": {
    "tags": []
   },
   "outputs": [
    {
     "data": {
      "text/plain": [
       "<google.cloud.aiplatform.matching_engine.matching_engine_index_endpoint.MatchingEngineIndexEndpoint object at 0x7effdcbaf820> \n",
       "resource name: projects/934903580331/locations/us-central1/indexEndpoints/5739455095037231104"
      ]
     },
     "execution_count": 24,
     "metadata": {},
     "output_type": "execute_result"
    }
   ],
   "source": [
    "my_index_endpoint = aip.MatchingEngineIndexEndpoint(ENDPOINT_RESOURCE_NAME)\n",
    "my_index_endpoint"
   ]
  },
  {
   "cell_type": "code",
   "execution_count": 25,
   "id": "f8470aa8-af79-4d48-8113-39fe5b3f3937",
   "metadata": {
    "tags": []
   },
   "outputs": [
    {
     "data": {
      "text/plain": [
       "['43154170', '43441856', '43460880']"
      ]
     },
     "execution_count": 25,
     "metadata": {},
     "output_type": "execute_result"
    }
   ],
   "source": [
    "ids_to_check = df_from_pq[\"id\"][:3].to_list()\n",
    "\n",
    "ids_to_check"
   ]
  },
  {
   "cell_type": "code",
   "execution_count": 26,
   "id": "fa333f3a-56a5-41c2-a37f-350098caa799",
   "metadata": {
    "tags": []
   },
   "outputs": [
    {
     "data": {
      "text/plain": [
       "3"
      ]
     },
     "execution_count": 26,
     "metadata": {},
     "output_type": "execute_result"
    }
   ],
   "source": [
    "read_response = my_index_endpoint.read_index_datapoints(\n",
    "    deployed_index_id=DEPLOYED_INDEX_ID,\n",
    "    ids=ids_to_check,\n",
    ")\n",
    "len(read_response)"
   ]
  },
  {
   "cell_type": "markdown",
   "id": "99f96ae2-aa1c-4786-88f4-558dea53e676",
   "metadata": {
    "tags": []
   },
   "source": [
    "# Notes"
   ]
  },
  {
   "cell_type": "markdown",
   "id": "8c02c005-a783-46f7-bae7-93f32ee39a62",
   "metadata": {},
   "source": [
    "### Format vectors\n",
    "\n",
    "```\n",
    "        # Append to file\n",
    "        embeddings_formatted = [\n",
    "            json.dumps(\n",
    "                {\n",
    "                    \"id\": str(id),\n",
    "                    \"embedding\": [\n",
    "                        str(value) for value in embedding\n",
    "                    ],\n",
    "                    \"restricts\": [\n",
    "                        {\"namespace\": \"tags\", \"allow\": [str(tag_r)]}\n",
    "                    ],\n",
    "                    \"numeric_restricts\": [\n",
    "                        {\"namespace\": \"score\", \"value_int\": int(score)}\n",
    "                    ],\n",
    "                    \"crowding_tag\": str(tag_crowd)\n",
    "                }\n",
    "            )\n",
    "            + \"\\n\"\n",
    "            # for id, embedding in zip(id_chunk[is_successful], question_chunk_embeddings)\n",
    "            for id, embedding, tag_r, score, tag_crowd in zip(\n",
    "                id_chunk[is_successful], \n",
    "                question_chunk_embeddings, \n",
    "                tags_restrict, \n",
    "                scores_chunk, \n",
    "                tags_crowd\n",
    "            )\n",
    "        ]\n",
    "        f.writelines(embeddings_formatted)\n",
    "```"
   ]
  },
  {
   "cell_type": "markdown",
   "id": "f8422ce2-2187-4539-b397-9a88b5bbfc11",
   "metadata": {},
   "source": [
    "**Finished**"
   ]
  }
 ],
 "metadata": {
  "environment": {
   "kernel": "python3",
   "name": "tf2-gpu.2-13.m115",
   "type": "gcloud",
   "uri": "gcr.io/deeplearning-platform-release/tf2-gpu.2-13:m115"
  },
  "kernelspec": {
   "display_name": "Python 3",
   "language": "python",
   "name": "python3"
  },
  "language_info": {
   "codemirror_mode": {
    "name": "ipython",
    "version": 3
   },
   "file_extension": ".py",
   "mimetype": "text/x-python",
   "name": "python",
   "nbconvert_exporter": "python",
   "pygments_lexer": "ipython3",
   "version": "3.10.13"
  }
 },
 "nbformat": 4,
 "nbformat_minor": 5
}
