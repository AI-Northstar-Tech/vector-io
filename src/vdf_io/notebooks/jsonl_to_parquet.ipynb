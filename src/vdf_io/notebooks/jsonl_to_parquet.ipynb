{
 "cells": [
  {
   "cell_type": "markdown",
   "metadata": {},
   "source": [
    "# Import Required Libraries\n",
    "Import the necessary libraries, including pandas and pyarrow."
   ]
  },
  {
   "cell_type": "code",
   "execution_count": 1,
   "metadata": {},
   "outputs": [],
   "source": [
    "# Importing required libraries\n",
    "import pandas as pd\n",
    "import pyarrow as pa\n",
    "import pyarrow.parquet as pq"
   ]
  },
  {
   "cell_type": "markdown",
   "metadata": {},
   "source": [
    "# Load JSONL File\n",
    "Use pandas to load the jsonl file into a DataFrame."
   ]
  },
  {
   "cell_type": "code",
   "execution_count": 2,
   "metadata": {},
   "outputs": [],
   "source": [
    "# Load JSONL File\n",
    "jsonl_file = '/Users/dhruvanand/Downloads/579aac087579b5acbc881164eb7af8b8-662d020154513ab1ef571e325a8fc649ebf64561/o200k_tokens.jsonl'\n"
   ]
  },
  {
   "cell_type": "markdown",
   "metadata": {},
   "source": [
    "# Convert JSONL to DataFrame\n",
    "Convert the loaded jsonl data into a pandas DataFrame."
   ]
  },
  {
   "cell_type": "code",
   "execution_count": 3,
   "metadata": {},
   "outputs": [],
   "source": [
    "# Convert JSONL to DataFrame\n",
    "df = pd.read_json(jsonl_file, lines=True)  # Convert the loaded jsonl data into a pandas DataFrame"
   ]
  },
  {
   "cell_type": "code",
   "execution_count": 4,
   "metadata": {},
   "outputs": [
    {
     "data": {
      "text/html": [
       "<div>\n",
       "<style scoped>\n",
       "    .dataframe tbody tr th:only-of-type {\n",
       "        vertical-align: middle;\n",
       "    }\n",
       "\n",
       "    .dataframe tbody tr th {\n",
       "        vertical-align: top;\n",
       "    }\n",
       "\n",
       "    .dataframe thead th {\n",
       "        text-align: right;\n",
       "    }\n",
       "</style>\n",
       "<table border=\"1\" class=\"dataframe\">\n",
       "  <thead>\n",
       "    <tr style=\"text-align: right;\">\n",
       "      <th></th>\n",
       "      <th>token</th>\n",
       "      <th>token_id</th>\n",
       "      <th>type</th>\n",
       "      <th>language</th>\n",
       "      <th>definition</th>\n",
       "    </tr>\n",
       "  </thead>\n",
       "  <tbody>\n",
       "    <tr>\n",
       "      <th>0</th>\n",
       "      <td>ا</td>\n",
       "      <td>496</td>\n",
       "      <td>subword</td>\n",
       "      <td>Arabic</td>\n",
       "      <td>This is a letter in the Arabic alphabet, repre...</td>\n",
       "    </tr>\n",
       "    <tr>\n",
       "      <th>1</th>\n",
       "      <td>ال</td>\n",
       "      <td>589</td>\n",
       "      <td>subword</td>\n",
       "      <td>Arabic</td>\n",
       "      <td>The (definite article)</td>\n",
       "    </tr>\n",
       "    <tr>\n",
       "      <th>2</th>\n",
       "      <td>п</td>\n",
       "      <td>648</td>\n",
       "      <td>subword</td>\n",
       "      <td>Russian</td>\n",
       "      <td>This is the Cyrillic letter 'п', which is the ...</td>\n",
       "    </tr>\n",
       "    <tr>\n",
       "      <th>3</th>\n",
       "      <td>с</td>\n",
       "      <td>669</td>\n",
       "      <td>subword</td>\n",
       "      <td>Russian</td>\n",
       "      <td>The Cyrillic letter 'с', which represents the ...</td>\n",
       "    </tr>\n",
       "    <tr>\n",
       "      <th>4</th>\n",
       "      <td>ра</td>\n",
       "      <td>714</td>\n",
       "      <td>Subword</td>\n",
       "      <td>Russian</td>\n",
       "      <td>This is a Cyrillic character that is part of a...</td>\n",
       "    </tr>\n",
       "  </tbody>\n",
       "</table>\n",
       "</div>"
      ],
      "text/plain": [
       "  token  token_id     type language  \\\n",
       "0     ا       496  subword   Arabic   \n",
       "1    ال       589  subword   Arabic   \n",
       "2     п       648  subword  Russian   \n",
       "3     с       669  subword  Russian   \n",
       "4    ра       714  Subword  Russian   \n",
       "\n",
       "                                          definition  \n",
       "0  This is a letter in the Arabic alphabet, repre...  \n",
       "1                             The (definite article)  \n",
       "2  This is the Cyrillic letter 'п', which is the ...  \n",
       "3  The Cyrillic letter 'с', which represents the ...  \n",
       "4  This is a Cyrillic character that is part of a...  "
      ]
     },
     "execution_count": 4,
     "metadata": {},
     "output_type": "execute_result"
    }
   ],
   "source": [
    "df.head()"
   ]
  },
  {
   "cell_type": "code",
   "execution_count": 5,
   "metadata": {},
   "outputs": [
    {
     "data": {
      "text/plain": [
       "64465"
      ]
     },
     "execution_count": 5,
     "metadata": {},
     "output_type": "execute_result"
    }
   ],
   "source": [
    "len(df)"
   ]
  },
  {
   "cell_type": "code",
   "execution_count": 7,
   "metadata": {},
   "outputs": [
    {
     "name": "stdout",
     "output_type": "stream",
     "text": [
      "<class 'pandas.core.frame.DataFrame'>\n",
      "Index: 64465 entries, 0 to 64464\n",
      "Data columns (total 5 columns):\n",
      " #   Column      Non-Null Count  Dtype \n",
      "---  ------      --------------  ----- \n",
      " 0   token       64465 non-null  object\n",
      " 1   token_id    64465 non-null  int64 \n",
      " 2   type        64420 non-null  object\n",
      " 3   language    64420 non-null  object\n",
      " 4   definition  64416 non-null  object\n",
      "dtypes: int64(1), object(4)\n",
      "memory usage: 3.0+ MB\n"
     ]
    }
   ],
   "source": [
    "# summary of df\n",
    "df.info()"
   ]
  },
  {
   "cell_type": "code",
   "execution_count": 9,
   "metadata": {},
   "outputs": [],
   "source": [
    "df['token_length'] = df['token'].apply(lambda x: len(x))"
   ]
  },
  {
   "cell_type": "code",
   "execution_count": 10,
   "metadata": {},
   "outputs": [],
   "source": [
    "df.to_parquet('/Users/dhruvanand/Downloads/579aac087579b5acbc881164eb7af8b8-662d020154513ab1ef571e325a8fc649ebf64561/'+'o200k_tokens.parquet', engine='pyarrow')"
   ]
  },
  {
   "cell_type": "code",
   "execution_count": 12,
   "metadata": {},
   "outputs": [
    {
     "data": {
      "text/plain": [
       "{'topic': 'SEO',\n",
       " 'objective': {'self': [], 'paired': [['query', 'document']], 'triplet': []}}"
      ]
     },
     "execution_count": 12,
     "metadata": {},
     "output_type": "execute_result"
    }
   ],
   "source": [
    "df['metadata'].iloc[3]"
   ]
  },
  {
   "cell_type": "code",
   "execution_count": 10,
   "metadata": {},
   "outputs": [
    {
     "data": {
      "text/plain": [
       "{'topic': \"Women's Conversation\",\n",
       " 'objective': {'self': [],\n",
       "  'paired': [['anchor', 'entailment']],\n",
       "  'triplet': [['anchor', 'entailment', 'contradiction']]}}"
      ]
     },
     "execution_count": 10,
     "metadata": {},
     "output_type": "execute_result"
    }
   ],
   "source": [
    "df.iloc[0].metadata"
   ]
  },
  {
   "cell_type": "markdown",
   "metadata": {},
   "source": [
    "# Save DataFrame as Parquet\n",
    "Use the to_parquet() function to save the DataFrame as a parquet file."
   ]
  },
  {
   "cell_type": "code",
   "execution_count": 12,
   "metadata": {},
   "outputs": [],
   "source": [
    "# Save DataFrame as Parquet\n",
    "for comp in ['snappy', 'gzip', 'brotli', 'zstd']:\n",
    "    parquet_file = f'path_to_output_file-{comp}.parquet'  # replace with your desired output parquet file path\n",
    "    df.to_parquet(parquet_file, engine='pyarrow', compression=comp)"
   ]
  },
  {
   "cell_type": "code",
   "execution_count": null,
   "metadata": {},
   "outputs": [],
   "source": []
  }
 ],
 "metadata": {
  "kernelspec": {
   "display_name": "base",
   "language": "python",
   "name": "python3"
  },
  "language_info": {
   "codemirror_mode": {
    "name": "ipython",
    "version": 3
   },
   "file_extension": ".py",
   "mimetype": "text/x-python",
   "name": "python",
   "nbconvert_exporter": "python",
   "pygments_lexer": "ipython3",
   "version": "3.10.12"
  },
  "orig_nbformat": 4
 },
 "nbformat": 4,
 "nbformat_minor": 2
}
