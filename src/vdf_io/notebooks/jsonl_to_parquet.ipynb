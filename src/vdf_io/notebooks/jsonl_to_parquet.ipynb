{
 "cells": [
  {
   "cell_type": "markdown",
   "metadata": {},
   "source": [
    "# Import Required Libraries\n",
    "Import the necessary libraries, including pandas and pyarrow."
   ]
  },
  {
   "cell_type": "code",
   "execution_count": 4,
   "metadata": {},
   "outputs": [],
   "source": [
    "# Importing required libraries\n",
    "import pandas as pd"
   ]
  },
  {
   "cell_type": "markdown",
   "metadata": {},
   "source": [
    "# Load JSONL File\n",
    "Use pandas to load the jsonl file into a DataFrame."
   ]
  },
  {
   "cell_type": "code",
   "execution_count": 5,
   "metadata": {},
   "outputs": [],
   "source": [
    "# Load JSONL File\n",
    "jsonl_file = \"/Users/dhruvanand/Code/datasets-dumps/shard-00000.jsonl 2\""
   ]
  },
  {
   "cell_type": "markdown",
   "metadata": {},
   "source": [
    "# Convert JSONL to DataFrame\n",
    "Convert the loaded jsonl data into a pandas DataFrame."
   ]
  },
  {
   "cell_type": "code",
   "execution_count": 6,
   "metadata": {},
   "outputs": [],
   "source": [
    "# Convert JSONL to DataFrame\n",
    "df = pd.read_json(\n",
    "    jsonl_file, lines=True\n",
    ")  # Convert the loaded jsonl data into a pandas DataFrame"
   ]
  },
  {
   "cell_type": "code",
   "execution_count": 7,
   "metadata": {},
   "outputs": [
    {
     "data": {
      "text/html": [
       "<div>\n",
       "<style scoped>\n",
       "    .dataframe tbody tr th:only-of-type {\n",
       "        vertical-align: middle;\n",
       "    }\n",
       "\n",
       "    .dataframe tbody tr th {\n",
       "        vertical-align: top;\n",
       "    }\n",
       "\n",
       "    .dataframe thead th {\n",
       "        text-align: right;\n",
       "    }\n",
       "</style>\n",
       "<table border=\"1\" class=\"dataframe\">\n",
       "  <thead>\n",
       "    <tr style=\"text-align: right;\">\n",
       "      <th></th>\n",
       "      <th>query</th>\n",
       "      <th>document</th>\n",
       "      <th>metadata</th>\n",
       "    </tr>\n",
       "  </thead>\n",
       "  <tbody>\n",
       "    <tr>\n",
       "      <th>0</th>\n",
       "      <td>What animals prey on meerkats?</td>\n",
       "      <td>What animals prey of the meerkats?</td>\n",
       "      <td>{'topic': 'Animals', 'objective': {'self': [],...</td>\n",
       "    </tr>\n",
       "    <tr>\n",
       "      <th>1</th>\n",
       "      <td>What is the most pointless question you have s...</td>\n",
       "      <td>What is the most idiotic, or pointless, questi...</td>\n",
       "      <td>{'topic': 'Quora (2)', 'objective': {'self': [...</td>\n",
       "    </tr>\n",
       "    <tr>\n",
       "      <th>2</th>\n",
       "      <td>Can we apply online for net banking in sbi?</td>\n",
       "      <td>Can I apply for internet banking in SBI withou...</td>\n",
       "      <td>{'topic': 'Personal finance', 'objective': {'s...</td>\n",
       "    </tr>\n",
       "    <tr>\n",
       "      <th>3</th>\n",
       "      <td>What are the best SEO strategies for 2017?</td>\n",
       "      <td>What is the best SEO strategies in 2017?</td>\n",
       "      <td>{'topic': 'SEO', 'objective': {'self': [], 'pa...</td>\n",
       "    </tr>\n",
       "    <tr>\n",
       "      <th>4</th>\n",
       "      <td>What is particle spin?</td>\n",
       "      <td>What is spin? What are the causes for a partic...</td>\n",
       "      <td>{'topic': 'Chromatography', 'objective': {'sel...</td>\n",
       "    </tr>\n",
       "  </tbody>\n",
       "</table>\n",
       "</div>"
      ],
      "text/plain": [
       "                                               query  \\\n",
       "0                     What animals prey on meerkats?   \n",
       "1  What is the most pointless question you have s...   \n",
       "2        Can we apply online for net banking in sbi?   \n",
       "3         What are the best SEO strategies for 2017?   \n",
       "4                             What is particle spin?   \n",
       "\n",
       "                                            document  \\\n",
       "0                 What animals prey of the meerkats?   \n",
       "1  What is the most idiotic, or pointless, questi...   \n",
       "2  Can I apply for internet banking in SBI withou...   \n",
       "3           What is the best SEO strategies in 2017?   \n",
       "4  What is spin? What are the causes for a partic...   \n",
       "\n",
       "                                            metadata  \n",
       "0  {'topic': 'Animals', 'objective': {'self': [],...  \n",
       "1  {'topic': 'Quora (2)', 'objective': {'self': [...  \n",
       "2  {'topic': 'Personal finance', 'objective': {'s...  \n",
       "3  {'topic': 'SEO', 'objective': {'self': [], 'pa...  \n",
       "4  {'topic': 'Chromatography', 'objective': {'sel...  "
      ]
     },
     "execution_count": 7,
     "metadata": {},
     "output_type": "execute_result"
    }
   ],
   "source": [
    "df.head()"
   ]
  },
  {
   "cell_type": "code",
   "execution_count": 12,
   "metadata": {},
   "outputs": [
    {
     "data": {
      "text/plain": [
       "{'topic': 'SEO',\n",
       " 'objective': {'self': [], 'paired': [['query', 'document']], 'triplet': []}}"
      ]
     },
     "execution_count": 12,
     "metadata": {},
     "output_type": "execute_result"
    }
   ],
   "source": [
    "df[\"metadata\"].iloc[3]"
   ]
  },
  {
   "cell_type": "code",
   "execution_count": 10,
   "metadata": {},
   "outputs": [
    {
     "data": {
      "text/plain": [
       "{'topic': \"Women's Conversation\",\n",
       " 'objective': {'self': [],\n",
       "  'paired': [['anchor', 'entailment']],\n",
       "  'triplet': [['anchor', 'entailment', 'contradiction']]}}"
      ]
     },
     "execution_count": 10,
     "metadata": {},
     "output_type": "execute_result"
    }
   ],
   "source": [
    "df.iloc[0].metadata"
   ]
  },
  {
   "cell_type": "markdown",
   "metadata": {},
   "source": [
    "# Save DataFrame as Parquet\n",
    "Use the to_parquet() function to save the DataFrame as a parquet file."
   ]
  },
  {
   "cell_type": "code",
   "execution_count": 12,
   "metadata": {},
   "outputs": [],
   "source": [
    "# Save DataFrame as Parquet\n",
    "for comp in [\"snappy\", \"gzip\", \"brotli\", \"zstd\"]:\n",
    "    parquet_file = f\"path_to_output_file-{comp}.parquet\"  # replace with your desired output parquet file path\n",
    "    df.to_parquet(parquet_file, engine=\"pyarrow\", compression=comp)"
   ]
  },
  {
   "cell_type": "code",
   "execution_count": null,
   "metadata": {},
   "outputs": [],
   "source": []
  }
 ],
 "metadata": {
  "kernelspec": {
   "display_name": "base",
   "language": "python",
   "name": "python3"
  },
  "language_info": {
   "codemirror_mode": {
    "name": "ipython",
    "version": 3
   },
   "file_extension": ".py",
   "mimetype": "text/x-python",
   "name": "python",
   "nbconvert_exporter": "python",
   "pygments_lexer": "ipython3",
   "version": "3.10.12"
  },
  "orig_nbformat": 4
 },
 "nbformat": 4,
 "nbformat_minor": 2
}
