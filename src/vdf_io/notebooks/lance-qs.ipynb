{
 "cells": [
  {
   "cell_type": "code",
   "execution_count": 1,
   "metadata": {},
   "outputs": [
    {
     "name": "stdout",
     "output_type": "stream",
     "text": [
      "Collecting lancedb\n",
      "  Obtaining dependency information for lancedb from https://files.pythonhosted.org/packages/df/11/396439668907e6c959549dd0f2bc0771fcb1aed119adf46157f226eaf3a8/lancedb-0.6.2-cp38-abi3-macosx_11_0_arm64.whl.metadata\n",
      "  Downloading lancedb-0.6.2-cp38-abi3-macosx_11_0_arm64.whl.metadata (4.6 kB)\n",
      "Collecting deprecation (from lancedb)\n",
      "  Obtaining dependency information for deprecation from https://files.pythonhosted.org/packages/02/c3/253a89ee03fc9b9682f1541728eb66db7db22148cd94f89ab22528cd1e1b/deprecation-2.1.0-py2.py3-none-any.whl.metadata\n",
      "  Downloading deprecation-2.1.0-py2.py3-none-any.whl.metadata (4.6 kB)\n",
      "Collecting pylance==0.10.2 (from lancedb)\n",
      "  Obtaining dependency information for pylance==0.10.2 from https://files.pythonhosted.org/packages/4e/56/e46bd80259017da7408d883e1bd7abc605ad0a51741ceeba874c72a6b50e/pylance-0.10.2-cp38-abi3-macosx_11_0_arm64.whl.metadata\n",
      "  Downloading pylance-0.10.2-cp38-abi3-macosx_11_0_arm64.whl.metadata (7.2 kB)\n",
      "Collecting ratelimiter~=1.0 (from lancedb)\n",
      "  Obtaining dependency information for ratelimiter~=1.0 from https://files.pythonhosted.org/packages/51/80/2164fa1e863ad52cc8d870855fba0fbb51edd943edffd516d54b5f6f8ff8/ratelimiter-1.2.0.post0-py3-none-any.whl.metadata\n",
      "  Downloading ratelimiter-1.2.0.post0-py3-none-any.whl.metadata (4.0 kB)\n",
      "Collecting retry>=0.9.2 (from lancedb)\n",
      "  Obtaining dependency information for retry>=0.9.2 from https://files.pythonhosted.org/packages/4b/0d/53aea75710af4528a25ed6837d71d117602b01946b307a3912cb3cfcbcba/retry-0.9.2-py2.py3-none-any.whl.metadata\n",
      "  Downloading retry-0.9.2-py2.py3-none-any.whl.metadata (5.8 kB)\n",
      "Requirement already satisfied: tqdm>=4.27.0 in /Users/dhruvanand/miniforge3/lib/python3.10/site-packages (from lancedb) (4.66.1)\n",
      "Requirement already satisfied: pydantic>=1.10 in /Users/dhruvanand/miniforge3/lib/python3.10/site-packages (from lancedb) (2.5.3)\n",
      "Requirement already satisfied: attrs>=21.3.0 in /Users/dhruvanand/miniforge3/lib/python3.10/site-packages (from lancedb) (23.2.0)\n",
      "Collecting semver>=3.0 (from lancedb)\n",
      "  Obtaining dependency information for semver>=3.0 from https://files.pythonhosted.org/packages/9a/77/0cc7a8a3bc7e53d07e8f47f147b92b0960e902b8254859f4aee5c4d7866b/semver-3.0.2-py3-none-any.whl.metadata\n",
      "  Downloading semver-3.0.2-py3-none-any.whl.metadata (5.0 kB)\n",
      "Requirement already satisfied: cachetools in /Users/dhruvanand/miniforge3/lib/python3.10/site-packages (from lancedb) (5.3.2)\n",
      "Requirement already satisfied: pyyaml>=6.0 in /Users/dhruvanand/miniforge3/lib/python3.10/site-packages (from lancedb) (6.0.1)\n",
      "Requirement already satisfied: click>=8.1.7 in /Users/dhruvanand/miniforge3/lib/python3.10/site-packages (from lancedb) (8.1.7)\n",
      "Requirement already satisfied: requests>=2.31.0 in /Users/dhruvanand/miniforge3/lib/python3.10/site-packages (from lancedb) (2.31.0)\n",
      "Requirement already satisfied: overrides>=0.7 in /Users/dhruvanand/miniforge3/lib/python3.10/site-packages (from lancedb) (7.7.0)\n",
      "Requirement already satisfied: pyarrow>=12 in /Users/dhruvanand/miniforge3/lib/python3.10/site-packages (from pylance==0.10.2->lancedb) (14.0.2)\n",
      "Requirement already satisfied: numpy>=1.22 in /Users/dhruvanand/miniforge3/lib/python3.10/site-packages (from pylance==0.10.2->lancedb) (1.26.3)\n",
      "Requirement already satisfied: annotated-types>=0.4.0 in /Users/dhruvanand/miniforge3/lib/python3.10/site-packages (from pydantic>=1.10->lancedb) (0.6.0)\n",
      "Requirement already satisfied: pydantic-core==2.14.6 in /Users/dhruvanand/miniforge3/lib/python3.10/site-packages (from pydantic>=1.10->lancedb) (2.14.6)\n",
      "Requirement already satisfied: typing-extensions>=4.6.1 in /Users/dhruvanand/miniforge3/lib/python3.10/site-packages (from pydantic>=1.10->lancedb) (4.9.0)\n",
      "Requirement already satisfied: charset-normalizer<4,>=2 in /Users/dhruvanand/miniforge3/lib/python3.10/site-packages (from requests>=2.31.0->lancedb) (3.3.2)\n",
      "Requirement already satisfied: idna<4,>=2.5 in /Users/dhruvanand/miniforge3/lib/python3.10/site-packages (from requests>=2.31.0->lancedb) (3.6)\n",
      "Requirement already satisfied: urllib3<3,>=1.21.1 in /Users/dhruvanand/miniforge3/lib/python3.10/site-packages (from requests>=2.31.0->lancedb) (2.1.0)\n",
      "Requirement already satisfied: certifi>=2017.4.17 in /Users/dhruvanand/miniforge3/lib/python3.10/site-packages (from requests>=2.31.0->lancedb) (2023.11.17)\n",
      "Requirement already satisfied: decorator>=3.4.2 in /Users/dhruvanand/miniforge3/lib/python3.10/site-packages (from retry>=0.9.2->lancedb) (5.1.1)\n",
      "Collecting py<2.0.0,>=1.4.26 (from retry>=0.9.2->lancedb)\n",
      "  Obtaining dependency information for py<2.0.0,>=1.4.26 from https://files.pythonhosted.org/packages/f6/f0/10642828a8dfb741e5f3fbaac830550a518a775c7fff6f04a007259b0548/py-1.11.0-py2.py3-none-any.whl.metadata\n",
      "  Downloading py-1.11.0-py2.py3-none-any.whl.metadata (2.8 kB)\n",
      "Requirement already satisfied: packaging in /Users/dhruvanand/miniforge3/lib/python3.10/site-packages (from deprecation->lancedb) (23.2)\n",
      "Downloading lancedb-0.6.2-cp38-abi3-macosx_11_0_arm64.whl (17.2 MB)\n",
      "\u001b[2K   \u001b[90m━━━━━━━━━━━━━━━━━━━━━━━━━━━━━━━━━━━━━━━━\u001b[0m \u001b[32m17.2/17.2 MB\u001b[0m \u001b[31m23.5 MB/s\u001b[0m eta \u001b[36m0:00:00\u001b[0m00:01\u001b[0m00:01\u001b[0m\n",
      "\u001b[?25hDownloading pylance-0.10.2-cp38-abi3-macosx_11_0_arm64.whl (18.8 MB)\n",
      "\u001b[2K   \u001b[90m━━━━━━━━━━━━━━━━━━━━━━━━━━━━━━━━━━━━━━━━\u001b[0m \u001b[32m18.8/18.8 MB\u001b[0m \u001b[31m21.5 MB/s\u001b[0m eta \u001b[36m0:00:00\u001b[0m00:01\u001b[0m00:01\u001b[0m\n",
      "\u001b[?25hDownloading ratelimiter-1.2.0.post0-py3-none-any.whl (6.6 kB)\n",
      "Downloading retry-0.9.2-py2.py3-none-any.whl (8.0 kB)\n",
      "Downloading semver-3.0.2-py3-none-any.whl (17 kB)\n",
      "Downloading deprecation-2.1.0-py2.py3-none-any.whl (11 kB)\n",
      "Downloading py-1.11.0-py2.py3-none-any.whl (98 kB)\n",
      "\u001b[2K   \u001b[90m━━━━━━━━━━━━━━━━━━━━━━━━━━━━━━━━━━━━━━━━\u001b[0m \u001b[32m98.7/98.7 kB\u001b[0m \u001b[31m1.3 MB/s\u001b[0m eta \u001b[36m0:00:00\u001b[0ma \u001b[36m0:00:01\u001b[0m\n",
      "\u001b[?25hInstalling collected packages: ratelimiter, semver, py, deprecation, retry, pylance, lancedb\n",
      "Successfully installed deprecation-2.1.0 lancedb-0.6.2 py-1.11.0 pylance-0.10.2 ratelimiter-1.2.0.post0 retry-0.9.2 semver-3.0.2\n",
      "Note: you may need to restart the kernel to use updated packages.\n"
     ]
    }
   ],
   "source": [
    "%pip install lancedb"
   ]
  },
  {
   "cell_type": "code",
   "execution_count": 1,
   "metadata": {
    "metadata": {}
   },
   "outputs": [],
   "source": [
    "import lancedb\n",
    "\n",
    "uri = \"~/.lancedb\"\n",
    "db = lancedb.connect(uri)"
   ]
  },
  {
   "cell_type": "code",
   "execution_count": 3,
   "metadata": {},
   "outputs": [],
   "source": [
    "tbl = db.create_table(\n",
    "    \"my_table\",\n",
    "    data=[\n",
    "        {\"vector\": [3.1, 4.1], \"item\": \"foo\", \"price\": 10.0},\n",
    "        {\"vector\": [5.9, 26.5], \"item\": \"bar\", \"price\": 20.0},\n",
    "    ],\n",
    ")"
   ]
  },
  {
   "cell_type": "code",
   "execution_count": 4,
   "metadata": {
    "metadata": {}
   },
   "outputs": [],
   "source": [
    "tbl = db.open_table(\"my_table\")"
   ]
  },
  {
   "cell_type": "code",
   "execution_count": 5,
   "metadata": {
    "metadata": {}
   },
   "outputs": [],
   "source": [
    "data = [\n",
    "    {\"vector\": [1.3, 1.4], \"item\": \"fizz\", \"price\": 100.0},\n",
    "    {\"vector\": [9.5, 56.2], \"item\": \"buzz\", \"price\": 200.0},\n",
    "]\n",
    "tbl.add(data)\n",
    "\n",
    "# add 500 random items\n",
    "import random\n",
    "\n",
    "data = [\n",
    "    {\n",
    "        \"vector\": [random.random(), random.random()],\n",
    "        \"item\": \"item_{}\".format(i),\n",
    "        \"price\": random.random() * 100,\n",
    "    }\n",
    "    for i in range(500)\n",
    "]\n",
    "tbl.add(data)"
   ]
  },
  {
   "cell_type": "code",
   "execution_count": 6,
   "metadata": {
    "metadata": {}
   },
   "outputs": [
    {
     "name": "stdout",
     "output_type": "stream",
     "text": [
      "2\n"
     ]
    }
   ],
   "source": [
    "import pyarrow\n",
    "\n",
    "tbl.schema, type(tbl.schema)\n",
    "for name in tbl.schema.names:\n",
    "    if pyarrow.types.is_fixed_size_list(tbl.schema.field(name).type):\n",
    "        print(tbl.schema.field(name).type.list_size)"
   ]
  },
  {
   "cell_type": "code",
   "execution_count": 2,
   "metadata": {
    "metadata": {}
   },
   "outputs": [
    {
     "ename": "NameError",
     "evalue": "name 'tbl' is not defined",
     "output_type": "error",
     "traceback": [
      "\u001b[0;31m---------------------------------------------------------------------------\u001b[0m",
      "\u001b[0;31mNameError\u001b[0m                                 Traceback (most recent call last)",
      "Cell \u001b[0;32mIn[2], line 2\u001b[0m\n\u001b[1;32m      1\u001b[0m \u001b[38;5;28;01mimport\u001b[39;00m \u001b[38;5;21;01mpyarrow\u001b[39;00m\n\u001b[0;32m----> 2\u001b[0m \u001b[43mtbl\u001b[49m\u001b[38;5;241m.\u001b[39mschema\u001b[38;5;241m.\u001b[39mfield(tbl\u001b[38;5;241m.\u001b[39mschema\u001b[38;5;241m.\u001b[39mnames[\u001b[38;5;241m0\u001b[39m])\u001b[38;5;241m.\u001b[39mtype \u001b[38;5;129;01mis\u001b[39;00m pyarrow\u001b[38;5;241m.\u001b[39mfixed_size_list(\u001b[38;5;241m2\u001b[39m, pyarrow\u001b[38;5;241m.\u001b[39mfloat64())\n",
      "\u001b[0;31mNameError\u001b[0m: name 'tbl' is not defined"
     ]
    }
   ],
   "source": [
    "import pyarrow\n",
    "\n",
    "tbl.schema.field(tbl.schema.names[0]).type is pyarrow.fixed_size_list(\n",
    "    2, pyarrow.float64()\n",
    ")"
   ]
  },
  {
   "cell_type": "code",
   "execution_count": 32,
   "metadata": {},
   "outputs": [],
   "source": [
    "tbl.create_index(num_partitions=1, num_sub_vectors=1)"
   ]
  },
  {
   "cell_type": "code",
   "execution_count": 42,
   "metadata": {},
   "outputs": [
    {
     "data": {
      "text/plain": [
       "504"
      ]
     },
     "execution_count": 42,
     "metadata": {},
     "output_type": "execute_result"
    }
   ],
   "source": [
    "len(tbl)"
   ]
  },
  {
   "cell_type": "code",
   "execution_count": 39,
   "metadata": {},
   "outputs": [
    {
     "data": {
      "text/plain": [
       "504"
      ]
     },
     "execution_count": 39,
     "metadata": {},
     "output_type": "execute_result"
    }
   ],
   "source": [
    "len(tbl)"
   ]
  },
  {
   "cell_type": "code",
   "execution_count": null,
   "metadata": {},
   "outputs": [],
   "source": []
  }
 ],
 "metadata": {
  "kernelspec": {
   "display_name": "base",
   "language": "python",
   "name": "python3"
  },
  "language_info": {
   "codemirror_mode": {
    "name": "ipython",
    "version": 3
   },
   "file_extension": ".py",
   "mimetype": "text/x-python",
   "name": "python",
   "nbconvert_exporter": "python",
   "pygments_lexer": "ipython3",
   "version": "3.10.12"
  }
 },
 "nbformat": 4,
 "nbformat_minor": 2
}
