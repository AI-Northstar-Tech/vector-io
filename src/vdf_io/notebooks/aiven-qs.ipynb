{
 "cells": [
  {
   "cell_type": "code",
   "execution_count": 6,
   "metadata": {
    "metadata": {}
   },
   "outputs": [
    {
     "data": {
      "text/plain": [
       "True"
      ]
     },
     "execution_count": 6,
     "metadata": {},
     "output_type": "execute_result"
    }
   ],
   "source": [
    "import os\n",
    "from dotenv import load_dotenv, find_dotenv\n",
    "\n",
    "load_dotenv(find_dotenv(), override=True)"
   ]
  },
  {
   "cell_type": "code",
   "execution_count": 14,
   "metadata": {
    "metadata": {}
   },
   "outputs": [],
   "source": [
    "from rich import print as rprint"
   ]
  },
  {
   "cell_type": "code",
   "execution_count": 22,
   "metadata": {
    "metadata": {}
   },
   "outputs": [
    {
     "name": "stderr",
     "output_type": "stream",
     "text": [
      "/var/folders/96/56v2bn1x2gjd39_zw8jp9_s80000gn/T/ipykernel_56067/2584511371.py:12: DeprecationWarning: Legacy execution parameters will be removed in 4.0. Consider using execution profiles.\n",
      "  with Cluster(\n",
      "/var/folders/96/56v2bn1x2gjd39_zw8jp9_s80000gn/T/ipykernel_56067/2584511371.py:12: DeprecationWarning: Using ssl_options without ssl_context is deprecated and will result in an error in the next major release. Please use ssl_context to prepare for that release.\n",
      "  with Cluster(\n"
     ]
    },
    {
     "name": "stdout",
     "output_type": "stream",
     "text": [
      "Connected to cluster: 8568f72b-f05b-4592-b3a1-1a4b710821dd\n"
     ]
    },
    {
     "data": {
      "text/html": [
       "<pre style=\"white-space:pre;overflow-x:auto;line-height:normal;font-family:Menlo,'DejaVu Sans Mono',consolas,'Courier New',monospace\"><span style=\"font-weight: bold\">{</span>\n",
       "    <span style=\"font-weight: bold\">&lt;</span><span style=\"color: #ff00ff; text-decoration-color: #ff00ff; font-weight: bold\">Murmur3Token:</span><span style=\"color: #000000; text-decoration-color: #000000\"> </span><span style=\"color: #008080; text-decoration-color: #008080; font-weight: bold\">-1376938345042528768</span><span style=\"color: #000000; text-decoration-color: #000000\">&gt;: &lt;Host: </span><span style=\"color: #00ff00; text-decoration-color: #00ff00; font-weight: bold\">157.245.106.141</span><span style=\"color: #000000; text-decoration-color: #000000\">:</span><span style=\"color: #008080; text-decoration-color: #008080; font-weight: bold\">14050</span><span style=\"color: #000000; text-decoration-color: #000000\"> aiven&gt;,</span>\n",
       "<span style=\"color: #000000; text-decoration-color: #000000\">    &lt;Murmur3Token: </span><span style=\"color: #008080; text-decoration-color: #008080; font-weight: bold\">-2203784801780642038</span><span style=\"color: #000000; text-decoration-color: #000000\">&gt;: &lt;Host: </span><span style=\"color: #00ff00; text-decoration-color: #00ff00; font-weight: bold\">157.245.106.141</span><span style=\"color: #000000; text-decoration-color: #000000\">:</span><span style=\"color: #008080; text-decoration-color: #008080; font-weight: bold\">14050</span><span style=\"color: #000000; text-decoration-color: #000000\"> aiven&gt;,</span>\n",
       "<span style=\"color: #000000; text-decoration-color: #000000\">    &lt;Murmur3Token: </span><span style=\"color: #008080; text-decoration-color: #008080; font-weight: bold\">-3446223116460774190</span><span style=\"color: #000000; text-decoration-color: #000000\">&gt;: &lt;Host: </span><span style=\"color: #00ff00; text-decoration-color: #00ff00; font-weight: bold\">157.245.106.141</span><span style=\"color: #000000; text-decoration-color: #000000\">:</span><span style=\"color: #008080; text-decoration-color: #008080; font-weight: bold\">14050</span><span style=\"color: #000000; text-decoration-color: #000000\"> aiven&gt;,</span>\n",
       "<span style=\"color: #000000; text-decoration-color: #000000\">    &lt;Murmur3Token: </span><span style=\"color: #008080; text-decoration-color: #008080; font-weight: bold\">-4503779801150822749</span><span style=\"color: #000000; text-decoration-color: #000000\">&gt;: &lt;Host: </span><span style=\"color: #00ff00; text-decoration-color: #00ff00; font-weight: bold\">157.245.106.141</span><span style=\"color: #000000; text-decoration-color: #000000\">:</span><span style=\"color: #008080; text-decoration-color: #008080; font-weight: bold\">14050</span><span style=\"color: #000000; text-decoration-color: #000000\"> aiven&gt;,</span>\n",
       "<span style=\"color: #000000; text-decoration-color: #000000\">    &lt;Murmur3Token: </span><span style=\"color: #008080; text-decoration-color: #008080; font-weight: bold\">-50298136563029458</span><span style=\"color: #000000; text-decoration-color: #000000\">&gt;: &lt;Host: </span><span style=\"color: #00ff00; text-decoration-color: #00ff00; font-weight: bold\">157.245.106.141</span><span style=\"color: #000000; text-decoration-color: #000000\">:</span><span style=\"color: #008080; text-decoration-color: #008080; font-weight: bold\">14050</span><span style=\"color: #000000; text-decoration-color: #000000\"> aiven&gt;,</span>\n",
       "<span style=\"color: #000000; text-decoration-color: #000000\">    &lt;Murmur3Token: </span><span style=\"color: #008080; text-decoration-color: #008080; font-weight: bold\">-5170710550071763585</span><span style=\"color: #000000; text-decoration-color: #000000\">&gt;: &lt;Host: </span><span style=\"color: #00ff00; text-decoration-color: #00ff00; font-weight: bold\">157.245.106.141</span><span style=\"color: #000000; text-decoration-color: #000000\">:</span><span style=\"color: #008080; text-decoration-color: #008080; font-weight: bold\">14050</span><span style=\"color: #000000; text-decoration-color: #000000\"> aiven&gt;,</span>\n",
       "<span style=\"color: #000000; text-decoration-color: #000000\">    &lt;Murmur3Token: </span><span style=\"color: #008080; text-decoration-color: #008080; font-weight: bold\">-6318034258427440293</span><span style=\"color: #000000; text-decoration-color: #000000\">&gt;: &lt;Host: </span><span style=\"color: #00ff00; text-decoration-color: #00ff00; font-weight: bold\">157.245.106.141</span><span style=\"color: #000000; text-decoration-color: #000000\">:</span><span style=\"color: #008080; text-decoration-color: #008080; font-weight: bold\">14050</span><span style=\"color: #000000; text-decoration-color: #000000\"> aiven&gt;,</span>\n",
       "<span style=\"color: #000000; text-decoration-color: #000000\">    &lt;Murmur3Token: </span><span style=\"color: #008080; text-decoration-color: #008080; font-weight: bold\">-712429642865270694</span><span style=\"color: #000000; text-decoration-color: #000000\">&gt;: &lt;Host: </span><span style=\"color: #00ff00; text-decoration-color: #00ff00; font-weight: bold\">157.245.106.141</span><span style=\"color: #000000; text-decoration-color: #000000\">:</span><span style=\"color: #008080; text-decoration-color: #008080; font-weight: bold\">14050</span><span style=\"color: #000000; text-decoration-color: #000000\"> aiven&gt;,</span>\n",
       "<span style=\"color: #000000; text-decoration-color: #000000\">    &lt;Murmur3Token: </span><span style=\"color: #008080; text-decoration-color: #008080; font-weight: bold\">-7295925114820928957</span><span style=\"color: #000000; text-decoration-color: #000000\">&gt;: &lt;Host: </span><span style=\"color: #00ff00; text-decoration-color: #00ff00; font-weight: bold\">157.245.106.141</span><span style=\"color: #000000; text-decoration-color: #000000\">:</span><span style=\"color: #008080; text-decoration-color: #008080; font-weight: bold\">14050</span><span style=\"color: #000000; text-decoration-color: #000000\"> aiven&gt;,</span>\n",
       "<span style=\"color: #000000; text-decoration-color: #000000\">    &lt;Murmur3Token: </span><span style=\"color: #008080; text-decoration-color: #008080; font-weight: bold\">-7928908938294063081</span><span style=\"color: #000000; text-decoration-color: #000000\">&gt;: &lt;Host: </span><span style=\"color: #00ff00; text-decoration-color: #00ff00; font-weight: bold\">157.245.106.141</span><span style=\"color: #000000; text-decoration-color: #000000\">:</span><span style=\"color: #008080; text-decoration-color: #008080; font-weight: bold\">14050</span><span style=\"color: #000000; text-decoration-color: #000000\"> aiven&gt;,</span>\n",
       "<span style=\"color: #000000; text-decoration-color: #000000\">    &lt;Murmur3Token: </span><span style=\"color: #008080; text-decoration-color: #008080; font-weight: bold\">1012054263107322080</span><span style=\"color: #000000; text-decoration-color: #000000\">&gt;: &lt;Host: </span><span style=\"color: #00ff00; text-decoration-color: #00ff00; font-weight: bold\">157.245.106.141</span><span style=\"color: #000000; text-decoration-color: #000000\">:</span><span style=\"color: #008080; text-decoration-color: #008080; font-weight: bold\">14050</span><span style=\"color: #000000; text-decoration-color: #000000\"> aiven&gt;,</span>\n",
       "<span style=\"color: #000000; text-decoration-color: #000000\">    &lt;Murmur3Token: </span><span style=\"color: #008080; text-decoration-color: #008080; font-weight: bold\">2150180802497217072</span><span style=\"color: #000000; text-decoration-color: #000000\">&gt;: &lt;Host: </span><span style=\"color: #00ff00; text-decoration-color: #00ff00; font-weight: bold\">157.245.106.141</span><span style=\"color: #000000; text-decoration-color: #000000\">:</span><span style=\"color: #008080; text-decoration-color: #008080; font-weight: bold\">14050</span><span style=\"color: #000000; text-decoration-color: #000000\"> aiven&gt;,</span>\n",
       "<span style=\"color: #000000; text-decoration-color: #000000\">    &lt;Murmur3Token: </span><span style=\"color: #008080; text-decoration-color: #008080; font-weight: bold\">3982096531452299755</span><span style=\"color: #000000; text-decoration-color: #000000\">&gt;: &lt;Host: </span><span style=\"color: #00ff00; text-decoration-color: #00ff00; font-weight: bold\">157.245.106.141</span><span style=\"color: #000000; text-decoration-color: #000000\">:</span><span style=\"color: #008080; text-decoration-color: #008080; font-weight: bold\">14050</span><span style=\"color: #000000; text-decoration-color: #000000\"> aiven&gt;,</span>\n",
       "<span style=\"color: #000000; text-decoration-color: #000000\">    &lt;Murmur3Token: </span><span style=\"color: #008080; text-decoration-color: #008080; font-weight: bold\">4696391995849960748</span><span style=\"color: #000000; text-decoration-color: #000000\">&gt;: &lt;Host: </span><span style=\"color: #00ff00; text-decoration-color: #00ff00; font-weight: bold\">157.245.106.141</span><span style=\"color: #000000; text-decoration-color: #000000\">:</span><span style=\"color: #008080; text-decoration-color: #008080; font-weight: bold\">14050</span><span style=\"color: #000000; text-decoration-color: #000000\"> aiven&gt;,</span>\n",
       "<span style=\"color: #000000; text-decoration-color: #000000\">    &lt;Murmur3Token: </span><span style=\"color: #008080; text-decoration-color: #008080; font-weight: bold\">5813630446721658342</span><span style=\"color: #000000; text-decoration-color: #000000\">&gt;: &lt;Host: </span><span style=\"color: #00ff00; text-decoration-color: #00ff00; font-weight: bold\">157.245.106.141</span><span style=\"color: #000000; text-decoration-color: #000000\">:</span><span style=\"color: #008080; text-decoration-color: #008080; font-weight: bold\">14050</span><span style=\"color: #000000; text-decoration-color: #000000\"> aiven&gt;,</span>\n",
       "<span style=\"color: #000000; text-decoration-color: #000000\">    &lt;Murmur3Token: </span><span style=\"color: #008080; text-decoration-color: #008080; font-weight: bold\">8885354171411224482</span><span style=\"color: #000000; text-decoration-color: #000000\">&gt;: &lt;Host: </span><span style=\"color: #00ff00; text-decoration-color: #00ff00; font-weight: bold\">157.245.106.141</span><span style=\"color: #000000; text-decoration-color: #000000\">:</span><span style=\"color: #008080; text-decoration-color: #008080; font-weight: bold\">14050</span><span style=\"color: #000000; text-decoration-color: #000000\"> aiven&gt;,</span>\n",
       "<span style=\"color: #000000; text-decoration-color: #000000\">    &lt;Murmur3Token: </span><span style=\"color: #008080; text-decoration-color: #008080; font-weight: bold\">-1072448787496560459</span><span style=\"color: #000000; text-decoration-color: #000000\">&gt;: &lt;Host: </span><span style=\"color: #00ff00; text-decoration-color: #00ff00; font-weight: bold\">64.227.190.131</span><span style=\"color: #000000; text-decoration-color: #000000\">:</span><span style=\"color: #008080; text-decoration-color: #008080; font-weight: bold\">14050</span><span style=\"color: #000000; text-decoration-color: #000000\"> aiven&gt;,</span>\n",
       "<span style=\"color: #000000; text-decoration-color: #000000\">    &lt;Murmur3Token: </span><span style=\"color: #008080; text-decoration-color: #008080; font-weight: bold\">-3194143687498795568</span><span style=\"color: #000000; text-decoration-color: #000000\">&gt;: &lt;Host: </span><span style=\"color: #00ff00; text-decoration-color: #00ff00; font-weight: bold\">64.227.190.131</span><span style=\"color: #000000; text-decoration-color: #000000\">:</span><span style=\"color: #008080; text-decoration-color: #008080; font-weight: bold\">14050</span><span style=\"color: #000000; text-decoration-color: #000000\"> aiven&gt;,</span>\n",
       "<span style=\"color: #000000; text-decoration-color: #000000\">    &lt;Murmur3Token: </span><span style=\"color: #008080; text-decoration-color: #008080; font-weight: bold\">-4251520204427753785</span><span style=\"color: #000000; text-decoration-color: #000000\">&gt;: &lt;Host: </span><span style=\"color: #00ff00; text-decoration-color: #00ff00; font-weight: bold\">64.227.190.131</span><span style=\"color: #000000; text-decoration-color: #000000\">:</span><span style=\"color: #008080; text-decoration-color: #008080; font-weight: bold\">14050</span><span style=\"color: #000000; text-decoration-color: #000000\"> aiven&gt;,</span>\n",
       "<span style=\"color: #000000; text-decoration-color: #000000\">    &lt;Murmur3Token: </span><span style=\"color: #008080; text-decoration-color: #008080; font-weight: bold\">-5601722031002431669</span><span style=\"color: #000000; text-decoration-color: #000000\">&gt;: &lt;Host: </span><span style=\"color: #00ff00; text-decoration-color: #00ff00; font-weight: bold\">64.227.190.131</span><span style=\"color: #000000; text-decoration-color: #000000\">:</span><span style=\"color: #008080; text-decoration-color: #008080; font-weight: bold\">14050</span><span style=\"color: #000000; text-decoration-color: #000000\"> aiven&gt;,</span>\n",
       "<span style=\"color: #000000; text-decoration-color: #000000\">    &lt;Murmur3Token: </span><span style=\"color: #008080; text-decoration-color: #008080; font-weight: bold\">-6028008532283561059</span><span style=\"color: #000000; text-decoration-color: #000000\">&gt;: &lt;Host: </span><span style=\"color: #00ff00; text-decoration-color: #00ff00; font-weight: bold\">64.227.190.131</span><span style=\"color: #000000; text-decoration-color: #000000\">:</span><span style=\"color: #008080; text-decoration-color: #008080; font-weight: bold\">14050</span><span style=\"color: #000000; text-decoration-color: #000000\"> aiven&gt;,</span>\n",
       "<span style=\"color: #000000; text-decoration-color: #000000\">    &lt;Murmur3Token: </span><span style=\"color: #008080; text-decoration-color: #008080; font-weight: bold\">-7062309178958965426</span><span style=\"color: #000000; text-decoration-color: #000000\">&gt;: &lt;Host: </span><span style=\"color: #00ff00; text-decoration-color: #00ff00; font-weight: bold\">64.227.190.131</span><span style=\"color: #000000; text-decoration-color: #000000\">:</span><span style=\"color: #008080; text-decoration-color: #008080; font-weight: bold\">14050</span><span style=\"color: #000000; text-decoration-color: #000000\"> aiven&gt;,</span>\n",
       "<span style=\"color: #000000; text-decoration-color: #000000\">    &lt;Murmur3Token: </span><span style=\"color: #008080; text-decoration-color: #008080; font-weight: bold\">-8320729894904408515</span><span style=\"color: #000000; text-decoration-color: #000000\">&gt;: &lt;Host: </span><span style=\"color: #00ff00; text-decoration-color: #00ff00; font-weight: bold\">64.227.190.131</span><span style=\"color: #000000; text-decoration-color: #000000\">:</span><span style=\"color: #008080; text-decoration-color: #008080; font-weight: bold\">14050</span><span style=\"color: #000000; text-decoration-color: #000000\"> aiven&gt;,</span>\n",
       "<span style=\"color: #000000; text-decoration-color: #000000\">    &lt;Murmur3Token: </span><span style=\"color: #008080; text-decoration-color: #008080; font-weight: bold\">-8718052747253121306</span><span style=\"color: #000000; text-decoration-color: #000000\">&gt;: &lt;Host: </span><span style=\"color: #00ff00; text-decoration-color: #00ff00; font-weight: bold\">64.227.190.131</span><span style=\"color: #000000; text-decoration-color: #000000\">:</span><span style=\"color: #008080; text-decoration-color: #008080; font-weight: bold\">14050</span><span style=\"color: #000000; text-decoration-color: #000000\"> aiven&gt;,</span>\n",
       "<span style=\"color: #000000; text-decoration-color: #000000\">    &lt;Murmur3Token: </span><span style=\"color: #008080; text-decoration-color: #008080; font-weight: bold\">1250312793420155969</span><span style=\"color: #000000; text-decoration-color: #000000\">&gt;: &lt;Host: </span><span style=\"color: #00ff00; text-decoration-color: #00ff00; font-weight: bold\">64.227.190.131</span><span style=\"color: #000000; text-decoration-color: #000000\">:</span><span style=\"color: #008080; text-decoration-color: #008080; font-weight: bold\">14050</span><span style=\"color: #000000; text-decoration-color: #000000\"> aiven&gt;,</span>\n",
       "<span style=\"color: #000000; text-decoration-color: #000000\">    &lt;Murmur3Token: </span><span style=\"color: #008080; text-decoration-color: #008080; font-weight: bold\">185971803647092573</span><span style=\"color: #000000; text-decoration-color: #000000\">&gt;: &lt;Host: </span><span style=\"color: #00ff00; text-decoration-color: #00ff00; font-weight: bold\">64.227.190.131</span><span style=\"color: #000000; text-decoration-color: #000000\">:</span><span style=\"color: #008080; text-decoration-color: #008080; font-weight: bold\">14050</span><span style=\"color: #000000; text-decoration-color: #000000\"> aiven&gt;,</span>\n",
       "<span style=\"color: #000000; text-decoration-color: #000000\">    &lt;Murmur3Token: </span><span style=\"color: #008080; text-decoration-color: #008080; font-weight: bold\">3070317094400102368</span><span style=\"color: #000000; text-decoration-color: #000000\">&gt;: &lt;Host: </span><span style=\"color: #00ff00; text-decoration-color: #00ff00; font-weight: bold\">64.227.190.131</span><span style=\"color: #000000; text-decoration-color: #000000\">:</span><span style=\"color: #008080; text-decoration-color: #008080; font-weight: bold\">14050</span><span style=\"color: #000000; text-decoration-color: #000000\"> aiven&gt;,</span>\n",
       "<span style=\"color: #000000; text-decoration-color: #000000\">    &lt;Murmur3Token: </span><span style=\"color: #008080; text-decoration-color: #008080; font-weight: bold\">4947381423913088397</span><span style=\"color: #000000; text-decoration-color: #000000\">&gt;: &lt;Host: </span><span style=\"color: #00ff00; text-decoration-color: #00ff00; font-weight: bold\">64.227.190.131</span><span style=\"color: #000000; text-decoration-color: #000000\">:</span><span style=\"color: #008080; text-decoration-color: #008080; font-weight: bold\">14050</span><span style=\"color: #000000; text-decoration-color: #000000\"> aiven&gt;,</span>\n",
       "<span style=\"color: #000000; text-decoration-color: #000000\">    &lt;Murmur3Token: </span><span style=\"color: #008080; text-decoration-color: #008080; font-weight: bold\">6116336347092102776</span><span style=\"color: #000000; text-decoration-color: #000000\">&gt;: &lt;Host: </span><span style=\"color: #00ff00; text-decoration-color: #00ff00; font-weight: bold\">64.227.190.131</span><span style=\"color: #000000; text-decoration-color: #000000\">:</span><span style=\"color: #008080; text-decoration-color: #008080; font-weight: bold\">14050</span><span style=\"color: #000000; text-decoration-color: #000000\"> aiven&gt;,</span>\n",
       "<span style=\"color: #000000; text-decoration-color: #000000\">    &lt;Murmur3Token: </span><span style=\"color: #008080; text-decoration-color: #008080; font-weight: bold\">7165460147421293864</span><span style=\"color: #000000; text-decoration-color: #000000\">&gt;: &lt;Host: </span><span style=\"color: #00ff00; text-decoration-color: #00ff00; font-weight: bold\">64.227.190.131</span><span style=\"color: #000000; text-decoration-color: #000000\">:</span><span style=\"color: #008080; text-decoration-color: #008080; font-weight: bold\">14050</span><span style=\"color: #000000; text-decoration-color: #000000\"> aiven&gt;,</span>\n",
       "<span style=\"color: #000000; text-decoration-color: #000000\">    &lt;Murmur3Token: </span><span style=\"color: #008080; text-decoration-color: #008080; font-weight: bold\">8101373320212809284</span><span style=\"color: #000000; text-decoration-color: #000000\">&gt;: &lt;Host: </span><span style=\"color: #00ff00; text-decoration-color: #00ff00; font-weight: bold\">64.227.190.131</span><span style=\"color: #000000; text-decoration-color: #000000\">:</span><span style=\"color: #008080; text-decoration-color: #008080; font-weight: bold\">14050</span><span style=\"color: #000000; text-decoration-color: #000000\"> aiven&gt;,</span>\n",
       "<span style=\"color: #000000; text-decoration-color: #000000\">    &lt;Murmur3Token: </span><span style=\"color: #008080; text-decoration-color: #008080; font-weight: bold\">8517010979784449164</span><span style=\"color: #000000; text-decoration-color: #000000\">&gt;: &lt;Host: </span><span style=\"color: #00ff00; text-decoration-color: #00ff00; font-weight: bold\">64.227.190.131</span><span style=\"color: #000000; text-decoration-color: #000000\">:</span><span style=\"color: #008080; text-decoration-color: #008080; font-weight: bold\">14050</span><span style=\"color: #000000; text-decoration-color: #000000\"> aiven&gt;,</span>\n",
       "<span style=\"color: #000000; text-decoration-color: #000000\">    &lt;Murmur3Token: </span><span style=\"color: #008080; text-decoration-color: #008080; font-weight: bold\">-1872277458157690743</span><span style=\"color: #000000; text-decoration-color: #000000\">&gt;: &lt;Host: </span><span style=\"color: #00ff00; text-decoration-color: #00ff00; font-weight: bold\">64.227.190.102</span><span style=\"color: #000000; text-decoration-color: #000000\">:</span><span style=\"color: #008080; text-decoration-color: #008080; font-weight: bold\">14050</span><span style=\"color: #000000; text-decoration-color: #000000\"> aiven&gt;,</span>\n",
       "<span style=\"color: #000000; text-decoration-color: #000000\">    &lt;Murmur3Token: </span><span style=\"color: #008080; text-decoration-color: #008080; font-weight: bold\">-2716654105648852499</span><span style=\"color: #000000; text-decoration-color: #000000\">&gt;: &lt;Host: </span><span style=\"color: #00ff00; text-decoration-color: #00ff00; font-weight: bold\">64.227.190.102</span><span style=\"color: #000000; text-decoration-color: #000000\">:</span><span style=\"color: #008080; text-decoration-color: #008080; font-weight: bold\">14050</span><span style=\"color: #000000; text-decoration-color: #000000\"> aiven&gt;,</span>\n",
       "<span style=\"color: #000000; text-decoration-color: #000000\">    &lt;Murmur3Token: </span><span style=\"color: #008080; text-decoration-color: #008080; font-weight: bold\">-3807951216341064759</span><span style=\"color: #000000; text-decoration-color: #000000\">&gt;: &lt;Host: </span><span style=\"color: #00ff00; text-decoration-color: #00ff00; font-weight: bold\">64.227.190.102</span><span style=\"color: #000000; text-decoration-color: #000000\">:</span><span style=\"color: #008080; text-decoration-color: #008080; font-weight: bold\">14050</span><span style=\"color: #000000; text-decoration-color: #000000\"> aiven&gt;,</span>\n",
       "<span style=\"color: #000000; text-decoration-color: #000000\">    &lt;Murmur3Token: </span><span style=\"color: #008080; text-decoration-color: #008080; font-weight: bold\">-432009228255107504</span><span style=\"color: #000000; text-decoration-color: #000000\">&gt;: &lt;Host: </span><span style=\"color: #00ff00; text-decoration-color: #00ff00; font-weight: bold\">64.227.190.102</span><span style=\"color: #000000; text-decoration-color: #000000\">:</span><span style=\"color: #008080; text-decoration-color: #008080; font-weight: bold\">14050</span><span style=\"color: #000000; text-decoration-color: #000000\"> aiven&gt;,</span>\n",
       "<span style=\"color: #000000; text-decoration-color: #000000\">    &lt;Murmur3Token: </span><span style=\"color: #008080; text-decoration-color: #008080; font-weight: bold\">-4903993116576003048</span><span style=\"color: #000000; text-decoration-color: #000000\">&gt;: &lt;Host: </span><span style=\"color: #00ff00; text-decoration-color: #00ff00; font-weight: bold\">64.227.190.102</span><span style=\"color: #000000; text-decoration-color: #000000\">:</span><span style=\"color: #008080; text-decoration-color: #008080; font-weight: bold\">14050</span><span style=\"color: #000000; text-decoration-color: #000000\"> aiven&gt;,</span>\n",
       "<span style=\"color: #000000; text-decoration-color: #000000\">    &lt;Murmur3Token: </span><span style=\"color: #008080; text-decoration-color: #008080; font-weight: bold\">-6682627417399590177</span><span style=\"color: #000000; text-decoration-color: #000000\">&gt;: &lt;Host: </span><span style=\"color: #00ff00; text-decoration-color: #00ff00; font-weight: bold\">64.227.190.102</span><span style=\"color: #000000; text-decoration-color: #000000\">:</span><span style=\"color: #008080; text-decoration-color: #008080; font-weight: bold\">14050</span><span style=\"color: #000000; text-decoration-color: #000000\"> aiven&gt;,</span>\n",
       "<span style=\"color: #000000; text-decoration-color: #000000\">    &lt;Murmur3Token: </span><span style=\"color: #008080; text-decoration-color: #008080; font-weight: bold\">-7660772869915704253</span><span style=\"color: #000000; text-decoration-color: #000000\">&gt;: &lt;Host: </span><span style=\"color: #00ff00; text-decoration-color: #00ff00; font-weight: bold\">64.227.190.102</span><span style=\"color: #000000; text-decoration-color: #000000\">:</span><span style=\"color: #008080; text-decoration-color: #008080; font-weight: bold\">14050</span><span style=\"color: #000000; text-decoration-color: #000000\"> aiven&gt;,</span>\n",
       "<span style=\"color: #000000; text-decoration-color: #000000\">    &lt;Murmur3Token: </span><span style=\"color: #008080; text-decoration-color: #008080; font-weight: bold\">1657342792827352323</span><span style=\"color: #000000; text-decoration-color: #000000\">&gt;: &lt;Host: </span><span style=\"color: #00ff00; text-decoration-color: #00ff00; font-weight: bold\">64.227.190.102</span><span style=\"color: #000000; text-decoration-color: #000000\">:</span><span style=\"color: #008080; text-decoration-color: #008080; font-weight: bold\">14050</span><span style=\"color: #000000; text-decoration-color: #000000\"> aiven&gt;,</span>\n",
       "<span style=\"color: #000000; text-decoration-color: #000000\">    &lt;Murmur3Token: </span><span style=\"color: #008080; text-decoration-color: #008080; font-weight: bold\">2475014725439703118</span><span style=\"color: #000000; text-decoration-color: #000000\">&gt;: &lt;Host: </span><span style=\"color: #00ff00; text-decoration-color: #00ff00; font-weight: bold\">64.227.190.102</span><span style=\"color: #000000; text-decoration-color: #000000\">:</span><span style=\"color: #008080; text-decoration-color: #008080; font-weight: bold\">14050</span><span style=\"color: #000000; text-decoration-color: #000000\"> aiven&gt;,</span>\n",
       "<span style=\"color: #000000; text-decoration-color: #000000\">    &lt;Murmur3Token: </span><span style=\"color: #008080; text-decoration-color: #008080; font-weight: bold\">3550770606665282657</span><span style=\"color: #000000; text-decoration-color: #000000\">&gt;: &lt;Host: </span><span style=\"color: #00ff00; text-decoration-color: #00ff00; font-weight: bold\">64.227.190.102</span><span style=\"color: #000000; text-decoration-color: #000000\">:</span><span style=\"color: #008080; text-decoration-color: #008080; font-weight: bold\">14050</span><span style=\"color: #000000; text-decoration-color: #000000\"> aiven&gt;,</span>\n",
       "<span style=\"color: #000000; text-decoration-color: #000000\">    &lt;Murmur3Token: </span><span style=\"color: #008080; text-decoration-color: #008080; font-weight: bold\">4286686299376176298</span><span style=\"color: #000000; text-decoration-color: #000000\">&gt;: &lt;Host: </span><span style=\"color: #00ff00; text-decoration-color: #00ff00; font-weight: bold\">64.227.190.102</span><span style=\"color: #000000; text-decoration-color: #000000\">:</span><span style=\"color: #008080; text-decoration-color: #008080; font-weight: bold\">14050</span><span style=\"color: #000000; text-decoration-color: #000000\"> aiven&gt;,</span>\n",
       "<span style=\"color: #000000; text-decoration-color: #000000\">    &lt;Murmur3Token: </span><span style=\"color: #008080; text-decoration-color: #008080; font-weight: bold\">5366059106823777956</span><span style=\"color: #000000; text-decoration-color: #000000\">&gt;: &lt;Host: </span><span style=\"color: #00ff00; text-decoration-color: #00ff00; font-weight: bold\">64.227.190.102</span><span style=\"color: #000000; text-decoration-color: #000000\">:</span><span style=\"color: #008080; text-decoration-color: #008080; font-weight: bold\">14050</span><span style=\"color: #000000; text-decoration-color: #000000\"> aiven&gt;,</span>\n",
       "<span style=\"color: #000000; text-decoration-color: #000000\">    &lt;Murmur3Token: </span><span style=\"color: #008080; text-decoration-color: #008080; font-weight: bold\">639491388084925308</span><span style=\"color: #000000; text-decoration-color: #000000\">&gt;: &lt;Host: </span><span style=\"color: #00ff00; text-decoration-color: #00ff00; font-weight: bold\">64.227.190.102</span><span style=\"color: #000000; text-decoration-color: #000000\">:</span><span style=\"color: #008080; text-decoration-color: #008080; font-weight: bold\">14050</span><span style=\"color: #000000; text-decoration-color: #000000\"> aiven&gt;,</span>\n",
       "<span style=\"color: #000000; text-decoration-color: #000000\">    &lt;Murmur3Token: </span><span style=\"color: #008080; text-decoration-color: #008080; font-weight: bold\">6609579112504369928</span><span style=\"color: #000000; text-decoration-color: #000000\">&gt;: &lt;Host: </span><span style=\"color: #00ff00; text-decoration-color: #00ff00; font-weight: bold\">64.227.190.102</span><span style=\"color: #000000; text-decoration-color: #000000\">:</span><span style=\"color: #008080; text-decoration-color: #008080; font-weight: bold\">14050</span><span style=\"color: #000000; text-decoration-color: #000000\"> aiven&gt;,</span>\n",
       "<span style=\"color: #000000; text-decoration-color: #000000\">    &lt;Murmur3Token: </span><span style=\"color: #008080; text-decoration-color: #008080; font-weight: bold\">7576943355582905427</span><span style=\"color: #000000; text-decoration-color: #000000\">&gt;: &lt;Host: </span><span style=\"color: #00ff00; text-decoration-color: #00ff00; font-weight: bold\">64.227.190.102</span><span style=\"color: #000000; text-decoration-color: #000000\">:</span><span style=\"color: #008080; text-decoration-color: #008080; font-weight: bold\">14050</span><span style=\"color: #000000; text-decoration-color: #000000\"> aiven&gt;,</span>\n",
       "<span style=\"color: #000000; text-decoration-color: #000000\">    &lt;Murmur3Token: </span><span style=\"color: #008080; text-decoration-color: #008080; font-weight: bold\">9166947908096804065</span><span style=\"color: #000000; text-decoration-color: #000000\">&gt;: &lt;Host: </span><span style=\"color: #00ff00; text-decoration-color: #00ff00; font-weight: bold\">64.227.190.102</span><span style=\"color: #000000; text-decoration-color: #000000\">:</span><span style=\"color: #008080; text-decoration-color: #008080; font-weight: bold\">14050</span><span style=\"color: #000000; text-decoration-color: #000000\"> aiven</span><span style=\"font-weight: bold\">&gt;</span>\n",
       "<span style=\"font-weight: bold\">}</span>\n",
       "</pre>\n"
      ],
      "text/plain": [
       "\u001b[1m{\u001b[0m\n",
       "    \u001b[1m<\u001b[0m\u001b[1;95mMurmur3Token:\u001b[0m\u001b[39m \u001b[0m\u001b[1;36m-1376938345042528768\u001b[0m\u001b[39m>: <Host: \u001b[0m\u001b[1;92m157.245.106.141\u001b[0m\u001b[39m:\u001b[0m\u001b[1;36m14050\u001b[0m\u001b[39m aiven>,\u001b[0m\n",
       "\u001b[39m    <Murmur3Token: \u001b[0m\u001b[1;36m-2203784801780642038\u001b[0m\u001b[39m>: <Host: \u001b[0m\u001b[1;92m157.245.106.141\u001b[0m\u001b[39m:\u001b[0m\u001b[1;36m14050\u001b[0m\u001b[39m aiven>,\u001b[0m\n",
       "\u001b[39m    <Murmur3Token: \u001b[0m\u001b[1;36m-3446223116460774190\u001b[0m\u001b[39m>: <Host: \u001b[0m\u001b[1;92m157.245.106.141\u001b[0m\u001b[39m:\u001b[0m\u001b[1;36m14050\u001b[0m\u001b[39m aiven>,\u001b[0m\n",
       "\u001b[39m    <Murmur3Token: \u001b[0m\u001b[1;36m-4503779801150822749\u001b[0m\u001b[39m>: <Host: \u001b[0m\u001b[1;92m157.245.106.141\u001b[0m\u001b[39m:\u001b[0m\u001b[1;36m14050\u001b[0m\u001b[39m aiven>,\u001b[0m\n",
       "\u001b[39m    <Murmur3Token: \u001b[0m\u001b[1;36m-50298136563029458\u001b[0m\u001b[39m>: <Host: \u001b[0m\u001b[1;92m157.245.106.141\u001b[0m\u001b[39m:\u001b[0m\u001b[1;36m14050\u001b[0m\u001b[39m aiven>,\u001b[0m\n",
       "\u001b[39m    <Murmur3Token: \u001b[0m\u001b[1;36m-5170710550071763585\u001b[0m\u001b[39m>: <Host: \u001b[0m\u001b[1;92m157.245.106.141\u001b[0m\u001b[39m:\u001b[0m\u001b[1;36m14050\u001b[0m\u001b[39m aiven>,\u001b[0m\n",
       "\u001b[39m    <Murmur3Token: \u001b[0m\u001b[1;36m-6318034258427440293\u001b[0m\u001b[39m>: <Host: \u001b[0m\u001b[1;92m157.245.106.141\u001b[0m\u001b[39m:\u001b[0m\u001b[1;36m14050\u001b[0m\u001b[39m aiven>,\u001b[0m\n",
       "\u001b[39m    <Murmur3Token: \u001b[0m\u001b[1;36m-712429642865270694\u001b[0m\u001b[39m>: <Host: \u001b[0m\u001b[1;92m157.245.106.141\u001b[0m\u001b[39m:\u001b[0m\u001b[1;36m14050\u001b[0m\u001b[39m aiven>,\u001b[0m\n",
       "\u001b[39m    <Murmur3Token: \u001b[0m\u001b[1;36m-7295925114820928957\u001b[0m\u001b[39m>: <Host: \u001b[0m\u001b[1;92m157.245.106.141\u001b[0m\u001b[39m:\u001b[0m\u001b[1;36m14050\u001b[0m\u001b[39m aiven>,\u001b[0m\n",
       "\u001b[39m    <Murmur3Token: \u001b[0m\u001b[1;36m-7928908938294063081\u001b[0m\u001b[39m>: <Host: \u001b[0m\u001b[1;92m157.245.106.141\u001b[0m\u001b[39m:\u001b[0m\u001b[1;36m14050\u001b[0m\u001b[39m aiven>,\u001b[0m\n",
       "\u001b[39m    <Murmur3Token: \u001b[0m\u001b[1;36m1012054263107322080\u001b[0m\u001b[39m>: <Host: \u001b[0m\u001b[1;92m157.245.106.141\u001b[0m\u001b[39m:\u001b[0m\u001b[1;36m14050\u001b[0m\u001b[39m aiven>,\u001b[0m\n",
       "\u001b[39m    <Murmur3Token: \u001b[0m\u001b[1;36m2150180802497217072\u001b[0m\u001b[39m>: <Host: \u001b[0m\u001b[1;92m157.245.106.141\u001b[0m\u001b[39m:\u001b[0m\u001b[1;36m14050\u001b[0m\u001b[39m aiven>,\u001b[0m\n",
       "\u001b[39m    <Murmur3Token: \u001b[0m\u001b[1;36m3982096531452299755\u001b[0m\u001b[39m>: <Host: \u001b[0m\u001b[1;92m157.245.106.141\u001b[0m\u001b[39m:\u001b[0m\u001b[1;36m14050\u001b[0m\u001b[39m aiven>,\u001b[0m\n",
       "\u001b[39m    <Murmur3Token: \u001b[0m\u001b[1;36m4696391995849960748\u001b[0m\u001b[39m>: <Host: \u001b[0m\u001b[1;92m157.245.106.141\u001b[0m\u001b[39m:\u001b[0m\u001b[1;36m14050\u001b[0m\u001b[39m aiven>,\u001b[0m\n",
       "\u001b[39m    <Murmur3Token: \u001b[0m\u001b[1;36m5813630446721658342\u001b[0m\u001b[39m>: <Host: \u001b[0m\u001b[1;92m157.245.106.141\u001b[0m\u001b[39m:\u001b[0m\u001b[1;36m14050\u001b[0m\u001b[39m aiven>,\u001b[0m\n",
       "\u001b[39m    <Murmur3Token: \u001b[0m\u001b[1;36m8885354171411224482\u001b[0m\u001b[39m>: <Host: \u001b[0m\u001b[1;92m157.245.106.141\u001b[0m\u001b[39m:\u001b[0m\u001b[1;36m14050\u001b[0m\u001b[39m aiven>,\u001b[0m\n",
       "\u001b[39m    <Murmur3Token: \u001b[0m\u001b[1;36m-1072448787496560459\u001b[0m\u001b[39m>: <Host: \u001b[0m\u001b[1;92m64.227.190.131\u001b[0m\u001b[39m:\u001b[0m\u001b[1;36m14050\u001b[0m\u001b[39m aiven>,\u001b[0m\n",
       "\u001b[39m    <Murmur3Token: \u001b[0m\u001b[1;36m-3194143687498795568\u001b[0m\u001b[39m>: <Host: \u001b[0m\u001b[1;92m64.227.190.131\u001b[0m\u001b[39m:\u001b[0m\u001b[1;36m14050\u001b[0m\u001b[39m aiven>,\u001b[0m\n",
       "\u001b[39m    <Murmur3Token: \u001b[0m\u001b[1;36m-4251520204427753785\u001b[0m\u001b[39m>: <Host: \u001b[0m\u001b[1;92m64.227.190.131\u001b[0m\u001b[39m:\u001b[0m\u001b[1;36m14050\u001b[0m\u001b[39m aiven>,\u001b[0m\n",
       "\u001b[39m    <Murmur3Token: \u001b[0m\u001b[1;36m-5601722031002431669\u001b[0m\u001b[39m>: <Host: \u001b[0m\u001b[1;92m64.227.190.131\u001b[0m\u001b[39m:\u001b[0m\u001b[1;36m14050\u001b[0m\u001b[39m aiven>,\u001b[0m\n",
       "\u001b[39m    <Murmur3Token: \u001b[0m\u001b[1;36m-6028008532283561059\u001b[0m\u001b[39m>: <Host: \u001b[0m\u001b[1;92m64.227.190.131\u001b[0m\u001b[39m:\u001b[0m\u001b[1;36m14050\u001b[0m\u001b[39m aiven>,\u001b[0m\n",
       "\u001b[39m    <Murmur3Token: \u001b[0m\u001b[1;36m-7062309178958965426\u001b[0m\u001b[39m>: <Host: \u001b[0m\u001b[1;92m64.227.190.131\u001b[0m\u001b[39m:\u001b[0m\u001b[1;36m14050\u001b[0m\u001b[39m aiven>,\u001b[0m\n",
       "\u001b[39m    <Murmur3Token: \u001b[0m\u001b[1;36m-8320729894904408515\u001b[0m\u001b[39m>: <Host: \u001b[0m\u001b[1;92m64.227.190.131\u001b[0m\u001b[39m:\u001b[0m\u001b[1;36m14050\u001b[0m\u001b[39m aiven>,\u001b[0m\n",
       "\u001b[39m    <Murmur3Token: \u001b[0m\u001b[1;36m-8718052747253121306\u001b[0m\u001b[39m>: <Host: \u001b[0m\u001b[1;92m64.227.190.131\u001b[0m\u001b[39m:\u001b[0m\u001b[1;36m14050\u001b[0m\u001b[39m aiven>,\u001b[0m\n",
       "\u001b[39m    <Murmur3Token: \u001b[0m\u001b[1;36m1250312793420155969\u001b[0m\u001b[39m>: <Host: \u001b[0m\u001b[1;92m64.227.190.131\u001b[0m\u001b[39m:\u001b[0m\u001b[1;36m14050\u001b[0m\u001b[39m aiven>,\u001b[0m\n",
       "\u001b[39m    <Murmur3Token: \u001b[0m\u001b[1;36m185971803647092573\u001b[0m\u001b[39m>: <Host: \u001b[0m\u001b[1;92m64.227.190.131\u001b[0m\u001b[39m:\u001b[0m\u001b[1;36m14050\u001b[0m\u001b[39m aiven>,\u001b[0m\n",
       "\u001b[39m    <Murmur3Token: \u001b[0m\u001b[1;36m3070317094400102368\u001b[0m\u001b[39m>: <Host: \u001b[0m\u001b[1;92m64.227.190.131\u001b[0m\u001b[39m:\u001b[0m\u001b[1;36m14050\u001b[0m\u001b[39m aiven>,\u001b[0m\n",
       "\u001b[39m    <Murmur3Token: \u001b[0m\u001b[1;36m4947381423913088397\u001b[0m\u001b[39m>: <Host: \u001b[0m\u001b[1;92m64.227.190.131\u001b[0m\u001b[39m:\u001b[0m\u001b[1;36m14050\u001b[0m\u001b[39m aiven>,\u001b[0m\n",
       "\u001b[39m    <Murmur3Token: \u001b[0m\u001b[1;36m6116336347092102776\u001b[0m\u001b[39m>: <Host: \u001b[0m\u001b[1;92m64.227.190.131\u001b[0m\u001b[39m:\u001b[0m\u001b[1;36m14050\u001b[0m\u001b[39m aiven>,\u001b[0m\n",
       "\u001b[39m    <Murmur3Token: \u001b[0m\u001b[1;36m7165460147421293864\u001b[0m\u001b[39m>: <Host: \u001b[0m\u001b[1;92m64.227.190.131\u001b[0m\u001b[39m:\u001b[0m\u001b[1;36m14050\u001b[0m\u001b[39m aiven>,\u001b[0m\n",
       "\u001b[39m    <Murmur3Token: \u001b[0m\u001b[1;36m8101373320212809284\u001b[0m\u001b[39m>: <Host: \u001b[0m\u001b[1;92m64.227.190.131\u001b[0m\u001b[39m:\u001b[0m\u001b[1;36m14050\u001b[0m\u001b[39m aiven>,\u001b[0m\n",
       "\u001b[39m    <Murmur3Token: \u001b[0m\u001b[1;36m8517010979784449164\u001b[0m\u001b[39m>: <Host: \u001b[0m\u001b[1;92m64.227.190.131\u001b[0m\u001b[39m:\u001b[0m\u001b[1;36m14050\u001b[0m\u001b[39m aiven>,\u001b[0m\n",
       "\u001b[39m    <Murmur3Token: \u001b[0m\u001b[1;36m-1872277458157690743\u001b[0m\u001b[39m>: <Host: \u001b[0m\u001b[1;92m64.227.190.102\u001b[0m\u001b[39m:\u001b[0m\u001b[1;36m14050\u001b[0m\u001b[39m aiven>,\u001b[0m\n",
       "\u001b[39m    <Murmur3Token: \u001b[0m\u001b[1;36m-2716654105648852499\u001b[0m\u001b[39m>: <Host: \u001b[0m\u001b[1;92m64.227.190.102\u001b[0m\u001b[39m:\u001b[0m\u001b[1;36m14050\u001b[0m\u001b[39m aiven>,\u001b[0m\n",
       "\u001b[39m    <Murmur3Token: \u001b[0m\u001b[1;36m-3807951216341064759\u001b[0m\u001b[39m>: <Host: \u001b[0m\u001b[1;92m64.227.190.102\u001b[0m\u001b[39m:\u001b[0m\u001b[1;36m14050\u001b[0m\u001b[39m aiven>,\u001b[0m\n",
       "\u001b[39m    <Murmur3Token: \u001b[0m\u001b[1;36m-432009228255107504\u001b[0m\u001b[39m>: <Host: \u001b[0m\u001b[1;92m64.227.190.102\u001b[0m\u001b[39m:\u001b[0m\u001b[1;36m14050\u001b[0m\u001b[39m aiven>,\u001b[0m\n",
       "\u001b[39m    <Murmur3Token: \u001b[0m\u001b[1;36m-4903993116576003048\u001b[0m\u001b[39m>: <Host: \u001b[0m\u001b[1;92m64.227.190.102\u001b[0m\u001b[39m:\u001b[0m\u001b[1;36m14050\u001b[0m\u001b[39m aiven>,\u001b[0m\n",
       "\u001b[39m    <Murmur3Token: \u001b[0m\u001b[1;36m-6682627417399590177\u001b[0m\u001b[39m>: <Host: \u001b[0m\u001b[1;92m64.227.190.102\u001b[0m\u001b[39m:\u001b[0m\u001b[1;36m14050\u001b[0m\u001b[39m aiven>,\u001b[0m\n",
       "\u001b[39m    <Murmur3Token: \u001b[0m\u001b[1;36m-7660772869915704253\u001b[0m\u001b[39m>: <Host: \u001b[0m\u001b[1;92m64.227.190.102\u001b[0m\u001b[39m:\u001b[0m\u001b[1;36m14050\u001b[0m\u001b[39m aiven>,\u001b[0m\n",
       "\u001b[39m    <Murmur3Token: \u001b[0m\u001b[1;36m1657342792827352323\u001b[0m\u001b[39m>: <Host: \u001b[0m\u001b[1;92m64.227.190.102\u001b[0m\u001b[39m:\u001b[0m\u001b[1;36m14050\u001b[0m\u001b[39m aiven>,\u001b[0m\n",
       "\u001b[39m    <Murmur3Token: \u001b[0m\u001b[1;36m2475014725439703118\u001b[0m\u001b[39m>: <Host: \u001b[0m\u001b[1;92m64.227.190.102\u001b[0m\u001b[39m:\u001b[0m\u001b[1;36m14050\u001b[0m\u001b[39m aiven>,\u001b[0m\n",
       "\u001b[39m    <Murmur3Token: \u001b[0m\u001b[1;36m3550770606665282657\u001b[0m\u001b[39m>: <Host: \u001b[0m\u001b[1;92m64.227.190.102\u001b[0m\u001b[39m:\u001b[0m\u001b[1;36m14050\u001b[0m\u001b[39m aiven>,\u001b[0m\n",
       "\u001b[39m    <Murmur3Token: \u001b[0m\u001b[1;36m4286686299376176298\u001b[0m\u001b[39m>: <Host: \u001b[0m\u001b[1;92m64.227.190.102\u001b[0m\u001b[39m:\u001b[0m\u001b[1;36m14050\u001b[0m\u001b[39m aiven>,\u001b[0m\n",
       "\u001b[39m    <Murmur3Token: \u001b[0m\u001b[1;36m5366059106823777956\u001b[0m\u001b[39m>: <Host: \u001b[0m\u001b[1;92m64.227.190.102\u001b[0m\u001b[39m:\u001b[0m\u001b[1;36m14050\u001b[0m\u001b[39m aiven>,\u001b[0m\n",
       "\u001b[39m    <Murmur3Token: \u001b[0m\u001b[1;36m639491388084925308\u001b[0m\u001b[39m>: <Host: \u001b[0m\u001b[1;92m64.227.190.102\u001b[0m\u001b[39m:\u001b[0m\u001b[1;36m14050\u001b[0m\u001b[39m aiven>,\u001b[0m\n",
       "\u001b[39m    <Murmur3Token: \u001b[0m\u001b[1;36m6609579112504369928\u001b[0m\u001b[39m>: <Host: \u001b[0m\u001b[1;92m64.227.190.102\u001b[0m\u001b[39m:\u001b[0m\u001b[1;36m14050\u001b[0m\u001b[39m aiven>,\u001b[0m\n",
       "\u001b[39m    <Murmur3Token: \u001b[0m\u001b[1;36m7576943355582905427\u001b[0m\u001b[39m>: <Host: \u001b[0m\u001b[1;92m64.227.190.102\u001b[0m\u001b[39m:\u001b[0m\u001b[1;36m14050\u001b[0m\u001b[39m aiven>,\u001b[0m\n",
       "\u001b[39m    <Murmur3Token: \u001b[0m\u001b[1;36m9166947908096804065\u001b[0m\u001b[39m>: <Host: \u001b[0m\u001b[1;92m64.227.190.102\u001b[0m\u001b[39m:\u001b[0m\u001b[1;36m14050\u001b[0m\u001b[39m aiven\u001b[0m\u001b[1m>\u001b[0m\n",
       "\u001b[1m}\u001b[0m\n"
      ]
     },
     "metadata": {},
     "output_type": "display_data"
    }
   ],
   "source": [
    "import ssl\n",
    "from cassandra.auth import PlainTextAuthProvider\n",
    "from cassandra.cluster import Cluster\n",
    "from cassandra.policies import DCAwareRoundRobinPolicy\n",
    "\n",
    "auth_provider = PlainTextAuthProvider(\n",
    "    os.environ.get(\"CASSANDRA_USER\"), os.environ.get(\"CASSANDRA_PASSWORD\")\n",
    ")\n",
    "ssl_options = {\n",
    "    \"ca_certs\": \"/Users/dhruvanand/Code/vector-io/aiven.pem\",\n",
    "    \"cert_reqs\": ssl.CERT_REQUIRED,\n",
    "}\n",
    "CASSANDRA_URI = os.environ.get(\"CASSANDRA_URI\")\n",
    "CASSANDRA_URI, CASSANDRA_PORT = CASSANDRA_URI.split(\":\")\n",
    "with Cluster(\n",
    "    [CASSANDRA_URI],\n",
    "    port=CASSANDRA_PORT,\n",
    "    ssl_options=ssl_options,\n",
    "    auth_provider=auth_provider,\n",
    "    load_balancing_policy=DCAwareRoundRobinPolicy(local_dc=\"aiven\"),\n",
    ") as cluster:\n",
    "    with cluster.connect() as session:\n",
    "        # print(\"Connected to cluster: %s\" % rprint(cluster.__dict__))\n",
    "        print(\"Connected to cluster: %s\" % cluster.metadata.cluster_name)\n",
    "        if cluster.metadata.token_map:\n",
    "            rprint(cluster.metadata.token_map.token_to_host_owner)\n",
    "        else:\n",
    "            print(\"No token map in use\")"
   ]
  },
  {
   "cell_type": "code",
   "execution_count": null,
   "metadata": {},
   "outputs": [],
   "source": []
  }
 ],
 "metadata": {
  "kernelspec": {
   "display_name": "base",
   "language": "python",
   "name": "python3"
  },
  "language_info": {
   "codemirror_mode": {
    "name": "ipython",
    "version": 3
   },
   "file_extension": ".py",
   "mimetype": "text/x-python",
   "name": "python",
   "nbconvert_exporter": "python",
   "pygments_lexer": "ipython3",
   "version": "3.10.12"
  }
 },
 "nbformat": 4,
 "nbformat_minor": 2
}
