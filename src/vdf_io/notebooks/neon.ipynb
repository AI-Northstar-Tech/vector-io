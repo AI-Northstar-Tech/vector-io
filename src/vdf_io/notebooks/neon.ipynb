{
 "cells": [
  {
   "cell_type": "code",
   "execution_count": 4,
   "metadata": {},
   "outputs": [
    {
     "name": "stdout",
     "output_type": "stream",
     "text": [
      "Requirement already satisfied: pgvector in /Users/dhruvanand/miniforge3/lib/python3.10/site-packages (0.2.5)\n",
      "Collecting psycopg\n",
      "  Obtaining dependency information for psycopg from https://files.pythonhosted.org/packages/f2/cf/172701ea48987548c681e011681dda1d2605131f723e89225477fe7802e9/psycopg-3.1.19-py3-none-any.whl.metadata\n",
      "  Downloading psycopg-3.1.19-py3-none-any.whl.metadata (4.2 kB)\n",
      "Requirement already satisfied: numpy in /Users/dhruvanand/miniforge3/lib/python3.10/site-packages (from pgvector) (1.26.4)\n",
      "Requirement already satisfied: typing-extensions>=4.1 in /Users/dhruvanand/miniforge3/lib/python3.10/site-packages (from psycopg) (4.9.0)\n",
      "Downloading psycopg-3.1.19-py3-none-any.whl (179 kB)\n",
      "\u001b[2K   \u001b[90m━━━━━━━━━━━━━━━━━━━━━━━━━━━━━━━━━━━━━━━━\u001b[0m \u001b[32m179.4/179.4 kB\u001b[0m \u001b[31m7.1 MB/s\u001b[0m eta \u001b[36m0:00:00\u001b[0m\n",
      "\u001b[?25hInstalling collected packages: psycopg\n",
      "Successfully installed psycopg-3.1.19\n",
      "Note: you may need to restart the kernel to use updated packages.\n"
     ]
    }
   ],
   "source": [
    "%pip install pgvector psycopg"
   ]
  },
  {
   "cell_type": "code",
   "execution_count": 33,
   "metadata": {},
   "outputs": [
    {
     "data": {
      "text/plain": [
       "True"
      ]
     },
     "execution_count": 33,
     "metadata": {},
     "output_type": "execute_result"
    }
   ],
   "source": [
    "import pandas as pd\n",
    "import json\n",
    "import os\n",
    "from dotenv import load_dotenv, find_dotenv\n",
    "from typing import List, Dict, Any\n",
    "from rich import print as rprint\n",
    "\n",
    "load_dotenv(find_dotenv(), override=True)\n"
   ]
  },
  {
   "cell_type": "code",
   "execution_count": 2,
   "metadata": {},
   "outputs": [],
   "source": [
    "NEON_CONNECTION_STRING = os.environ.get(\"NEON_CONNECTION_STRING\")"
   ]
  },
  {
   "cell_type": "code",
   "execution_count": 10,
   "metadata": {},
   "outputs": [],
   "source": [
    "import psycopg\n",
    "import pgvector\n",
    "from pgvector.psycopg import register_vector\n",
    "\n",
    "conn = psycopg.connect(NEON_CONNECTION_STRING)\n"
   ]
  },
  {
   "cell_type": "code",
   "execution_count": 11,
   "metadata": {},
   "outputs": [
    {
     "data": {
      "text/plain": [
       "psycopg.Connection"
      ]
     },
     "execution_count": 11,
     "metadata": {},
     "output_type": "execute_result"
    }
   ],
   "source": [
    "type(conn)"
   ]
  },
  {
   "cell_type": "code",
   "execution_count": 12,
   "metadata": {},
   "outputs": [
    {
     "data": {
      "text/html": [
       "<pre style=\"white-space:pre;overflow-x:auto;line-height:normal;font-family:Menlo,'DejaVu Sans Mono',consolas,'Courier New',monospace\"><span style=\"font-weight: bold\">[</span><span style=\"color: #008000; text-decoration-color: #008000\">'public'</span>, <span style=\"color: #008000; text-decoration-color: #008000\">'information_schema'</span>, <span style=\"color: #008000; text-decoration-color: #008000\">'pg_catalog'</span>, <span style=\"color: #008000; text-decoration-color: #008000\">'pg_toast'</span><span style=\"font-weight: bold\">]</span>\n",
       "</pre>\n"
      ],
      "text/plain": [
       "\u001b[1m[\u001b[0m\u001b[32m'public'\u001b[0m, \u001b[32m'information_schema'\u001b[0m, \u001b[32m'pg_catalog'\u001b[0m, \u001b[32m'pg_toast'\u001b[0m\u001b[1m]\u001b[0m\n"
      ]
     },
     "metadata": {},
     "output_type": "display_data"
    }
   ],
   "source": [
    "# list schemas\n",
    "with conn.cursor() as cur:\n",
    "    cur.execute(\"SELECT schema_name FROM information_schema.schemata;\")\n",
    "    schemas = cur.fetchall()\n",
    "    schemas = [schema[0] for schema in schemas]\n",
    "    rprint(schemas)"
   ]
  },
  {
   "cell_type": "code",
   "execution_count": 16,
   "metadata": {},
   "outputs": [
    {
     "data": {
      "text/html": [
       "<pre style=\"white-space:pre;overflow-x:auto;line-height:normal;font-family:Menlo,'DejaVu Sans Mono',consolas,'Courier New',monospace\"><span style=\"font-weight: bold\">[</span><span style=\"color: #008000; text-decoration-color: #008000\">'test_table'</span><span style=\"font-weight: bold\">]</span>\n",
       "</pre>\n"
      ],
      "text/plain": [
       "\u001b[1m[\u001b[0m\u001b[32m'test_table'\u001b[0m\u001b[1m]\u001b[0m\n"
      ]
     },
     "metadata": {},
     "output_type": "display_data"
    }
   ],
   "source": [
    "# list tables in public\n",
    "with conn.cursor() as cur:\n",
    "    cur.execute(\"SELECT table_name FROM information_schema.tables WHERE table_schema = 'public';\")\n",
    "    tables = cur.fetchall()\n",
    "    tables = [table[0] for table in tables]\n",
    "    rprint(tables)"
   ]
  },
  {
   "cell_type": "code",
   "execution_count": 15,
   "metadata": {},
   "outputs": [
    {
     "data": {
      "text/html": [
       "<pre style=\"white-space:pre;overflow-x:auto;line-height:normal;font-family:Menlo,'DejaVu Sans Mono',consolas,'Courier New',monospace\">public\n",
       "<span style=\"font-weight: bold\">[]</span>\n",
       "</pre>\n"
      ],
      "text/plain": [
       "public\n",
       "\u001b[1m[\u001b[0m\u001b[1m]\u001b[0m\n"
      ]
     },
     "metadata": {},
     "output_type": "display_data"
    },
    {
     "data": {
      "text/html": [
       "<pre style=\"white-space:pre;overflow-x:auto;line-height:normal;font-family:Menlo,'DejaVu Sans Mono',consolas,'Courier New',monospace\">information_schema\n",
       "<span style=\"font-weight: bold\">[</span>\n",
       "    <span style=\"color: #008000; text-decoration-color: #008000\">'role_column_grants'</span>,\n",
       "    <span style=\"color: #008000; text-decoration-color: #008000\">'information_schema_catalog_name'</span>,\n",
       "    <span style=\"color: #008000; text-decoration-color: #008000\">'column_domain_usage'</span>,\n",
       "    <span style=\"color: #008000; text-decoration-color: #008000\">'applicable_roles'</span>,\n",
       "    <span style=\"color: #008000; text-decoration-color: #008000\">'administrable_role_authorizations'</span>,\n",
       "    <span style=\"color: #008000; text-decoration-color: #008000\">'domain_constraints'</span>,\n",
       "    <span style=\"color: #008000; text-decoration-color: #008000\">'attributes'</span>,\n",
       "    <span style=\"color: #008000; text-decoration-color: #008000\">'column_privileges'</span>,\n",
       "    <span style=\"color: #008000; text-decoration-color: #008000\">'character_sets'</span>,\n",
       "    <span style=\"color: #008000; text-decoration-color: #008000\">'check_constraint_routine_usage'</span>,\n",
       "    <span style=\"color: #008000; text-decoration-color: #008000\">'check_constraints'</span>,\n",
       "    <span style=\"color: #008000; text-decoration-color: #008000\">'column_udt_usage'</span>,\n",
       "    <span style=\"color: #008000; text-decoration-color: #008000\">'collations'</span>,\n",
       "    <span style=\"color: #008000; text-decoration-color: #008000\">'collation_character_set_applicability'</span>,\n",
       "    <span style=\"color: #008000; text-decoration-color: #008000\">'key_column_usage'</span>,\n",
       "    <span style=\"color: #008000; text-decoration-color: #008000\">'column_column_usage'</span>,\n",
       "    <span style=\"color: #008000; text-decoration-color: #008000\">'columns'</span>,\n",
       "    <span style=\"color: #008000; text-decoration-color: #008000\">'domain_udt_usage'</span>,\n",
       "    <span style=\"color: #008000; text-decoration-color: #008000\">'constraint_column_usage'</span>,\n",
       "    <span style=\"color: #008000; text-decoration-color: #008000\">'constraint_table_usage'</span>,\n",
       "    <span style=\"color: #008000; text-decoration-color: #008000\">'domains'</span>,\n",
       "    <span style=\"color: #008000; text-decoration-color: #008000\">'referential_constraints'</span>,\n",
       "    <span style=\"color: #008000; text-decoration-color: #008000\">'enabled_roles'</span>,\n",
       "    <span style=\"color: #008000; text-decoration-color: #008000\">'parameters'</span>,\n",
       "    <span style=\"color: #008000; text-decoration-color: #008000\">'routine_column_usage'</span>,\n",
       "    <span style=\"color: #008000; text-decoration-color: #008000\">'routine_privileges'</span>,\n",
       "    <span style=\"color: #008000; text-decoration-color: #008000\">'role_routine_grants'</span>,\n",
       "    <span style=\"color: #008000; text-decoration-color: #008000\">'routine_routine_usage'</span>,\n",
       "    <span style=\"color: #008000; text-decoration-color: #008000\">'table_privileges'</span>,\n",
       "    <span style=\"color: #008000; text-decoration-color: #008000\">'routine_sequence_usage'</span>,\n",
       "    <span style=\"color: #008000; text-decoration-color: #008000\">'routine_table_usage'</span>,\n",
       "    <span style=\"color: #008000; text-decoration-color: #008000\">'udt_privileges'</span>,\n",
       "    <span style=\"color: #008000; text-decoration-color: #008000\">'routines'</span>,\n",
       "    <span style=\"color: #008000; text-decoration-color: #008000\">'role_table_grants'</span>,\n",
       "    <span style=\"color: #008000; text-decoration-color: #008000\">'schemata'</span>,\n",
       "    <span style=\"color: #008000; text-decoration-color: #008000\">'sequences'</span>,\n",
       "    <span style=\"color: #008000; text-decoration-color: #008000\">'sql_features'</span>,\n",
       "    <span style=\"color: #008000; text-decoration-color: #008000\">'tables'</span>,\n",
       "    <span style=\"color: #008000; text-decoration-color: #008000\">'sql_implementation_info'</span>,\n",
       "    <span style=\"color: #008000; text-decoration-color: #008000\">'sql_parts'</span>,\n",
       "    <span style=\"color: #008000; text-decoration-color: #008000\">'sql_sizing'</span>,\n",
       "    <span style=\"color: #008000; text-decoration-color: #008000\">'transforms'</span>,\n",
       "    <span style=\"color: #008000; text-decoration-color: #008000\">'table_constraints'</span>,\n",
       "    <span style=\"color: #008000; text-decoration-color: #008000\">'view_routine_usage'</span>,\n",
       "    <span style=\"color: #008000; text-decoration-color: #008000\">'role_udt_grants'</span>,\n",
       "    <span style=\"color: #008000; text-decoration-color: #008000\">'triggered_update_columns'</span>,\n",
       "    <span style=\"color: #008000; text-decoration-color: #008000\">'triggers'</span>,\n",
       "    <span style=\"color: #008000; text-decoration-color: #008000\">'user_defined_types'</span>,\n",
       "    <span style=\"color: #008000; text-decoration-color: #008000\">'usage_privileges'</span>,\n",
       "    <span style=\"color: #008000; text-decoration-color: #008000\">'role_usage_grants'</span>,\n",
       "    <span style=\"color: #008000; text-decoration-color: #008000\">'view_column_usage'</span>,\n",
       "    <span style=\"color: #008000; text-decoration-color: #008000\">'view_table_usage'</span>,\n",
       "    <span style=\"color: #008000; text-decoration-color: #008000\">'views'</span>,\n",
       "    <span style=\"color: #008000; text-decoration-color: #008000\">'data_type_privileges'</span>,\n",
       "    <span style=\"color: #008000; text-decoration-color: #008000\">'_pg_foreign_table_columns'</span>,\n",
       "    <span style=\"color: #008000; text-decoration-color: #008000\">'element_types'</span>,\n",
       "    <span style=\"color: #008000; text-decoration-color: #008000\">'column_options'</span>,\n",
       "    <span style=\"color: #008000; text-decoration-color: #008000\">'_pg_foreign_data_wrappers'</span>,\n",
       "    <span style=\"color: #008000; text-decoration-color: #008000\">'foreign_data_wrapper_options'</span>,\n",
       "    <span style=\"color: #008000; text-decoration-color: #008000\">'foreign_data_wrappers'</span>,\n",
       "    <span style=\"color: #008000; text-decoration-color: #008000\">'_pg_foreign_servers'</span>,\n",
       "    <span style=\"color: #008000; text-decoration-color: #008000\">'foreign_server_options'</span>,\n",
       "    <span style=\"color: #008000; text-decoration-color: #008000\">'foreign_servers'</span>,\n",
       "    <span style=\"color: #008000; text-decoration-color: #008000\">'_pg_foreign_tables'</span>,\n",
       "    <span style=\"color: #008000; text-decoration-color: #008000\">'foreign_table_options'</span>,\n",
       "    <span style=\"color: #008000; text-decoration-color: #008000\">'foreign_tables'</span>,\n",
       "    <span style=\"color: #008000; text-decoration-color: #008000\">'_pg_user_mappings'</span>,\n",
       "    <span style=\"color: #008000; text-decoration-color: #008000\">'user_mapping_options'</span>,\n",
       "    <span style=\"color: #008000; text-decoration-color: #008000\">'user_mappings'</span>\n",
       "<span style=\"font-weight: bold\">]</span>\n",
       "</pre>\n"
      ],
      "text/plain": [
       "information_schema\n",
       "\u001b[1m[\u001b[0m\n",
       "    \u001b[32m'role_column_grants'\u001b[0m,\n",
       "    \u001b[32m'information_schema_catalog_name'\u001b[0m,\n",
       "    \u001b[32m'column_domain_usage'\u001b[0m,\n",
       "    \u001b[32m'applicable_roles'\u001b[0m,\n",
       "    \u001b[32m'administrable_role_authorizations'\u001b[0m,\n",
       "    \u001b[32m'domain_constraints'\u001b[0m,\n",
       "    \u001b[32m'attributes'\u001b[0m,\n",
       "    \u001b[32m'column_privileges'\u001b[0m,\n",
       "    \u001b[32m'character_sets'\u001b[0m,\n",
       "    \u001b[32m'check_constraint_routine_usage'\u001b[0m,\n",
       "    \u001b[32m'check_constraints'\u001b[0m,\n",
       "    \u001b[32m'column_udt_usage'\u001b[0m,\n",
       "    \u001b[32m'collations'\u001b[0m,\n",
       "    \u001b[32m'collation_character_set_applicability'\u001b[0m,\n",
       "    \u001b[32m'key_column_usage'\u001b[0m,\n",
       "    \u001b[32m'column_column_usage'\u001b[0m,\n",
       "    \u001b[32m'columns'\u001b[0m,\n",
       "    \u001b[32m'domain_udt_usage'\u001b[0m,\n",
       "    \u001b[32m'constraint_column_usage'\u001b[0m,\n",
       "    \u001b[32m'constraint_table_usage'\u001b[0m,\n",
       "    \u001b[32m'domains'\u001b[0m,\n",
       "    \u001b[32m'referential_constraints'\u001b[0m,\n",
       "    \u001b[32m'enabled_roles'\u001b[0m,\n",
       "    \u001b[32m'parameters'\u001b[0m,\n",
       "    \u001b[32m'routine_column_usage'\u001b[0m,\n",
       "    \u001b[32m'routine_privileges'\u001b[0m,\n",
       "    \u001b[32m'role_routine_grants'\u001b[0m,\n",
       "    \u001b[32m'routine_routine_usage'\u001b[0m,\n",
       "    \u001b[32m'table_privileges'\u001b[0m,\n",
       "    \u001b[32m'routine_sequence_usage'\u001b[0m,\n",
       "    \u001b[32m'routine_table_usage'\u001b[0m,\n",
       "    \u001b[32m'udt_privileges'\u001b[0m,\n",
       "    \u001b[32m'routines'\u001b[0m,\n",
       "    \u001b[32m'role_table_grants'\u001b[0m,\n",
       "    \u001b[32m'schemata'\u001b[0m,\n",
       "    \u001b[32m'sequences'\u001b[0m,\n",
       "    \u001b[32m'sql_features'\u001b[0m,\n",
       "    \u001b[32m'tables'\u001b[0m,\n",
       "    \u001b[32m'sql_implementation_info'\u001b[0m,\n",
       "    \u001b[32m'sql_parts'\u001b[0m,\n",
       "    \u001b[32m'sql_sizing'\u001b[0m,\n",
       "    \u001b[32m'transforms'\u001b[0m,\n",
       "    \u001b[32m'table_constraints'\u001b[0m,\n",
       "    \u001b[32m'view_routine_usage'\u001b[0m,\n",
       "    \u001b[32m'role_udt_grants'\u001b[0m,\n",
       "    \u001b[32m'triggered_update_columns'\u001b[0m,\n",
       "    \u001b[32m'triggers'\u001b[0m,\n",
       "    \u001b[32m'user_defined_types'\u001b[0m,\n",
       "    \u001b[32m'usage_privileges'\u001b[0m,\n",
       "    \u001b[32m'role_usage_grants'\u001b[0m,\n",
       "    \u001b[32m'view_column_usage'\u001b[0m,\n",
       "    \u001b[32m'view_table_usage'\u001b[0m,\n",
       "    \u001b[32m'views'\u001b[0m,\n",
       "    \u001b[32m'data_type_privileges'\u001b[0m,\n",
       "    \u001b[32m'_pg_foreign_table_columns'\u001b[0m,\n",
       "    \u001b[32m'element_types'\u001b[0m,\n",
       "    \u001b[32m'column_options'\u001b[0m,\n",
       "    \u001b[32m'_pg_foreign_data_wrappers'\u001b[0m,\n",
       "    \u001b[32m'foreign_data_wrapper_options'\u001b[0m,\n",
       "    \u001b[32m'foreign_data_wrappers'\u001b[0m,\n",
       "    \u001b[32m'_pg_foreign_servers'\u001b[0m,\n",
       "    \u001b[32m'foreign_server_options'\u001b[0m,\n",
       "    \u001b[32m'foreign_servers'\u001b[0m,\n",
       "    \u001b[32m'_pg_foreign_tables'\u001b[0m,\n",
       "    \u001b[32m'foreign_table_options'\u001b[0m,\n",
       "    \u001b[32m'foreign_tables'\u001b[0m,\n",
       "    \u001b[32m'_pg_user_mappings'\u001b[0m,\n",
       "    \u001b[32m'user_mapping_options'\u001b[0m,\n",
       "    \u001b[32m'user_mappings'\u001b[0m\n",
       "\u001b[1m]\u001b[0m\n"
      ]
     },
     "metadata": {},
     "output_type": "display_data"
    },
    {
     "data": {
      "text/html": [
       "<pre style=\"white-space:pre;overflow-x:auto;line-height:normal;font-family:Menlo,'DejaVu Sans Mono',consolas,'Courier New',monospace\">pg_catalog\n",
       "<span style=\"font-weight: bold\">[</span>\n",
       "    <span style=\"color: #008000; text-decoration-color: #008000\">'pg_statistic'</span>,\n",
       "    <span style=\"color: #008000; text-decoration-color: #008000\">'pg_type'</span>,\n",
       "    <span style=\"color: #008000; text-decoration-color: #008000\">'pg_foreign_table'</span>,\n",
       "    <span style=\"color: #008000; text-decoration-color: #008000\">'pg_authid'</span>,\n",
       "    <span style=\"color: #008000; text-decoration-color: #008000\">'pg_shadow'</span>,\n",
       "    <span style=\"color: #008000; text-decoration-color: #008000\">'pg_roles'</span>,\n",
       "    <span style=\"color: #008000; text-decoration-color: #008000\">'pg_statistic_ext_data'</span>,\n",
       "    <span style=\"color: #008000; text-decoration-color: #008000\">'pg_settings'</span>,\n",
       "    <span style=\"color: #008000; text-decoration-color: #008000\">'pg_file_settings'</span>,\n",
       "    <span style=\"color: #008000; text-decoration-color: #008000\">'pg_hba_file_rules'</span>,\n",
       "    <span style=\"color: #008000; text-decoration-color: #008000\">'pg_ident_file_mappings'</span>,\n",
       "    <span style=\"color: #008000; text-decoration-color: #008000\">'pg_config'</span>,\n",
       "    <span style=\"color: #008000; text-decoration-color: #008000\">'pg_shmem_allocations'</span>,\n",
       "    <span style=\"color: #008000; text-decoration-color: #008000\">'pg_backend_memory_contexts'</span>,\n",
       "    <span style=\"color: #008000; text-decoration-color: #008000\">'pg_user_mapping'</span>,\n",
       "    <span style=\"color: #008000; text-decoration-color: #008000\">'pg_stat_activity'</span>,\n",
       "    <span style=\"color: #008000; text-decoration-color: #008000\">'pg_replication_origin_status'</span>,\n",
       "    <span style=\"color: #008000; text-decoration-color: #008000\">'pg_subscription'</span>,\n",
       "    <span style=\"color: #008000; text-decoration-color: #008000\">'pg_attribute'</span>,\n",
       "    <span style=\"color: #008000; text-decoration-color: #008000\">'pg_proc'</span>,\n",
       "    <span style=\"color: #008000; text-decoration-color: #008000\">'pg_class'</span>,\n",
       "    <span style=\"color: #008000; text-decoration-color: #008000\">'pg_attrdef'</span>,\n",
       "    <span style=\"color: #008000; text-decoration-color: #008000\">'pg_constraint'</span>,\n",
       "    <span style=\"color: #008000; text-decoration-color: #008000\">'pg_inherits'</span>,\n",
       "    <span style=\"color: #008000; text-decoration-color: #008000\">'pg_index'</span>,\n",
       "    <span style=\"color: #008000; text-decoration-color: #008000\">'pg_stat_replication'</span>,\n",
       "    <span style=\"color: #008000; text-decoration-color: #008000\">'pg_stat_slru'</span>,\n",
       "    <span style=\"color: #008000; text-decoration-color: #008000\">'pg_stat_wal_receiver'</span>,\n",
       "    <span style=\"color: #008000; text-decoration-color: #008000\">'pg_stat_recovery_prefetch'</span>,\n",
       "    <span style=\"color: #008000; text-decoration-color: #008000\">'pg_operator'</span>,\n",
       "    <span style=\"color: #008000; text-decoration-color: #008000\">'pg_opfamily'</span>,\n",
       "    <span style=\"color: #008000; text-decoration-color: #008000\">'pg_opclass'</span>,\n",
       "    <span style=\"color: #008000; text-decoration-color: #008000\">'pg_am'</span>,\n",
       "    <span style=\"color: #008000; text-decoration-color: #008000\">'pg_amop'</span>,\n",
       "    <span style=\"color: #008000; text-decoration-color: #008000\">'pg_amproc'</span>,\n",
       "    <span style=\"color: #008000; text-decoration-color: #008000\">'pg_language'</span>,\n",
       "    <span style=\"color: #008000; text-decoration-color: #008000\">'pg_largeobject_metadata'</span>,\n",
       "    <span style=\"color: #008000; text-decoration-color: #008000\">'pg_aggregate'</span>,\n",
       "    <span style=\"color: #008000; text-decoration-color: #008000\">'pg_statistic_ext'</span>,\n",
       "    <span style=\"color: #008000; text-decoration-color: #008000\">'pg_rewrite'</span>,\n",
       "    <span style=\"color: #008000; text-decoration-color: #008000\">'pg_trigger'</span>,\n",
       "    <span style=\"color: #008000; text-decoration-color: #008000\">'pg_event_trigger'</span>,\n",
       "    <span style=\"color: #008000; text-decoration-color: #008000\">'pg_description'</span>,\n",
       "    <span style=\"color: #008000; text-decoration-color: #008000\">'pg_cast'</span>,\n",
       "    <span style=\"color: #008000; text-decoration-color: #008000\">'pg_enum'</span>,\n",
       "    <span style=\"color: #008000; text-decoration-color: #008000\">'pg_namespace'</span>,\n",
       "    <span style=\"color: #008000; text-decoration-color: #008000\">'pg_conversion'</span>,\n",
       "    <span style=\"color: #008000; text-decoration-color: #008000\">'pg_depend'</span>,\n",
       "    <span style=\"color: #008000; text-decoration-color: #008000\">'pg_database'</span>,\n",
       "    <span style=\"color: #008000; text-decoration-color: #008000\">'pg_db_role_setting'</span>,\n",
       "    <span style=\"color: #008000; text-decoration-color: #008000\">'pg_tablespace'</span>,\n",
       "    <span style=\"color: #008000; text-decoration-color: #008000\">'pg_auth_members'</span>,\n",
       "    <span style=\"color: #008000; text-decoration-color: #008000\">'pg_shdepend'</span>,\n",
       "    <span style=\"color: #008000; text-decoration-color: #008000\">'pg_shdescription'</span>,\n",
       "    <span style=\"color: #008000; text-decoration-color: #008000\">'pg_ts_config'</span>,\n",
       "    <span style=\"color: #008000; text-decoration-color: #008000\">'pg_ts_config_map'</span>,\n",
       "    <span style=\"color: #008000; text-decoration-color: #008000\">'pg_ts_dict'</span>,\n",
       "    <span style=\"color: #008000; text-decoration-color: #008000\">'pg_ts_parser'</span>,\n",
       "    <span style=\"color: #008000; text-decoration-color: #008000\">'pg_ts_template'</span>,\n",
       "    <span style=\"color: #008000; text-decoration-color: #008000\">'pg_extension'</span>,\n",
       "    <span style=\"color: #008000; text-decoration-color: #008000\">'pg_foreign_data_wrapper'</span>,\n",
       "    <span style=\"color: #008000; text-decoration-color: #008000\">'pg_foreign_server'</span>,\n",
       "    <span style=\"color: #008000; text-decoration-color: #008000\">'pg_policy'</span>,\n",
       "    <span style=\"color: #008000; text-decoration-color: #008000\">'pg_replication_origin'</span>,\n",
       "    <span style=\"color: #008000; text-decoration-color: #008000\">'pg_default_acl'</span>,\n",
       "    <span style=\"color: #008000; text-decoration-color: #008000\">'pg_init_privs'</span>,\n",
       "    <span style=\"color: #008000; text-decoration-color: #008000\">'pg_seclabel'</span>,\n",
       "    <span style=\"color: #008000; text-decoration-color: #008000\">'pg_shseclabel'</span>,\n",
       "    <span style=\"color: #008000; text-decoration-color: #008000\">'pg_collation'</span>,\n",
       "    <span style=\"color: #008000; text-decoration-color: #008000\">'pg_parameter_acl'</span>,\n",
       "    <span style=\"color: #008000; text-decoration-color: #008000\">'pg_partitioned_table'</span>,\n",
       "    <span style=\"color: #008000; text-decoration-color: #008000\">'pg_range'</span>,\n",
       "    <span style=\"color: #008000; text-decoration-color: #008000\">'pg_transform'</span>,\n",
       "    <span style=\"color: #008000; text-decoration-color: #008000\">'pg_sequence'</span>,\n",
       "    <span style=\"color: #008000; text-decoration-color: #008000\">'pg_publication'</span>,\n",
       "    <span style=\"color: #008000; text-decoration-color: #008000\">'pg_publication_namespace'</span>,\n",
       "    <span style=\"color: #008000; text-decoration-color: #008000\">'pg_publication_rel'</span>,\n",
       "    <span style=\"color: #008000; text-decoration-color: #008000\">'pg_subscription_rel'</span>,\n",
       "    <span style=\"color: #008000; text-decoration-color: #008000\">'pg_group'</span>,\n",
       "    <span style=\"color: #008000; text-decoration-color: #008000\">'pg_user'</span>,\n",
       "    <span style=\"color: #008000; text-decoration-color: #008000\">'pg_policies'</span>,\n",
       "    <span style=\"color: #008000; text-decoration-color: #008000\">'pg_rules'</span>,\n",
       "    <span style=\"color: #008000; text-decoration-color: #008000\">'pg_views'</span>,\n",
       "    <span style=\"color: #008000; text-decoration-color: #008000\">'pg_tables'</span>,\n",
       "    <span style=\"color: #008000; text-decoration-color: #008000\">'pg_matviews'</span>,\n",
       "    <span style=\"color: #008000; text-decoration-color: #008000\">'pg_indexes'</span>,\n",
       "    <span style=\"color: #008000; text-decoration-color: #008000\">'pg_sequences'</span>,\n",
       "    <span style=\"color: #008000; text-decoration-color: #008000\">'pg_stats'</span>,\n",
       "    <span style=\"color: #008000; text-decoration-color: #008000\">'pg_stats_ext'</span>,\n",
       "    <span style=\"color: #008000; text-decoration-color: #008000\">'pg_stats_ext_exprs'</span>,\n",
       "    <span style=\"color: #008000; text-decoration-color: #008000\">'pg_publication_tables'</span>,\n",
       "    <span style=\"color: #008000; text-decoration-color: #008000\">'pg_locks'</span>,\n",
       "    <span style=\"color: #008000; text-decoration-color: #008000\">'pg_cursors'</span>,\n",
       "    <span style=\"color: #008000; text-decoration-color: #008000\">'pg_available_extensions'</span>,\n",
       "    <span style=\"color: #008000; text-decoration-color: #008000\">'pg_available_extension_versions'</span>,\n",
       "    <span style=\"color: #008000; text-decoration-color: #008000\">'pg_prepared_xacts'</span>,\n",
       "    <span style=\"color: #008000; text-decoration-color: #008000\">'pg_prepared_statements'</span>,\n",
       "    <span style=\"color: #008000; text-decoration-color: #008000\">'pg_seclabels'</span>,\n",
       "    <span style=\"color: #008000; text-decoration-color: #008000\">'pg_timezone_abbrevs'</span>,\n",
       "    <span style=\"color: #008000; text-decoration-color: #008000\">'pg_timezone_names'</span>,\n",
       "    <span style=\"color: #008000; text-decoration-color: #008000\">'pg_stat_sys_tables'</span>,\n",
       "    <span style=\"color: #008000; text-decoration-color: #008000\">'pg_stat_xact_sys_tables'</span>,\n",
       "    <span style=\"color: #008000; text-decoration-color: #008000\">'pg_stat_user_tables'</span>,\n",
       "    <span style=\"color: #008000; text-decoration-color: #008000\">'pg_stat_all_tables'</span>,\n",
       "    <span style=\"color: #008000; text-decoration-color: #008000\">'pg_stat_xact_all_tables'</span>,\n",
       "    <span style=\"color: #008000; text-decoration-color: #008000\">'pg_stat_xact_user_tables'</span>,\n",
       "    <span style=\"color: #008000; text-decoration-color: #008000\">'pg_statio_all_tables'</span>,\n",
       "    <span style=\"color: #008000; text-decoration-color: #008000\">'pg_statio_sys_tables'</span>,\n",
       "    <span style=\"color: #008000; text-decoration-color: #008000\">'pg_statio_user_tables'</span>,\n",
       "    <span style=\"color: #008000; text-decoration-color: #008000\">'pg_stat_all_indexes'</span>,\n",
       "    <span style=\"color: #008000; text-decoration-color: #008000\">'pg_stat_sys_indexes'</span>,\n",
       "    <span style=\"color: #008000; text-decoration-color: #008000\">'pg_stat_user_indexes'</span>,\n",
       "    <span style=\"color: #008000; text-decoration-color: #008000\">'pg_statio_all_indexes'</span>,\n",
       "    <span style=\"color: #008000; text-decoration-color: #008000\">'pg_statio_sys_indexes'</span>,\n",
       "    <span style=\"color: #008000; text-decoration-color: #008000\">'pg_statio_user_indexes'</span>,\n",
       "    <span style=\"color: #008000; text-decoration-color: #008000\">'pg_statio_all_sequences'</span>,\n",
       "    <span style=\"color: #008000; text-decoration-color: #008000\">'pg_statio_sys_sequences'</span>,\n",
       "    <span style=\"color: #008000; text-decoration-color: #008000\">'pg_statio_user_sequences'</span>,\n",
       "    <span style=\"color: #008000; text-decoration-color: #008000\">'pg_stat_subscription'</span>,\n",
       "    <span style=\"color: #008000; text-decoration-color: #008000\">'pg_stat_ssl'</span>,\n",
       "    <span style=\"color: #008000; text-decoration-color: #008000\">'pg_stat_gssapi'</span>,\n",
       "    <span style=\"color: #008000; text-decoration-color: #008000\">'pg_replication_slots'</span>,\n",
       "    <span style=\"color: #008000; text-decoration-color: #008000\">'pg_stat_replication_slots'</span>,\n",
       "    <span style=\"color: #008000; text-decoration-color: #008000\">'pg_stat_database'</span>,\n",
       "    <span style=\"color: #008000; text-decoration-color: #008000\">'pg_stat_database_conflicts'</span>,\n",
       "    <span style=\"color: #008000; text-decoration-color: #008000\">'pg_stat_user_functions'</span>,\n",
       "    <span style=\"color: #008000; text-decoration-color: #008000\">'pg_stat_xact_user_functions'</span>,\n",
       "    <span style=\"color: #008000; text-decoration-color: #008000\">'pg_stat_archiver'</span>,\n",
       "    <span style=\"color: #008000; text-decoration-color: #008000\">'pg_stat_bgwriter'</span>,\n",
       "    <span style=\"color: #008000; text-decoration-color: #008000\">'pg_stat_wal'</span>,\n",
       "    <span style=\"color: #008000; text-decoration-color: #008000\">'pg_stat_progress_analyze'</span>,\n",
       "    <span style=\"color: #008000; text-decoration-color: #008000\">'pg_stat_progress_vacuum'</span>,\n",
       "    <span style=\"color: #008000; text-decoration-color: #008000\">'pg_stat_progress_cluster'</span>,\n",
       "    <span style=\"color: #008000; text-decoration-color: #008000\">'pg_stat_progress_create_index'</span>,\n",
       "    <span style=\"color: #008000; text-decoration-color: #008000\">'pg_stat_progress_basebackup'</span>,\n",
       "    <span style=\"color: #008000; text-decoration-color: #008000\">'pg_stat_progress_copy'</span>,\n",
       "    <span style=\"color: #008000; text-decoration-color: #008000\">'pg_user_mappings'</span>,\n",
       "    <span style=\"color: #008000; text-decoration-color: #008000\">'pg_stat_subscription_stats'</span>,\n",
       "    <span style=\"color: #008000; text-decoration-color: #008000\">'pg_largeobject'</span>\n",
       "<span style=\"font-weight: bold\">]</span>\n",
       "</pre>\n"
      ],
      "text/plain": [
       "pg_catalog\n",
       "\u001b[1m[\u001b[0m\n",
       "    \u001b[32m'pg_statistic'\u001b[0m,\n",
       "    \u001b[32m'pg_type'\u001b[0m,\n",
       "    \u001b[32m'pg_foreign_table'\u001b[0m,\n",
       "    \u001b[32m'pg_authid'\u001b[0m,\n",
       "    \u001b[32m'pg_shadow'\u001b[0m,\n",
       "    \u001b[32m'pg_roles'\u001b[0m,\n",
       "    \u001b[32m'pg_statistic_ext_data'\u001b[0m,\n",
       "    \u001b[32m'pg_settings'\u001b[0m,\n",
       "    \u001b[32m'pg_file_settings'\u001b[0m,\n",
       "    \u001b[32m'pg_hba_file_rules'\u001b[0m,\n",
       "    \u001b[32m'pg_ident_file_mappings'\u001b[0m,\n",
       "    \u001b[32m'pg_config'\u001b[0m,\n",
       "    \u001b[32m'pg_shmem_allocations'\u001b[0m,\n",
       "    \u001b[32m'pg_backend_memory_contexts'\u001b[0m,\n",
       "    \u001b[32m'pg_user_mapping'\u001b[0m,\n",
       "    \u001b[32m'pg_stat_activity'\u001b[0m,\n",
       "    \u001b[32m'pg_replication_origin_status'\u001b[0m,\n",
       "    \u001b[32m'pg_subscription'\u001b[0m,\n",
       "    \u001b[32m'pg_attribute'\u001b[0m,\n",
       "    \u001b[32m'pg_proc'\u001b[0m,\n",
       "    \u001b[32m'pg_class'\u001b[0m,\n",
       "    \u001b[32m'pg_attrdef'\u001b[0m,\n",
       "    \u001b[32m'pg_constraint'\u001b[0m,\n",
       "    \u001b[32m'pg_inherits'\u001b[0m,\n",
       "    \u001b[32m'pg_index'\u001b[0m,\n",
       "    \u001b[32m'pg_stat_replication'\u001b[0m,\n",
       "    \u001b[32m'pg_stat_slru'\u001b[0m,\n",
       "    \u001b[32m'pg_stat_wal_receiver'\u001b[0m,\n",
       "    \u001b[32m'pg_stat_recovery_prefetch'\u001b[0m,\n",
       "    \u001b[32m'pg_operator'\u001b[0m,\n",
       "    \u001b[32m'pg_opfamily'\u001b[0m,\n",
       "    \u001b[32m'pg_opclass'\u001b[0m,\n",
       "    \u001b[32m'pg_am'\u001b[0m,\n",
       "    \u001b[32m'pg_amop'\u001b[0m,\n",
       "    \u001b[32m'pg_amproc'\u001b[0m,\n",
       "    \u001b[32m'pg_language'\u001b[0m,\n",
       "    \u001b[32m'pg_largeobject_metadata'\u001b[0m,\n",
       "    \u001b[32m'pg_aggregate'\u001b[0m,\n",
       "    \u001b[32m'pg_statistic_ext'\u001b[0m,\n",
       "    \u001b[32m'pg_rewrite'\u001b[0m,\n",
       "    \u001b[32m'pg_trigger'\u001b[0m,\n",
       "    \u001b[32m'pg_event_trigger'\u001b[0m,\n",
       "    \u001b[32m'pg_description'\u001b[0m,\n",
       "    \u001b[32m'pg_cast'\u001b[0m,\n",
       "    \u001b[32m'pg_enum'\u001b[0m,\n",
       "    \u001b[32m'pg_namespace'\u001b[0m,\n",
       "    \u001b[32m'pg_conversion'\u001b[0m,\n",
       "    \u001b[32m'pg_depend'\u001b[0m,\n",
       "    \u001b[32m'pg_database'\u001b[0m,\n",
       "    \u001b[32m'pg_db_role_setting'\u001b[0m,\n",
       "    \u001b[32m'pg_tablespace'\u001b[0m,\n",
       "    \u001b[32m'pg_auth_members'\u001b[0m,\n",
       "    \u001b[32m'pg_shdepend'\u001b[0m,\n",
       "    \u001b[32m'pg_shdescription'\u001b[0m,\n",
       "    \u001b[32m'pg_ts_config'\u001b[0m,\n",
       "    \u001b[32m'pg_ts_config_map'\u001b[0m,\n",
       "    \u001b[32m'pg_ts_dict'\u001b[0m,\n",
       "    \u001b[32m'pg_ts_parser'\u001b[0m,\n",
       "    \u001b[32m'pg_ts_template'\u001b[0m,\n",
       "    \u001b[32m'pg_extension'\u001b[0m,\n",
       "    \u001b[32m'pg_foreign_data_wrapper'\u001b[0m,\n",
       "    \u001b[32m'pg_foreign_server'\u001b[0m,\n",
       "    \u001b[32m'pg_policy'\u001b[0m,\n",
       "    \u001b[32m'pg_replication_origin'\u001b[0m,\n",
       "    \u001b[32m'pg_default_acl'\u001b[0m,\n",
       "    \u001b[32m'pg_init_privs'\u001b[0m,\n",
       "    \u001b[32m'pg_seclabel'\u001b[0m,\n",
       "    \u001b[32m'pg_shseclabel'\u001b[0m,\n",
       "    \u001b[32m'pg_collation'\u001b[0m,\n",
       "    \u001b[32m'pg_parameter_acl'\u001b[0m,\n",
       "    \u001b[32m'pg_partitioned_table'\u001b[0m,\n",
       "    \u001b[32m'pg_range'\u001b[0m,\n",
       "    \u001b[32m'pg_transform'\u001b[0m,\n",
       "    \u001b[32m'pg_sequence'\u001b[0m,\n",
       "    \u001b[32m'pg_publication'\u001b[0m,\n",
       "    \u001b[32m'pg_publication_namespace'\u001b[0m,\n",
       "    \u001b[32m'pg_publication_rel'\u001b[0m,\n",
       "    \u001b[32m'pg_subscription_rel'\u001b[0m,\n",
       "    \u001b[32m'pg_group'\u001b[0m,\n",
       "    \u001b[32m'pg_user'\u001b[0m,\n",
       "    \u001b[32m'pg_policies'\u001b[0m,\n",
       "    \u001b[32m'pg_rules'\u001b[0m,\n",
       "    \u001b[32m'pg_views'\u001b[0m,\n",
       "    \u001b[32m'pg_tables'\u001b[0m,\n",
       "    \u001b[32m'pg_matviews'\u001b[0m,\n",
       "    \u001b[32m'pg_indexes'\u001b[0m,\n",
       "    \u001b[32m'pg_sequences'\u001b[0m,\n",
       "    \u001b[32m'pg_stats'\u001b[0m,\n",
       "    \u001b[32m'pg_stats_ext'\u001b[0m,\n",
       "    \u001b[32m'pg_stats_ext_exprs'\u001b[0m,\n",
       "    \u001b[32m'pg_publication_tables'\u001b[0m,\n",
       "    \u001b[32m'pg_locks'\u001b[0m,\n",
       "    \u001b[32m'pg_cursors'\u001b[0m,\n",
       "    \u001b[32m'pg_available_extensions'\u001b[0m,\n",
       "    \u001b[32m'pg_available_extension_versions'\u001b[0m,\n",
       "    \u001b[32m'pg_prepared_xacts'\u001b[0m,\n",
       "    \u001b[32m'pg_prepared_statements'\u001b[0m,\n",
       "    \u001b[32m'pg_seclabels'\u001b[0m,\n",
       "    \u001b[32m'pg_timezone_abbrevs'\u001b[0m,\n",
       "    \u001b[32m'pg_timezone_names'\u001b[0m,\n",
       "    \u001b[32m'pg_stat_sys_tables'\u001b[0m,\n",
       "    \u001b[32m'pg_stat_xact_sys_tables'\u001b[0m,\n",
       "    \u001b[32m'pg_stat_user_tables'\u001b[0m,\n",
       "    \u001b[32m'pg_stat_all_tables'\u001b[0m,\n",
       "    \u001b[32m'pg_stat_xact_all_tables'\u001b[0m,\n",
       "    \u001b[32m'pg_stat_xact_user_tables'\u001b[0m,\n",
       "    \u001b[32m'pg_statio_all_tables'\u001b[0m,\n",
       "    \u001b[32m'pg_statio_sys_tables'\u001b[0m,\n",
       "    \u001b[32m'pg_statio_user_tables'\u001b[0m,\n",
       "    \u001b[32m'pg_stat_all_indexes'\u001b[0m,\n",
       "    \u001b[32m'pg_stat_sys_indexes'\u001b[0m,\n",
       "    \u001b[32m'pg_stat_user_indexes'\u001b[0m,\n",
       "    \u001b[32m'pg_statio_all_indexes'\u001b[0m,\n",
       "    \u001b[32m'pg_statio_sys_indexes'\u001b[0m,\n",
       "    \u001b[32m'pg_statio_user_indexes'\u001b[0m,\n",
       "    \u001b[32m'pg_statio_all_sequences'\u001b[0m,\n",
       "    \u001b[32m'pg_statio_sys_sequences'\u001b[0m,\n",
       "    \u001b[32m'pg_statio_user_sequences'\u001b[0m,\n",
       "    \u001b[32m'pg_stat_subscription'\u001b[0m,\n",
       "    \u001b[32m'pg_stat_ssl'\u001b[0m,\n",
       "    \u001b[32m'pg_stat_gssapi'\u001b[0m,\n",
       "    \u001b[32m'pg_replication_slots'\u001b[0m,\n",
       "    \u001b[32m'pg_stat_replication_slots'\u001b[0m,\n",
       "    \u001b[32m'pg_stat_database'\u001b[0m,\n",
       "    \u001b[32m'pg_stat_database_conflicts'\u001b[0m,\n",
       "    \u001b[32m'pg_stat_user_functions'\u001b[0m,\n",
       "    \u001b[32m'pg_stat_xact_user_functions'\u001b[0m,\n",
       "    \u001b[32m'pg_stat_archiver'\u001b[0m,\n",
       "    \u001b[32m'pg_stat_bgwriter'\u001b[0m,\n",
       "    \u001b[32m'pg_stat_wal'\u001b[0m,\n",
       "    \u001b[32m'pg_stat_progress_analyze'\u001b[0m,\n",
       "    \u001b[32m'pg_stat_progress_vacuum'\u001b[0m,\n",
       "    \u001b[32m'pg_stat_progress_cluster'\u001b[0m,\n",
       "    \u001b[32m'pg_stat_progress_create_index'\u001b[0m,\n",
       "    \u001b[32m'pg_stat_progress_basebackup'\u001b[0m,\n",
       "    \u001b[32m'pg_stat_progress_copy'\u001b[0m,\n",
       "    \u001b[32m'pg_user_mappings'\u001b[0m,\n",
       "    \u001b[32m'pg_stat_subscription_stats'\u001b[0m,\n",
       "    \u001b[32m'pg_largeobject'\u001b[0m\n",
       "\u001b[1m]\u001b[0m\n"
      ]
     },
     "metadata": {},
     "output_type": "display_data"
    },
    {
     "data": {
      "text/html": [
       "<pre style=\"white-space:pre;overflow-x:auto;line-height:normal;font-family:Menlo,'DejaVu Sans Mono',consolas,'Courier New',monospace\">pg_toast\n",
       "<span style=\"font-weight: bold\">[]</span>\n",
       "</pre>\n"
      ],
      "text/plain": [
       "pg_toast\n",
       "\u001b[1m[\u001b[0m\u001b[1m]\u001b[0m\n"
      ]
     },
     "metadata": {},
     "output_type": "display_data"
    }
   ],
   "source": [
    "# for each schema, list tables\n",
    "for schema in schemas:\n",
    "    with conn.cursor() as cur:\n",
    "        cur.execute(\n",
    "            f\"SELECT table_name FROM information_schema.tables WHERE table_schema = '{schema}';\"\n",
    "        )\n",
    "        tables = cur.fetchall()\n",
    "        tables = [table[0] for table in tables]\n",
    "        rprint(schema, tables)"
   ]
  },
  {
   "cell_type": "code",
   "execution_count": 13,
   "metadata": {},
   "outputs": [],
   "source": [
    "with conn.cursor() as cur:\n",
    "    # Execute the CREATE EXTENSION command\n",
    "    try:\n",
    "        cur.execute(\"CREATE EXTENSION IF NOT EXISTS vector;\")\n",
    "        conn.commit()\n",
    "    except Exception as e:\n",
    "        conn.rollback()\n",
    "        print(f\"Error occurred: {e}\")"
   ]
  },
  {
   "cell_type": "code",
   "execution_count": 14,
   "metadata": {},
   "outputs": [],
   "source": [
    "register_vector(conn)"
   ]
  },
  {
   "cell_type": "code",
   "execution_count": 15,
   "metadata": {},
   "outputs": [],
   "source": [
    "# create a table in public\n",
    "with conn.cursor() as cur:\n",
    "    cur.execute(\n",
    "        \"\"\"\n",
    "        CREATE TABLE public.test_table (\n",
    "            id serial PRIMARY KEY,\n",
    "            name VARCHAR ( 50 ) UNIQUE NOT NULL,\n",
    "            vector VECTOR(3)\n",
    "        );\n",
    "        \"\"\"\n",
    "    )\n"
   ]
  },
  {
   "cell_type": "code",
   "execution_count": 35,
   "metadata": {},
   "outputs": [
    {
     "ename": "OperationalError",
     "evalue": "connection failed: connection to server at \"3.209.98.240\", port 5432 failed: could not receive data from server: Connection refused\ncould not send SSL negotiation packet: Connection refused",
     "output_type": "error",
     "traceback": [
      "\u001b[0;31m---------------------------------------------------------------------------\u001b[0m",
      "\u001b[0;31mOperationalError\u001b[0m                          Traceback (most recent call last)",
      "Cell \u001b[0;32mIn[35], line 1\u001b[0m\n\u001b[0;32m----> 1\u001b[0m conn \u001b[38;5;241m=\u001b[39m \u001b[43mpsycopg\u001b[49m\u001b[38;5;241;43m.\u001b[39;49m\u001b[43mconnect\u001b[49m\u001b[43m(\u001b[49m\u001b[43mos\u001b[49m\u001b[38;5;241;43m.\u001b[39;49m\u001b[43menviron\u001b[49m\u001b[43m[\u001b[49m\u001b[38;5;124;43m'\u001b[39;49m\u001b[38;5;124;43mAURORA_POSTGRES_CONNECTION_STRING\u001b[39;49m\u001b[38;5;124;43m'\u001b[39;49m\u001b[43m]\u001b[49m\u001b[43m)\u001b[49m\n",
      "File \u001b[0;32m~/miniforge3/lib/python3.10/site-packages/psycopg/connection.py:748\u001b[0m, in \u001b[0;36mConnection.connect\u001b[0;34m(cls, conninfo, autocommit, prepare_threshold, row_factory, cursor_factory, context, **kwargs)\u001b[0m\n\u001b[1;32m    746\u001b[0m \u001b[38;5;28;01mif\u001b[39;00m \u001b[38;5;129;01mnot\u001b[39;00m rv:\n\u001b[1;32m    747\u001b[0m     \u001b[38;5;28;01massert\u001b[39;00m last_ex\n\u001b[0;32m--> 748\u001b[0m     \u001b[38;5;28;01mraise\u001b[39;00m last_ex\u001b[38;5;241m.\u001b[39mwith_traceback(\u001b[38;5;28;01mNone\u001b[39;00m)\n\u001b[1;32m    750\u001b[0m rv\u001b[38;5;241m.\u001b[39m_autocommit \u001b[38;5;241m=\u001b[39m \u001b[38;5;28mbool\u001b[39m(autocommit)\n\u001b[1;32m    751\u001b[0m \u001b[38;5;28;01mif\u001b[39;00m row_factory:\n",
      "\u001b[0;31mOperationalError\u001b[0m: connection failed: connection to server at \"3.209.98.240\", port 5432 failed: could not receive data from server: Connection refused\ncould not send SSL negotiation packet: Connection refused"
     ]
    }
   ],
   "source": [
    "conn = psycopg.connect(os.environ['AURORA_POSTGRES_CONNECTION_STRING'])"
   ]
  },
  {
   "cell_type": "code",
   "execution_count": 31,
   "metadata": {},
   "outputs": [
    {
     "name": "stdout",
     "output_type": "stream",
     "text": [
      "Table 'test_table' does not exist in schema 'public'. Creating the table...\n",
      "Data inserted successfully.\n"
     ]
    }
   ],
   "source": [
    "# Ensure table exists and use the correct schema\n",
    "with conn.cursor() as cur:\n",
    "    try:\n",
    "        # Set search path to public schema\n",
    "        cur.execute(\"SET search_path TO public;\")\n",
    "        conn.commit()\n",
    "        \n",
    "        # Verify table creation\n",
    "        cur.execute(\"SELECT table_name FROM information_schema.tables WHERE table_schema = 'public' AND table_name = 'test_table';\")\n",
    "        table_exists = cur.fetchone()\n",
    "        if not table_exists:\n",
    "            print(\"Table 'test_table' does not exist in schema 'public'. Creating the table...\")\n",
    "            cur.execute(\n",
    "                \"\"\"\n",
    "                CREATE TABLE public.test_table (\n",
    "                    id serial PRIMARY KEY,\n",
    "                    name text NOT NULL,\n",
    "                    vector vector(3) -- assuming the vector has 3 dimensions\n",
    "                );\n",
    "                \"\"\"\n",
    "            )\n",
    "            conn.commit()\n",
    "        else:\n",
    "            print(\"Table 'test_table' already exists.\")\n",
    "\n",
    "        # Insert data into the table\n",
    "        cur.execute(\n",
    "            \"\"\"\n",
    "            INSERT INTO public.test_table (name, vector)\n",
    "            VALUES\n",
    "                ('A', ARRAY[1, 2, 3]),\n",
    "                ('B', ARRAY[4, 5, 6]),\n",
    "                ('C', ARRAY[7, 8, 9]);\n",
    "            \"\"\"\n",
    "        )\n",
    "        conn.commit()\n",
    "        print(\"Data inserted successfully.\")\n",
    "    except Exception as e:\n",
    "        conn.rollback()\n",
    "        print(f\"Error occurred: {e}\")\n",
    "\n",
    "# Close the connection\n",
    "conn.close()\n"
   ]
  },
  {
   "cell_type": "code",
   "execution_count": 36,
   "metadata": {},
   "outputs": [],
   "source": [
    "import pyarrow as pa\n",
    "import pyarrow.parquet as pq\n",
    "\n",
    "schema = pq.read_schema('/Users/dhruvanand/Code/vector-io/vdf_20240515_224025_95696/medium_articles/1.parquet')"
   ]
  },
  {
   "cell_type": "code",
   "execution_count": 37,
   "metadata": {},
   "outputs": [
    {
     "data": {
      "text/plain": [
       "id: int64\n",
       "vector: list<element: double>\n",
       "  child 0, element: double\n",
       "claps: int64\n",
       "title: string\n",
       "responses: int64\n",
       "reading_time: int64\n",
       "publication: string\n",
       "link: string\n",
       "-- schema metadata --\n",
       "pandas: '{\"index_columns\": [{\"kind\": \"range\", \"name\": null, \"start\": 0, \"' + 1163"
      ]
     },
     "execution_count": 37,
     "metadata": {},
     "output_type": "execute_result"
    }
   ],
   "source": [
    "schema"
   ]
  },
  {
   "cell_type": "code",
   "execution_count": 54,
   "metadata": {},
   "outputs": [
    {
     "name": "stdout",
     "output_type": "stream",
     "text": [
      "<class 'numpy.int64'>\n",
      "double\n",
      "<class 'numpy.object_'>\n",
      "<class 'numpy.int64'>\n",
      "<class 'numpy.object_'>\n",
      "<class 'numpy.int64'>\n",
      "<class 'numpy.int64'>\n",
      "<class 'numpy.object_'>\n",
      "<class 'numpy.object_'>\n"
     ]
    }
   ],
   "source": [
    "for field in schema:\n",
    "    # print(field,field.name,field.type, type(field.type))\n",
    "    if isinstance(field.type, pa.lib.ListType):\n",
    "        print(field.type.value_type)\n",
    "    print(field.type)\n",
    "    # switch case for field.type\n",
    "    if field.type == pa.lib.ListType:\n",
    "        print(field.type)\n",
    "    if field.type == pa.lib.StructType:\n",
    "        print(field.type)\n",
    "    if field.type == pa.lib.DictionaryType:\n",
    "        print(field.type)\n",
    "    if field.type == pa.lib.TimestampType:\n",
    "        print(field.type)\n",
    "    if field.type == pa.lib.TimeType:\n",
    "        print(field.type)\n",
    "        "
   ]
  },
  {
   "cell_type": "code",
   "execution_count": null,
   "metadata": {},
   "outputs": [],
   "source": []
  }
 ],
 "metadata": {
  "kernelspec": {
   "display_name": "base",
   "language": "python",
   "name": "python3"
  },
  "language_info": {
   "codemirror_mode": {
    "name": "ipython",
    "version": 3
   },
   "file_extension": ".py",
   "mimetype": "text/x-python",
   "name": "python",
   "nbconvert_exporter": "python",
   "pygments_lexer": "ipython3",
   "version": "3.10.12"
  }
 },
 "nbformat": 4,
 "nbformat_minor": 2
}
