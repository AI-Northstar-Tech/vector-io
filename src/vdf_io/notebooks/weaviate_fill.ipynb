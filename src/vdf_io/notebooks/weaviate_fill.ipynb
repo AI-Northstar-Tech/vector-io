{
 "cells": [
  {
   "cell_type": "code",
   "execution_count": 3,
   "metadata": {},
   "outputs": [
    {
     "name": "stdout",
     "output_type": "stream",
     "text": [
      "Requirement already satisfied: weaviate-client in /Users/dhruvanand/miniforge3/lib/python3.10/site-packages (3.26.0)\n",
      "Collecting weaviate-client\n",
      "  Obtaining dependency information for weaviate-client from https://files.pythonhosted.org/packages/8b/da/3aeeaf4a6e7e00ca0dabbf942c843d4abe5f3f4651180b1f5b3e7b689165/weaviate_client-4.5.2-py3-none-any.whl.metadata\n",
      "  Downloading weaviate_client-4.5.2-py3-none-any.whl.metadata (3.3 kB)\n",
      "Requirement already satisfied: requests<3.0.0,>=2.30.0 in /Users/dhruvanand/miniforge3/lib/python3.10/site-packages (from weaviate-client) (2.31.0)\n",
      "Collecting httpx==0.27.0 (from weaviate-client)\n",
      "  Obtaining dependency information for httpx==0.27.0 from https://files.pythonhosted.org/packages/41/7b/ddacf6dcebb42466abd03f368782142baa82e08fc0c1f8eaa05b4bae87d5/httpx-0.27.0-py3-none-any.whl.metadata\n",
      "  Downloading httpx-0.27.0-py3-none-any.whl.metadata (7.2 kB)\n",
      "Requirement already satisfied: validators==0.22.0 in /Users/dhruvanand/miniforge3/lib/python3.10/site-packages (from weaviate-client) (0.22.0)\n",
      "Requirement already satisfied: authlib<2.0.0,>=1.2.1 in /Users/dhruvanand/miniforge3/lib/python3.10/site-packages (from weaviate-client) (1.3.0)\n",
      "Requirement already satisfied: pydantic<3.0.0,>=2.5.0 in /Users/dhruvanand/miniforge3/lib/python3.10/site-packages (from weaviate-client) (2.5.3)\n",
      "Requirement already satisfied: grpcio<2.0.0,>=1.57.0 in /Users/dhruvanand/miniforge3/lib/python3.10/site-packages (from weaviate-client) (1.60.0)\n",
      "Requirement already satisfied: grpcio-tools<2.0.0,>=1.57.0 in /Users/dhruvanand/miniforge3/lib/python3.10/site-packages (from weaviate-client) (1.60.0)\n",
      "Collecting grpcio-health-checking<2.0.0,>=1.57.0 (from weaviate-client)\n",
      "  Obtaining dependency information for grpcio-health-checking<2.0.0,>=1.57.0 from https://files.pythonhosted.org/packages/68/fe/aef1ff0216bbae566eb6397111a45c9b4c1c564407b42755de130fcaa688/grpcio_health_checking-1.62.1-py3-none-any.whl.metadata\n",
      "  Downloading grpcio_health_checking-1.62.1-py3-none-any.whl.metadata (1.3 kB)\n",
      "Requirement already satisfied: anyio in /Users/dhruvanand/miniforge3/lib/python3.10/site-packages (from httpx==0.27.0->weaviate-client) (4.2.0)\n",
      "Requirement already satisfied: certifi in /Users/dhruvanand/miniforge3/lib/python3.10/site-packages (from httpx==0.27.0->weaviate-client) (2023.11.17)\n",
      "Requirement already satisfied: httpcore==1.* in /Users/dhruvanand/miniforge3/lib/python3.10/site-packages (from httpx==0.27.0->weaviate-client) (1.0.2)\n",
      "Requirement already satisfied: idna in /Users/dhruvanand/miniforge3/lib/python3.10/site-packages (from httpx==0.27.0->weaviate-client) (3.6)\n",
      "Requirement already satisfied: sniffio in /Users/dhruvanand/miniforge3/lib/python3.10/site-packages (from httpx==0.27.0->weaviate-client) (1.3.0)\n",
      "Requirement already satisfied: h11<0.15,>=0.13 in /Users/dhruvanand/miniforge3/lib/python3.10/site-packages (from httpcore==1.*->httpx==0.27.0->weaviate-client) (0.14.0)\n",
      "Requirement already satisfied: cryptography in /Users/dhruvanand/miniforge3/lib/python3.10/site-packages (from authlib<2.0.0,>=1.2.1->weaviate-client) (41.0.3)\n",
      "Requirement already satisfied: protobuf>=4.21.6 in /Users/dhruvanand/miniforge3/lib/python3.10/site-packages (from grpcio-health-checking<2.0.0,>=1.57.0->weaviate-client) (4.25.1)\n",
      "Collecting grpcio<2.0.0,>=1.57.0 (from weaviate-client)\n",
      "  Obtaining dependency information for grpcio<2.0.0,>=1.57.0 from https://files.pythonhosted.org/packages/cc/fb/09c2e42f37858f699b5f56e40f2c3a45fb24b1b7a9dbed3ae1ca7e5fbac9/grpcio-1.62.1-cp310-cp310-macosx_12_0_universal2.whl.metadata\n",
      "  Downloading grpcio-1.62.1-cp310-cp310-macosx_12_0_universal2.whl.metadata (4.0 kB)\n",
      "Requirement already satisfied: setuptools in /Users/dhruvanand/miniforge3/lib/python3.10/site-packages (from grpcio-tools<2.0.0,>=1.57.0->weaviate-client) (68.1.2)\n",
      "Requirement already satisfied: annotated-types>=0.4.0 in /Users/dhruvanand/miniforge3/lib/python3.10/site-packages (from pydantic<3.0.0,>=2.5.0->weaviate-client) (0.6.0)\n",
      "Requirement already satisfied: pydantic-core==2.14.6 in /Users/dhruvanand/miniforge3/lib/python3.10/site-packages (from pydantic<3.0.0,>=2.5.0->weaviate-client) (2.14.6)\n",
      "Requirement already satisfied: typing-extensions>=4.6.1 in /Users/dhruvanand/miniforge3/lib/python3.10/site-packages (from pydantic<3.0.0,>=2.5.0->weaviate-client) (4.9.0)\n",
      "Requirement already satisfied: charset-normalizer<4,>=2 in /Users/dhruvanand/miniforge3/lib/python3.10/site-packages (from requests<3.0.0,>=2.30.0->weaviate-client) (3.3.2)\n",
      "Requirement already satisfied: urllib3<3,>=1.21.1 in /Users/dhruvanand/miniforge3/lib/python3.10/site-packages (from requests<3.0.0,>=2.30.0->weaviate-client) (2.1.0)\n",
      "Requirement already satisfied: exceptiongroup>=1.0.2 in /Users/dhruvanand/miniforge3/lib/python3.10/site-packages (from anyio->httpx==0.27.0->weaviate-client) (1.2.0)\n",
      "Requirement already satisfied: cffi>=1.12 in /Users/dhruvanand/miniforge3/lib/python3.10/site-packages (from cryptography->authlib<2.0.0,>=1.2.1->weaviate-client) (1.16.0)\n",
      "Requirement already satisfied: pycparser in /Users/dhruvanand/miniforge3/lib/python3.10/site-packages (from cffi>=1.12->cryptography->authlib<2.0.0,>=1.2.1->weaviate-client) (2.21)\n",
      "Downloading weaviate_client-4.5.2-py3-none-any.whl (305 kB)\n",
      "\u001b[2K   \u001b[90m━━━━━━━━━━━━━━━━━━━━━━━━━━━━━━━━━━━━━━━━\u001b[0m \u001b[32m305.6/305.6 kB\u001b[0m \u001b[31m2.5 MB/s\u001b[0m eta \u001b[36m0:00:00\u001b[0ma \u001b[36m0:00:01\u001b[0m\n",
      "\u001b[?25hDownloading httpx-0.27.0-py3-none-any.whl (75 kB)\n",
      "\u001b[2K   \u001b[90m━━━━━━━━━━━━━━━━━━━━━━━━━━━━━━━━━━━━━━━━\u001b[0m \u001b[32m75.6/75.6 kB\u001b[0m \u001b[31m3.2 MB/s\u001b[0m eta \u001b[36m0:00:00\u001b[0m\n",
      "\u001b[?25hDownloading grpcio_health_checking-1.62.1-py3-none-any.whl (18 kB)\n",
      "Downloading grpcio-1.62.1-cp310-cp310-macosx_12_0_universal2.whl (10.0 MB)\n",
      "\u001b[2K   \u001b[90m━━━━━━━━━━━━━━━━━━━━━━━━━━━━━━━━━━━━━━━━\u001b[0m \u001b[32m10.0/10.0 MB\u001b[0m \u001b[31m4.6 MB/s\u001b[0m eta \u001b[36m0:00:00\u001b[0m00:01\u001b[0m0:01\u001b[0m\n",
      "\u001b[?25hInstalling collected packages: grpcio, httpx, grpcio-health-checking, weaviate-client\n",
      "  Attempting uninstall: grpcio\n",
      "    Found existing installation: grpcio 1.60.0\n",
      "    Uninstalling grpcio-1.60.0:\n",
      "      Successfully uninstalled grpcio-1.60.0\n",
      "  Attempting uninstall: httpx\n",
      "    Found existing installation: httpx 0.25.2\n",
      "    Uninstalling httpx-0.25.2:\n",
      "      Successfully uninstalled httpx-0.25.2\n",
      "  Attempting uninstall: weaviate-client\n",
      "    Found existing installation: weaviate-client 3.26.0\n",
      "    Uninstalling weaviate-client-3.26.0:\n",
      "      Successfully uninstalled weaviate-client-3.26.0\n",
      "\u001b[31mERROR: pip's dependency resolver does not currently take into account all the packages that are installed. This behaviour is the source of the following dependency conflicts.\n",
      "astrapy 0.7.1 requires httpx[http2]<0.26.0,>=0.25.1, but you have httpx 0.27.0 which is incompatible.\n",
      "latentscope 0.1.5 requires httpx==0.25.2, but you have httpx 0.27.0 which is incompatible.\n",
      "llama-index-embeddings-huggingface 0.1.3 requires transformers<5.0.0,>=4.37.0, but you have transformers 4.36.2 which is incompatible.\n",
      "llama-index-llms-openai-like 0.1.3 requires transformers<5.0.0,>=4.37.0, but you have transformers 4.36.2 which is incompatible.\n",
      "llama-index-vector-stores-chroma 0.1.4 requires tokenizers<0.16.0,>=0.15.1, but you have tokenizers 0.15.0 which is incompatible.\n",
      "mistralai 0.0.11 requires httpx<0.26.0,>=0.25.2, but you have httpx 0.27.0 which is incompatible.\n",
      "pymilvus 2.3.6 requires grpcio<=1.60.0,>=1.49.1, but you have grpcio 1.62.1 which is incompatible.\u001b[0m\u001b[31m\n",
      "\u001b[0mSuccessfully installed grpcio-1.62.1 grpcio-health-checking-1.62.1 httpx-0.27.0 weaviate-client-4.5.2\n",
      "Note: you may need to restart the kernel to use updated packages.\n"
     ]
    }
   ],
   "source": [
    "%pip install -U weaviate-client"
   ]
  },
  {
   "cell_type": "code",
   "execution_count": 2,
   "metadata": {},
   "outputs": [],
   "source": [
    "import os\n",
    "import weaviate\n",
    "from dotenv import load_dotenv\n",
    "\n",
    "load_dotenv(\"../../../.env\")\n",
    "\n",
    "client = weaviate.connect_to_wcs(\n",
    "    cluster_url=\"https://vector-io-dzthx8uz.weaviate.network\",  # Replace with your WCS URL\n",
    "    auth_credentials=weaviate.auth.AuthApiKey(\n",
    "        os.getenv(\"WEAVIATE_API_KEY\")\n",
    "    ),  # Replace with your WCS key\n",
    "    skip_init_checks=True,\n",
    ")"
   ]
  },
  {
   "cell_type": "code",
   "execution_count": 3,
   "metadata": {},
   "outputs": [
    {
     "data": {
      "text/plain": [
       "{'TestArticle': _CollectionConfigSimple(name='TestArticle', description=None, generative_config=None, properties=[_Property(name='title', description=None, data_type=<DataType.TEXT: 'text'>, index_filterable=True, index_searchable=True, nested_properties=None, tokenization=<Tokenization.WORD: 'word'>, vectorizer_config=None, vectorizer='none')], references=[], reranker_config=None, vectorizer_config=None, vectorizer=<Vectorizers.NONE: 'none'>, vector_config=None)}"
      ]
     },
     "execution_count": 3,
     "metadata": {},
     "output_type": "execute_result"
    }
   ],
   "source": [
    "client.collections.list_all()"
   ]
  },
  {
   "cell_type": "code",
   "execution_count": 16,
   "metadata": {},
   "outputs": [],
   "source": [
    "import weaviate.classes.config as wvcc\n",
    "\n",
    "# Note that you can use `client.collections.create_from_dict()` to create a collection from a v3-client-style JSON object\n",
    "collection = client.collections.create(\n",
    "    name=\"TestArticle\",\n",
    "    vectorizer_config=None,\n",
    "    generative_config=None,\n",
    "    properties=[wvcc.Property(name=\"title\", data_type=wvcc.DataType.TEXT)],\n",
    ")"
   ]
  },
  {
   "cell_type": "code",
   "execution_count": 4,
   "metadata": {},
   "outputs": [],
   "source": [
    "collection = client.collections.get(name=\"TestArticle\")"
   ]
  },
  {
   "cell_type": "code",
   "execution_count": null,
   "metadata": {},
   "outputs": [],
   "source": [
    "collection.data.insert_many(\n",
    "    [{\"title\": \"The first article\"}, {\"title\": \"The second article\"}]\n",
    ")"
   ]
  },
  {
   "cell_type": "code",
   "execution_count": 6,
   "metadata": {},
   "outputs": [
    {
     "data": {
      "text/plain": [
       "AggregateReturn(properties={}, total_count=0)"
      ]
     },
     "execution_count": 6,
     "metadata": {},
     "output_type": "execute_result"
    }
   ],
   "source": [
    "collection.aggregate.over_all()"
   ]
  },
  {
   "cell_type": "code",
   "execution_count": null,
   "metadata": {},
   "outputs": [],
   "source": []
  }
 ],
 "metadata": {
  "kernelspec": {
   "display_name": "base",
   "language": "python",
   "name": "python3"
  },
  "language_info": {
   "codemirror_mode": {
    "name": "ipython",
    "version": 3
   },
   "file_extension": ".py",
   "mimetype": "text/x-python",
   "name": "python",
   "nbconvert_exporter": "python",
   "pygments_lexer": "ipython3",
   "version": "3.10.12"
  }
 },
 "nbformat": 4,
 "nbformat_minor": 2
}
