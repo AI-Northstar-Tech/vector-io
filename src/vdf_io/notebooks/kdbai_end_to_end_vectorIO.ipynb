{
 "cells": [
  {
   "cell_type": "code",
   "execution_count": 1,
   "id": "66833dd4-97cf-4dcd-bff3-635a226646e4",
   "metadata": {},
   "outputs": [],
   "source": [
    "from getpass import getpass\n",
    "import kdbai_client as kdbai\n",
    "import pandas as pd \n",
    "import numpy as np"
   ]
  },
  {
   "cell_type": "markdown",
   "id": "2ef38294-9cce-42f1-b193-ddffae041ecd",
   "metadata": {},
   "source": [
    "##### Option 1. KDB.AI Cloud\n",
    "\n",
    "To use KDB.AI Cloud, you will need two session details - a URL endpoint and an API key.\n",
    "To get these you can sign up for free [here](https://trykdb.kx.com/kdbai/signup).\n",
    "\n",
    "You can connect to a KDB.AI Cloud session using `kdbai.Session` and passing the session URL endpoint and API key details from your KDB.AI Cloud portal.\n",
    "\n",
    "If the environment variables `KDBAI_ENDPOINTS` and `KDBAI_API_KEY` exist on your system containing your KDB.AI Cloud portal details, these variables will automatically be used to connect.\n",
    "If these do not exist, it will prompt you to enter your KDB.AI Cloud portal session URL endpoint and API key details."
   ]
  },
  {
   "cell_type": "code",
   "execution_count": null,
   "id": "5f9392fc-87fd-42ae-bb5c-1518c2022028",
   "metadata": {},
   "outputs": [],
   "source": [
    "#Set up KDB.AI endpoint and API key\n",
    "KDBAI_ENDPOINT = (\n",
    "    os.environ[\"KDBAI_ENDPOINT\"]\n",
    "    if \"KDBAI_ENDPOINT\" in os.environ\n",
    "    else input(\"KDB.AI endpoint: \")\n",
    ")\n",
    "KDBAI_API_KEY = (\n",
    "    os.environ[\"KDBAI_API_KEY\"]\n",
    "    if \"KDBAI_API_KEY\" in os.environ\n",
    "    else getpass(\"KDB.AI API key: \")\n",
    ")\n",
    "\n",
    "session = kdbai.Session(endpoint=KDBAI_ENDPOINT, api_key=KDBAI_API_KEY)"
   ]
  },
  {
   "cell_type": "markdown",
   "id": "e0405867",
   "metadata": {},
   "source": [
    "##### Option 2. KDB.AI Server\n",
    "\n",
    "To use KDB.AI Server, you will need download and run your own container.\n",
    "To do this, you will first need to sign up for free [here](https://trykdb.kx.com/kdbaiserver/signup/).\n",
    "\n",
    "You will receive an email with the required license file and bearer token needed to download your instance.\n",
    "Follow instructions in the signup email to get your session up and running.\n",
    "\n",
    "Once the [setup steps](https://code.kx.com/kdbai/gettingStarted/kdb-ai-server-setup.html) are complete you can then connect to your KDB.AI Server session using `kdbai.Session` and passing your local endpoint."
   ]
  },
  {
   "cell_type": "code",
   "execution_count": 2,
   "id": "85b3cd03",
   "metadata": {},
   "outputs": [
    {
     "name": "stderr",
     "output_type": "stream",
     "text": [
      "WARNING:root:You are running a development version of `kdbai_client`.\n",
      "Compatibility with the KDB.AI server is not guaranteed.\n"
     ]
    }
   ],
   "source": [
    "# session = kdbai.Session(endpoint='http://localhost:8082')"
   ]
  },
  {
   "cell_type": "code",
   "execution_count": 3,
   "id": "3dd1bd38",
   "metadata": {},
   "outputs": [],
   "source": [
    "db= session.database(\"default\")"
   ]
  },
  {
   "cell_type": "code",
   "execution_count": 4,
   "id": "5b7672cf",
   "metadata": {},
   "outputs": [],
   "source": [
    "n_rows = 100\n",
    "data = pd.DataFrame({\n",
    "    'id': np.arange(n_rows, dtype='int16'),\n",
    "    'content': [f'document{i}' for i in range(n_rows)],\n",
    "    'publication_date': pd.date_range(start='2020-01-01', periods=n_rows, freq='1MIN'),\n",
    "    'embeddings': [np.random.rand(25).astype('float32') for _ in range(n_rows)]\n",
    "})\n",
    "\n",
    "\n",
    "schema = [\n",
    "         {'name': 'id', 'type': 'int16'},\n",
    "         {\"name\": \"content\", \"type\": \"str\"},\n",
    "         {'name': 'publication_date', 'type': 'datetime64[ns]'},\n",
    "         {'name': 'embeddings', 'type': 'float32s'},\n",
    "         ]\n",
    "\n",
    "\n",
    "INDEX_FLAT = {'name': 'flat', 'column': 'embeddings', 'type': 'flat', 'params': {'dims': 25, 'metric': 'L2'}}\n",
    "\n",
    "table = db.create_table(\"vectorIO\",schema=schema, indexes=[INDEX_FLAT])\n",
    "\n",
    "table.insert(data)"
   ]
  },
  {
   "cell_type": "code",
   "execution_count": 6,
   "id": "2e6d02c7-db75-497d-9dcd-c7855a56c3a0",
   "metadata": {},
   "outputs": [
    {
     "data": {
      "text/html": [
       "<div>\n",
       "<style scoped>\n",
       "    .dataframe tbody tr th:only-of-type {\n",
       "        vertical-align: middle;\n",
       "    }\n",
       "\n",
       "    .dataframe tbody tr th {\n",
       "        vertical-align: top;\n",
       "    }\n",
       "\n",
       "    .dataframe thead th {\n",
       "        text-align: right;\n",
       "    }\n",
       "</style>\n",
       "<table border=\"1\" class=\"dataframe\">\n",
       "  <thead>\n",
       "    <tr style=\"text-align: right;\">\n",
       "      <th></th>\n",
       "      <th>id</th>\n",
       "      <th>content</th>\n",
       "      <th>publication_date</th>\n",
       "      <th>embeddings</th>\n",
       "    </tr>\n",
       "  </thead>\n",
       "  <tbody>\n",
       "    <tr>\n",
       "      <th>0</th>\n",
       "      <td>0</td>\n",
       "      <td>document0</td>\n",
       "      <td>2020-01-01 00:00:00</td>\n",
       "      <td>[0.30686182, 0.62582034, 0.116534576, 0.334927...</td>\n",
       "    </tr>\n",
       "    <tr>\n",
       "      <th>1</th>\n",
       "      <td>1</td>\n",
       "      <td>document1</td>\n",
       "      <td>2020-01-01 00:01:00</td>\n",
       "      <td>[0.42317352, 0.7345967, 0.37989786, 0.9099123,...</td>\n",
       "    </tr>\n",
       "    <tr>\n",
       "      <th>2</th>\n",
       "      <td>2</td>\n",
       "      <td>document2</td>\n",
       "      <td>2020-01-01 00:02:00</td>\n",
       "      <td>[0.7737126, 0.004722189, 0.2140698, 0.6124037,...</td>\n",
       "    </tr>\n",
       "    <tr>\n",
       "      <th>3</th>\n",
       "      <td>3</td>\n",
       "      <td>document3</td>\n",
       "      <td>2020-01-01 00:03:00</td>\n",
       "      <td>[0.9648716, 0.7883268, 0.80019754, 0.29287186,...</td>\n",
       "    </tr>\n",
       "    <tr>\n",
       "      <th>4</th>\n",
       "      <td>4</td>\n",
       "      <td>document4</td>\n",
       "      <td>2020-01-01 00:04:00</td>\n",
       "      <td>[0.1775476, 0.44076434, 0.7793666, 0.6005743, ...</td>\n",
       "    </tr>\n",
       "    <tr>\n",
       "      <th>...</th>\n",
       "      <td>...</td>\n",
       "      <td>...</td>\n",
       "      <td>...</td>\n",
       "      <td>...</td>\n",
       "    </tr>\n",
       "    <tr>\n",
       "      <th>95</th>\n",
       "      <td>95</td>\n",
       "      <td>document95</td>\n",
       "      <td>2020-01-01 01:35:00</td>\n",
       "      <td>[0.3033411, 0.1814489, 0.29027653, 0.60969937,...</td>\n",
       "    </tr>\n",
       "    <tr>\n",
       "      <th>96</th>\n",
       "      <td>96</td>\n",
       "      <td>document96</td>\n",
       "      <td>2020-01-01 01:36:00</td>\n",
       "      <td>[0.44959554, 0.03702071, 0.87624884, 0.9032671...</td>\n",
       "    </tr>\n",
       "    <tr>\n",
       "      <th>97</th>\n",
       "      <td>97</td>\n",
       "      <td>document97</td>\n",
       "      <td>2020-01-01 01:37:00</td>\n",
       "      <td>[0.7518059, 0.58830845, 0.07086042, 0.59891945...</td>\n",
       "    </tr>\n",
       "    <tr>\n",
       "      <th>98</th>\n",
       "      <td>98</td>\n",
       "      <td>document98</td>\n",
       "      <td>2020-01-01 01:38:00</td>\n",
       "      <td>[0.7576109, 0.93266773, 0.15977149, 0.05038771...</td>\n",
       "    </tr>\n",
       "    <tr>\n",
       "      <th>99</th>\n",
       "      <td>99</td>\n",
       "      <td>document99</td>\n",
       "      <td>2020-01-01 01:39:00</td>\n",
       "      <td>[0.22993591, 0.42983195, 0.5941011, 0.50349414...</td>\n",
       "    </tr>\n",
       "  </tbody>\n",
       "</table>\n",
       "<p>100 rows × 4 columns</p>\n",
       "</div>"
      ],
      "text/plain": [
       "    id     content    publication_date  \\\n",
       "0    0   document0 2020-01-01 00:00:00   \n",
       "1    1   document1 2020-01-01 00:01:00   \n",
       "2    2   document2 2020-01-01 00:02:00   \n",
       "3    3   document3 2020-01-01 00:03:00   \n",
       "4    4   document4 2020-01-01 00:04:00   \n",
       "..  ..         ...                 ...   \n",
       "95  95  document95 2020-01-01 01:35:00   \n",
       "96  96  document96 2020-01-01 01:36:00   \n",
       "97  97  document97 2020-01-01 01:37:00   \n",
       "98  98  document98 2020-01-01 01:38:00   \n",
       "99  99  document99 2020-01-01 01:39:00   \n",
       "\n",
       "                                           embeddings  \n",
       "0   [0.30686182, 0.62582034, 0.116534576, 0.334927...  \n",
       "1   [0.42317352, 0.7345967, 0.37989786, 0.9099123,...  \n",
       "2   [0.7737126, 0.004722189, 0.2140698, 0.6124037,...  \n",
       "3   [0.9648716, 0.7883268, 0.80019754, 0.29287186,...  \n",
       "4   [0.1775476, 0.44076434, 0.7793666, 0.6005743, ...  \n",
       "..                                                ...  \n",
       "95  [0.3033411, 0.1814489, 0.29027653, 0.60969937,...  \n",
       "96  [0.44959554, 0.03702071, 0.87624884, 0.9032671...  \n",
       "97  [0.7518059, 0.58830845, 0.07086042, 0.59891945...  \n",
       "98  [0.7576109, 0.93266773, 0.15977149, 0.05038771...  \n",
       "99  [0.22993591, 0.42983195, 0.5941011, 0.50349414...  \n",
       "\n",
       "[100 rows x 4 columns]"
      ]
     },
     "execution_count": 6,
     "metadata": {},
     "output_type": "execute_result"
    }
   ],
   "source": [
    "table.query()"
   ]
  },
  {
   "cell_type": "markdown",
   "id": "094f816e-b8be-4165-a573-1edd00fe6abf",
   "metadata": {},
   "source": [
    "## Export Vector DB data using vector-io "
   ]
  },
  {
   "cell_type": "code",
   "execution_count": null,
   "id": "1178a222-462c-4600-8725-53a6d907046e",
   "metadata": {},
   "outputs": [],
   "source": [
    "%run vector-io/src/vdf_io/export_vdf_cli.py kdbai"
   ]
  },
  {
   "cell_type": "markdown",
   "id": "7de087de-5fb1-4826-bb52-cce0d22a0255",
   "metadata": {},
   "source": [
    "## Drop table from KDB.AI table"
   ]
  },
  {
   "cell_type": "code",
   "execution_count": 17,
   "id": "5a411ce3-5dbc-46db-bc6c-26f552efdb1c",
   "metadata": {},
   "outputs": [],
   "source": [
    "table.drop()"
   ]
  },
  {
   "cell_type": "markdown",
   "id": "f853bdf2-4f6a-4287-ae9a-39e5d4f4e054",
   "metadata": {},
   "source": [
    "## Try to import the table data into KDB.AI using vector-io"
   ]
  },
  {
   "cell_type": "code",
   "execution_count": null,
   "id": "85a2ebc8-04a0-44ce-a3ce-278526146e94",
   "metadata": {},
   "outputs": [],
   "source": [
    "%run vector-io/src/vdf_io/import_vdf_cli.py  kdbai"
   ]
  },
  {
   "cell_type": "markdown",
   "id": "2aa4bcb8-bb07-4f88-9309-255fb627a36b",
   "metadata": {},
   "source": [
    "## Confirm table exists and data available"
   ]
  },
  {
   "cell_type": "code",
   "execution_count": null,
   "id": "afad1b66",
   "metadata": {},
   "outputs": [],
   "source": [
    "table = db.table(\"vectorIO\")"
   ]
  },
  {
   "cell_type": "code",
   "execution_count": 9,
   "id": "e2178947-ecea-4e37-b330-3849be7012ce",
   "metadata": {},
   "outputs": [
    {
     "data": {
      "text/html": [
       "<div>\n",
       "<style scoped>\n",
       "    .dataframe tbody tr th:only-of-type {\n",
       "        vertical-align: middle;\n",
       "    }\n",
       "\n",
       "    .dataframe tbody tr th {\n",
       "        vertical-align: top;\n",
       "    }\n",
       "\n",
       "    .dataframe thead th {\n",
       "        text-align: right;\n",
       "    }\n",
       "</style>\n",
       "<table border=\"1\" class=\"dataframe\">\n",
       "  <thead>\n",
       "    <tr style=\"text-align: right;\">\n",
       "      <th></th>\n",
       "      <th>Embeddings</th>\n",
       "      <th>Sentences</th>\n",
       "    </tr>\n",
       "  </thead>\n",
       "  <tbody>\n",
       "    <tr>\n",
       "      <th>0</th>\n",
       "      <td>[-0.00248929625377059, 0.006371329538524151, -...</td>\n",
       "      <td>Draft version August 14, 2023\\nTypeset using L...</td>\n",
       "    </tr>\n",
       "    <tr>\n",
       "      <th>1</th>\n",
       "      <td>[0.006372543051838875, 0.002492946805432439, -...</td>\n",
       "      <td>Ted Mackereth\\n ,3, 4, 5, ∗and\\nJohn C. Forbes...</td>\n",
       "    </tr>\n",
       "    <tr>\n",
       "      <th>2</th>\n",
       "      <td>[0.0013814108679071069, 0.0014908972661942244,...</td>\n",
       "      <td>We define a novel framework: firstly to predic...</td>\n",
       "    </tr>\n",
       "    <tr>\n",
       "      <th>3</th>\n",
       "      <td>[0.014146137051284313, -0.0005565343308262527,...</td>\n",
       "      <td>We predict the spatial and compositional distr...</td>\n",
       "    </tr>\n",
       "    <tr>\n",
       "      <th>4</th>\n",
       "      <td>[0.01576417125761509, 0.004918665625154972, 0....</td>\n",
       "      <td>Selecting ISO water mass\\nfraction as an examp...</td>\n",
       "    </tr>\n",
       "    <tr>\n",
       "      <th>...</th>\n",
       "      <td>...</td>\n",
       "      <td>...</td>\n",
       "    </tr>\n",
       "    <tr>\n",
       "      <th>586</th>\n",
       "      <td>[-0.00573846697807312, -0.006318436004221439, ...</td>\n",
       "      <td>2021, ApJ, 922, 189,\\ndoi: 10.3847/1538-4357/a...</td>\n",
       "    </tr>\n",
       "    <tr>\n",
       "      <th>587</th>\n",
       "      <td>[0.0037363762967288494, -0.0014329071855172515...</td>\n",
       "      <td>2020,\\nNature Methods, 17, 261, doi: 10.1038/s...</td>\n",
       "    </tr>\n",
       "    <tr>\n",
       "      <th>588</th>\n",
       "      <td>[0.0008434861665591598, -0.01327595580369234, ...</td>\n",
       "      <td>A., Frinchaboy, P. M., et al.</td>\n",
       "    </tr>\n",
       "    <tr>\n",
       "      <th>589</th>\n",
       "      <td>[-0.01480394322425127, 0.0031033621635288, -0....</td>\n",
       "      <td>2013, AJ, 146, 81, doi: 10.1088/0004-6256/146/...</td>\n",
       "    </tr>\n",
       "    <tr>\n",
       "      <th>590</th>\n",
       "      <td>[-0.017208511009812355, 0.0005549969500862062,...</td>\n",
       "      <td>2017,\\nAJ, 154, 198, doi: 10.3847/1538-3881/aa...</td>\n",
       "    </tr>\n",
       "  </tbody>\n",
       "</table>\n",
       "<p>591 rows × 2 columns</p>\n",
       "</div>"
      ],
      "text/plain": [
       "                                            Embeddings  \\\n",
       "0    [-0.00248929625377059, 0.006371329538524151, -...   \n",
       "1    [0.006372543051838875, 0.002492946805432439, -...   \n",
       "2    [0.0013814108679071069, 0.0014908972661942244,...   \n",
       "3    [0.014146137051284313, -0.0005565343308262527,...   \n",
       "4    [0.01576417125761509, 0.004918665625154972, 0....   \n",
       "..                                                 ...   \n",
       "586  [-0.00573846697807312, -0.006318436004221439, ...   \n",
       "587  [0.0037363762967288494, -0.0014329071855172515...   \n",
       "588  [0.0008434861665591598, -0.01327595580369234, ...   \n",
       "589  [-0.01480394322425127, 0.0031033621635288, -0....   \n",
       "590  [-0.017208511009812355, 0.0005549969500862062,...   \n",
       "\n",
       "                                             Sentences  \n",
       "0    Draft version August 14, 2023\\nTypeset using L...  \n",
       "1    Ted Mackereth\\n ,3, 4, 5, ∗and\\nJohn C. Forbes...  \n",
       "2    We define a novel framework: firstly to predic...  \n",
       "3    We predict the spatial and compositional distr...  \n",
       "4    Selecting ISO water mass\\nfraction as an examp...  \n",
       "..                                                 ...  \n",
       "586  2021, ApJ, 922, 189,\\ndoi: 10.3847/1538-4357/a...  \n",
       "587  2020,\\nNature Methods, 17, 261, doi: 10.1038/s...  \n",
       "588                      A., Frinchaboy, P. M., et al.  \n",
       "589  2013, AJ, 146, 81, doi: 10.1088/0004-6256/146/...  \n",
       "590  2017,\\nAJ, 154, 198, doi: 10.3847/1538-3881/aa...  \n",
       "\n",
       "[591 rows x 2 columns]"
      ]
     },
     "execution_count": 9,
     "metadata": {},
     "output_type": "execute_result"
    }
   ],
   "source": [
    "table.query()"
   ]
  }
 ],
 "metadata": {
  "kernelspec": {
   "display_name": "base",
   "language": "python",
   "name": "python3"
  },
  "language_info": {
   "codemirror_mode": {
    "name": "ipython",
    "version": 3
   },
   "file_extension": ".py",
   "mimetype": "text/x-python",
   "name": "python",
   "nbconvert_exporter": "python",
   "pygments_lexer": "ipython3",
   "version": "3.10.15"
  }
 },
 "nbformat": 4,
 "nbformat_minor": 5
}
