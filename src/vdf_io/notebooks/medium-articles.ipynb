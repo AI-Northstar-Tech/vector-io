{
 "cells": [
  {
   "cell_type": "code",
   "execution_count": 1,
   "metadata": {},
   "outputs": [
    {
     "name": "stdout",
     "output_type": "stream",
     "text": [
      "Requirement already satisfied: latentscope in /Users/dhruvanand/miniforge3/lib/python3.10/site-packages (0.1.2)\n",
      "Collecting latentscope\n",
      "  Obtaining dependency information for latentscope from https://files.pythonhosted.org/packages/f4/59/c78c5ecf3b14b51b9e672339035938809b94c9c5dc69cf071f7e797d2b34/latentscope-0.1.3-py3-none-any.whl.metadata\n",
      "  Downloading latentscope-0.1.3-py3-none-any.whl.metadata (20 kB)\n",
      "Requirement already satisfied: accelerate==0.26.1 in /Users/dhruvanand/miniforge3/lib/python3.10/site-packages (from latentscope) (0.26.1)\n",
      "Requirement already satisfied: aiohttp==3.9.1 in /Users/dhruvanand/miniforge3/lib/python3.10/site-packages (from latentscope) (3.9.1)\n",
      "Requirement already satisfied: aiolimiter==1.1.0 in /Users/dhruvanand/miniforge3/lib/python3.10/site-packages (from latentscope) (1.1.0)\n",
      "Requirement already satisfied: aiosignal==1.3.1 in /Users/dhruvanand/miniforge3/lib/python3.10/site-packages (from latentscope) (1.3.1)\n",
      "Requirement already satisfied: annotated-types==0.6.0 in /Users/dhruvanand/miniforge3/lib/python3.10/site-packages (from latentscope) (0.6.0)\n",
      "Requirement already satisfied: anyio==4.2.0 in /Users/dhruvanand/miniforge3/lib/python3.10/site-packages (from latentscope) (4.2.0)\n",
      "Requirement already satisfied: appnope==0.1.3 in /Users/dhruvanand/miniforge3/lib/python3.10/site-packages (from latentscope) (0.1.3)\n",
      "Requirement already satisfied: argon2-cffi==23.1.0 in /Users/dhruvanand/miniforge3/lib/python3.10/site-packages (from latentscope) (23.1.0)\n",
      "Requirement already satisfied: argon2-cffi-bindings==21.2.0 in /Users/dhruvanand/miniforge3/lib/python3.10/site-packages (from latentscope) (21.2.0)\n",
      "Requirement already satisfied: arrow==1.3.0 in /Users/dhruvanand/miniforge3/lib/python3.10/site-packages (from latentscope) (1.3.0)\n",
      "Requirement already satisfied: asttokens==2.4.1 in /Users/dhruvanand/miniforge3/lib/python3.10/site-packages (from latentscope) (2.4.1)\n",
      "Requirement already satisfied: async-lru==2.0.4 in /Users/dhruvanand/miniforge3/lib/python3.10/site-packages (from latentscope) (2.0.4)\n",
      "Requirement already satisfied: attrs==23.2.0 in /Users/dhruvanand/miniforge3/lib/python3.10/site-packages (from latentscope) (23.2.0)\n",
      "Requirement already satisfied: Babel==2.14.0 in /Users/dhruvanand/miniforge3/lib/python3.10/site-packages (from latentscope) (2.14.0)\n",
      "Requirement already satisfied: backoff==2.2.1 in /Users/dhruvanand/miniforge3/lib/python3.10/site-packages (from latentscope) (2.2.1)\n",
      "Requirement already satisfied: beautifulsoup4==4.12.3 in /Users/dhruvanand/miniforge3/lib/python3.10/site-packages (from latentscope) (4.12.3)\n",
      "Requirement already satisfied: bleach==6.1.0 in /Users/dhruvanand/miniforge3/lib/python3.10/site-packages (from latentscope) (6.1.0)\n",
      "Requirement already satisfied: blinker==1.7.0 in /Users/dhruvanand/miniforge3/lib/python3.10/site-packages (from latentscope) (1.7.0)\n",
      "Requirement already satisfied: certifi==2023.11.17 in /Users/dhruvanand/miniforge3/lib/python3.10/site-packages (from latentscope) (2023.11.17)\n",
      "Requirement already satisfied: cffi==1.16.0 in /Users/dhruvanand/miniforge3/lib/python3.10/site-packages (from latentscope) (1.16.0)\n",
      "Requirement already satisfied: charset-normalizer==3.3.2 in /Users/dhruvanand/miniforge3/lib/python3.10/site-packages (from latentscope) (3.3.2)\n",
      "Requirement already satisfied: click==8.1.7 in /Users/dhruvanand/miniforge3/lib/python3.10/site-packages (from latentscope) (8.1.7)\n",
      "Requirement already satisfied: cohere==4.44 in /Users/dhruvanand/miniforge3/lib/python3.10/site-packages (from latentscope) (4.44)\n",
      "Requirement already satisfied: comm==0.2.1 in /Users/dhruvanand/miniforge3/lib/python3.10/site-packages (from latentscope) (0.2.1)\n",
      "Requirement already satisfied: contourpy==1.2.0 in /Users/dhruvanand/miniforge3/lib/python3.10/site-packages (from latentscope) (1.2.0)\n",
      "Requirement already satisfied: cycler==0.12.1 in /Users/dhruvanand/miniforge3/lib/python3.10/site-packages (from latentscope) (0.12.1)\n",
      "Requirement already satisfied: Cython==0.29.37 in /Users/dhruvanand/miniforge3/lib/python3.10/site-packages (from latentscope) (0.29.37)\n",
      "Requirement already satisfied: debugpy==1.8.0 in /Users/dhruvanand/miniforge3/lib/python3.10/site-packages (from latentscope) (1.8.0)\n",
      "Requirement already satisfied: decorator==5.1.1 in /Users/dhruvanand/miniforge3/lib/python3.10/site-packages (from latentscope) (5.1.1)\n",
      "Requirement already satisfied: defusedxml==0.7.1 in /Users/dhruvanand/miniforge3/lib/python3.10/site-packages (from latentscope) (0.7.1)\n",
      "Requirement already satisfied: distro==1.9.0 in /Users/dhruvanand/miniforge3/lib/python3.10/site-packages (from latentscope) (1.9.0)\n",
      "Requirement already satisfied: einops==0.7.0 in /Users/dhruvanand/miniforge3/lib/python3.10/site-packages (from latentscope) (0.7.0)\n",
      "Requirement already satisfied: executing==2.0.1 in /Users/dhruvanand/miniforge3/lib/python3.10/site-packages (from latentscope) (2.0.1)\n",
      "Requirement already satisfied: fastavro==1.9.3 in /Users/dhruvanand/miniforge3/lib/python3.10/site-packages (from latentscope) (1.9.3)\n",
      "Requirement already satisfied: fastjsonschema==2.19.1 in /Users/dhruvanand/miniforge3/lib/python3.10/site-packages (from latentscope) (2.19.1)\n",
      "Requirement already satisfied: filelock==3.13.1 in /Users/dhruvanand/miniforge3/lib/python3.10/site-packages (from latentscope) (3.13.1)\n",
      "Requirement already satisfied: Flask==3.0.0 in /Users/dhruvanand/miniforge3/lib/python3.10/site-packages (from latentscope) (3.0.0)\n",
      "Requirement already satisfied: Flask-Cors==4.0.0 in /Users/dhruvanand/miniforge3/lib/python3.10/site-packages (from latentscope) (4.0.0)\n",
      "Requirement already satisfied: fonttools==4.47.2 in /Users/dhruvanand/miniforge3/lib/python3.10/site-packages (from latentscope) (4.47.2)\n",
      "Requirement already satisfied: fqdn==1.5.1 in /Users/dhruvanand/miniforge3/lib/python3.10/site-packages (from latentscope) (1.5.1)\n",
      "Requirement already satisfied: frozenlist==1.4.1 in /Users/dhruvanand/miniforge3/lib/python3.10/site-packages (from latentscope) (1.4.1)\n",
      "Requirement already satisfied: fsspec==2023.10.0 in /Users/dhruvanand/miniforge3/lib/python3.10/site-packages (from latentscope) (2023.10.0)\n",
      "Requirement already satisfied: h11==0.14.0 in /Users/dhruvanand/miniforge3/lib/python3.10/site-packages (from latentscope) (0.14.0)\n",
      "Requirement already satisfied: h5py==3.10.0 in /Users/dhruvanand/miniforge3/lib/python3.10/site-packages (from latentscope) (3.10.0)\n",
      "Requirement already satisfied: hdbscan==0.8.33 in /Users/dhruvanand/miniforge3/lib/python3.10/site-packages (from latentscope) (0.8.33)\n",
      "Requirement already satisfied: httpcore==1.0.2 in /Users/dhruvanand/miniforge3/lib/python3.10/site-packages (from latentscope) (1.0.2)\n",
      "Requirement already satisfied: httpx==0.25.2 in /Users/dhruvanand/miniforge3/lib/python3.10/site-packages (from latentscope) (0.25.2)\n",
      "Requirement already satisfied: huggingface-hub==0.20.2 in /Users/dhruvanand/miniforge3/lib/python3.10/site-packages (from latentscope) (0.20.2)\n",
      "Requirement already satisfied: idna==3.6 in /Users/dhruvanand/miniforge3/lib/python3.10/site-packages (from latentscope) (3.6)\n",
      "Requirement already satisfied: importlib-metadata==6.11.0 in /Users/dhruvanand/miniforge3/lib/python3.10/site-packages (from latentscope) (6.11.0)\n",
      "Requirement already satisfied: ipykernel==6.29.0 in /Users/dhruvanand/miniforge3/lib/python3.10/site-packages (from latentscope) (6.29.0)\n",
      "Requirement already satisfied: ipython==8.20.0 in /Users/dhruvanand/miniforge3/lib/python3.10/site-packages (from latentscope) (8.20.0)\n",
      "Requirement already satisfied: ipywidgets==8.1.1 in /Users/dhruvanand/miniforge3/lib/python3.10/site-packages (from latentscope) (8.1.1)\n",
      "Requirement already satisfied: isoduration==20.11.0 in /Users/dhruvanand/miniforge3/lib/python3.10/site-packages (from latentscope) (20.11.0)\n",
      "Requirement already satisfied: itsdangerous==2.1.2 in /Users/dhruvanand/miniforge3/lib/python3.10/site-packages (from latentscope) (2.1.2)\n",
      "Requirement already satisfied: jedi==0.19.1 in /Users/dhruvanand/miniforge3/lib/python3.10/site-packages (from latentscope) (0.19.1)\n",
      "Requirement already satisfied: Jinja2==3.1.3 in /Users/dhruvanand/miniforge3/lib/python3.10/site-packages (from latentscope) (3.1.3)\n",
      "Requirement already satisfied: joblib==1.3.2 in /Users/dhruvanand/miniforge3/lib/python3.10/site-packages (from latentscope) (1.3.2)\n",
      "Requirement already satisfied: json5==0.9.14 in /Users/dhruvanand/miniforge3/lib/python3.10/site-packages (from latentscope) (0.9.14)\n",
      "Requirement already satisfied: jsonpointer==2.4 in /Users/dhruvanand/miniforge3/lib/python3.10/site-packages (from latentscope) (2.4)\n",
      "Requirement already satisfied: jsonschema==4.21.1 in /Users/dhruvanand/miniforge3/lib/python3.10/site-packages (from latentscope) (4.21.1)\n",
      "Requirement already satisfied: jsonschema-specifications==2023.12.1 in /Users/dhruvanand/miniforge3/lib/python3.10/site-packages (from latentscope) (2023.12.1)\n",
      "Requirement already satisfied: jupyter==1.0.0 in /Users/dhruvanand/miniforge3/lib/python3.10/site-packages (from latentscope) (1.0.0)\n",
      "Requirement already satisfied: jupyter-console==6.6.3 in /Users/dhruvanand/miniforge3/lib/python3.10/site-packages (from latentscope) (6.6.3)\n",
      "Requirement already satisfied: jupyter-events==0.9.0 in /Users/dhruvanand/miniforge3/lib/python3.10/site-packages (from latentscope) (0.9.0)\n",
      "Requirement already satisfied: jupyter-lsp==2.2.2 in /Users/dhruvanand/miniforge3/lib/python3.10/site-packages (from latentscope) (2.2.2)\n",
      "Requirement already satisfied: jupyter-client==8.6.0 in /Users/dhruvanand/miniforge3/lib/python3.10/site-packages (from latentscope) (8.6.0)\n",
      "Requirement already satisfied: jupyter-core==5.7.1 in /Users/dhruvanand/miniforge3/lib/python3.10/site-packages (from latentscope) (5.7.1)\n",
      "Requirement already satisfied: jupyter-server==2.12.5 in /Users/dhruvanand/miniforge3/lib/python3.10/site-packages (from latentscope) (2.12.5)\n",
      "Requirement already satisfied: jupyter-server-terminals==0.5.2 in /Users/dhruvanand/miniforge3/lib/python3.10/site-packages (from latentscope) (0.5.2)\n",
      "Requirement already satisfied: jupyterlab==4.0.12 in /Users/dhruvanand/miniforge3/lib/python3.10/site-packages (from latentscope) (4.0.12)\n",
      "Requirement already satisfied: jupyterlab-widgets==3.0.9 in /Users/dhruvanand/miniforge3/lib/python3.10/site-packages (from latentscope) (3.0.9)\n",
      "Requirement already satisfied: jupyterlab-pygments==0.3.0 in /Users/dhruvanand/miniforge3/lib/python3.10/site-packages (from latentscope) (0.3.0)\n",
      "Requirement already satisfied: jupyterlab-server==2.25.2 in /Users/dhruvanand/miniforge3/lib/python3.10/site-packages (from latentscope) (2.25.2)\n",
      "Requirement already satisfied: kiwisolver==1.4.5 in /Users/dhruvanand/miniforge3/lib/python3.10/site-packages (from latentscope) (1.4.5)\n",
      "Requirement already satisfied: llvmlite==0.41.1 in /Users/dhruvanand/miniforge3/lib/python3.10/site-packages (from latentscope) (0.41.1)\n",
      "Requirement already satisfied: MarkupSafe==2.1.3 in /Users/dhruvanand/miniforge3/lib/python3.10/site-packages (from latentscope) (2.1.3)\n",
      "Requirement already satisfied: matplotlib==3.8.2 in /Users/dhruvanand/miniforge3/lib/python3.10/site-packages (from latentscope) (3.8.2)\n",
      "Requirement already satisfied: matplotlib-inline==0.1.6 in /Users/dhruvanand/miniforge3/lib/python3.10/site-packages (from latentscope) (0.1.6)\n",
      "Requirement already satisfied: mistralai==0.0.11 in /Users/dhruvanand/miniforge3/lib/python3.10/site-packages (from latentscope) (0.0.11)\n",
      "Requirement already satisfied: mistune==3.0.2 in /Users/dhruvanand/miniforge3/lib/python3.10/site-packages (from latentscope) (3.0.2)\n",
      "Requirement already satisfied: mpmath==1.3.0 in /Users/dhruvanand/miniforge3/lib/python3.10/site-packages (from latentscope) (1.3.0)\n",
      "Requirement already satisfied: multidict==6.0.4 in /Users/dhruvanand/miniforge3/lib/python3.10/site-packages (from latentscope) (6.0.4)\n",
      "Requirement already satisfied: nbclient==0.9.0 in /Users/dhruvanand/miniforge3/lib/python3.10/site-packages (from latentscope) (0.9.0)\n",
      "Requirement already satisfied: nbconvert==7.14.2 in /Users/dhruvanand/miniforge3/lib/python3.10/site-packages (from latentscope) (7.14.2)\n",
      "Requirement already satisfied: nbformat==5.9.2 in /Users/dhruvanand/miniforge3/lib/python3.10/site-packages (from latentscope) (5.9.2)\n",
      "Requirement already satisfied: nest-asyncio==1.5.9 in /Users/dhruvanand/miniforge3/lib/python3.10/site-packages (from latentscope) (1.5.9)\n",
      "Requirement already satisfied: networkx==3.2.1 in /Users/dhruvanand/miniforge3/lib/python3.10/site-packages (from latentscope) (3.2.1)\n",
      "Requirement already satisfied: notebook==7.0.7 in /Users/dhruvanand/miniforge3/lib/python3.10/site-packages (from latentscope) (7.0.7)\n",
      "Requirement already satisfied: notebook-shim==0.2.3 in /Users/dhruvanand/miniforge3/lib/python3.10/site-packages (from latentscope) (0.2.3)\n",
      "Requirement already satisfied: numba==0.58.1 in /Users/dhruvanand/miniforge3/lib/python3.10/site-packages (from latentscope) (0.58.1)\n",
      "Requirement already satisfied: numpy==1.26.3 in /Users/dhruvanand/miniforge3/lib/python3.10/site-packages (from latentscope) (1.26.3)\n",
      "Requirement already satisfied: openai==1.12.0 in /Users/dhruvanand/miniforge3/lib/python3.10/site-packages (from latentscope) (1.12.0)\n",
      "Requirement already satisfied: opt-einsum==3.3.0 in /Users/dhruvanand/miniforge3/lib/python3.10/site-packages (from latentscope) (3.3.0)\n",
      "Requirement already satisfied: orjson==3.9.12 in /Users/dhruvanand/miniforge3/lib/python3.10/site-packages (from latentscope) (3.9.12)\n",
      "Requirement already satisfied: overrides==7.7.0 in /Users/dhruvanand/miniforge3/lib/python3.10/site-packages (from latentscope) (7.7.0)\n",
      "Requirement already satisfied: packaging==23.2 in /Users/dhruvanand/miniforge3/lib/python3.10/site-packages (from latentscope) (23.2)\n",
      "Requirement already satisfied: pandas==2.1.4 in /Users/dhruvanand/miniforge3/lib/python3.10/site-packages (from latentscope) (2.1.4)\n",
      "Requirement already satisfied: pandocfilters==1.5.1 in /Users/dhruvanand/miniforge3/lib/python3.10/site-packages (from latentscope) (1.5.1)\n",
      "Requirement already satisfied: parso==0.8.3 in /Users/dhruvanand/miniforge3/lib/python3.10/site-packages (from latentscope) (0.8.3)\n",
      "Requirement already satisfied: pexpect==4.9.0 in /Users/dhruvanand/miniforge3/lib/python3.10/site-packages (from latentscope) (4.9.0)\n",
      "Requirement already satisfied: pillow==10.2.0 in /Users/dhruvanand/miniforge3/lib/python3.10/site-packages (from latentscope) (10.2.0)\n",
      "Requirement already satisfied: platformdirs==4.1.0 in /Users/dhruvanand/miniforge3/lib/python3.10/site-packages (from latentscope) (4.1.0)\n",
      "Requirement already satisfied: prometheus-client==0.19.0 in /Users/dhruvanand/miniforge3/lib/python3.10/site-packages (from latentscope) (0.19.0)\n",
      "Requirement already satisfied: prompt-toolkit==3.0.43 in /Users/dhruvanand/miniforge3/lib/python3.10/site-packages (from latentscope) (3.0.43)\n",
      "Requirement already satisfied: psutil==5.9.7 in /Users/dhruvanand/miniforge3/lib/python3.10/site-packages (from latentscope) (5.9.7)\n",
      "Requirement already satisfied: ptyprocess==0.7.0 in /Users/dhruvanand/miniforge3/lib/python3.10/site-packages (from latentscope) (0.7.0)\n",
      "Requirement already satisfied: pure-eval==0.2.2 in /Users/dhruvanand/miniforge3/lib/python3.10/site-packages (from latentscope) (0.2.2)\n",
      "Requirement already satisfied: pyarrow==14.0.2 in /Users/dhruvanand/miniforge3/lib/python3.10/site-packages (from latentscope) (14.0.2)\n",
      "Requirement already satisfied: pycparser==2.21 in /Users/dhruvanand/miniforge3/lib/python3.10/site-packages (from latentscope) (2.21)\n",
      "Requirement already satisfied: pydantic==2.5.3 in /Users/dhruvanand/miniforge3/lib/python3.10/site-packages (from latentscope) (2.5.3)\n",
      "Requirement already satisfied: pydantic-core==2.14.6 in /Users/dhruvanand/miniforge3/lib/python3.10/site-packages (from latentscope) (2.14.6)\n",
      "Requirement already satisfied: Pygments==2.17.2 in /Users/dhruvanand/miniforge3/lib/python3.10/site-packages (from latentscope) (2.17.2)\n",
      "Requirement already satisfied: pynndescent==0.5.11 in /Users/dhruvanand/miniforge3/lib/python3.10/site-packages (from latentscope) (0.5.11)\n",
      "Requirement already satisfied: pyparsing==3.1.1 in /Users/dhruvanand/miniforge3/lib/python3.10/site-packages (from latentscope) (3.1.1)\n",
      "Requirement already satisfied: python-dateutil==2.8.2 in /Users/dhruvanand/miniforge3/lib/python3.10/site-packages (from latentscope) (2.8.2)\n",
      "Requirement already satisfied: python-dotenv==1.0.0 in /Users/dhruvanand/miniforge3/lib/python3.10/site-packages (from latentscope) (1.0.0)\n",
      "Requirement already satisfied: python-json-logger==2.0.7 in /Users/dhruvanand/miniforge3/lib/python3.10/site-packages (from latentscope) (2.0.7)\n",
      "Requirement already satisfied: pytz==2023.3.post1 in /Users/dhruvanand/miniforge3/lib/python3.10/site-packages (from latentscope) (2023.3.post1)\n",
      "Requirement already satisfied: PyYAML==6.0.1 in /Users/dhruvanand/miniforge3/lib/python3.10/site-packages (from latentscope) (6.0.1)\n",
      "Requirement already satisfied: pyzmq==25.1.2 in /Users/dhruvanand/miniforge3/lib/python3.10/site-packages (from latentscope) (25.1.2)\n",
      "Requirement already satisfied: qtconsole==5.5.1 in /Users/dhruvanand/miniforge3/lib/python3.10/site-packages (from latentscope) (5.5.1)\n",
      "Requirement already satisfied: QtPy==2.4.1 in /Users/dhruvanand/miniforge3/lib/python3.10/site-packages (from latentscope) (2.4.1)\n",
      "Requirement already satisfied: referencing==0.33.0 in /Users/dhruvanand/miniforge3/lib/python3.10/site-packages (from latentscope) (0.33.0)\n",
      "Requirement already satisfied: regex==2023.12.25 in /Users/dhruvanand/miniforge3/lib/python3.10/site-packages (from latentscope) (2023.12.25)\n",
      "Requirement already satisfied: requests==2.31.0 in /Users/dhruvanand/miniforge3/lib/python3.10/site-packages (from latentscope) (2.31.0)\n",
      "Requirement already satisfied: rfc3339-validator==0.1.4 in /Users/dhruvanand/miniforge3/lib/python3.10/site-packages (from latentscope) (0.1.4)\n",
      "Requirement already satisfied: rfc3986-validator==0.1.1 in /Users/dhruvanand/miniforge3/lib/python3.10/site-packages (from latentscope) (0.1.1)\n",
      "Requirement already satisfied: rpds-py==0.17.1 in /Users/dhruvanand/miniforge3/lib/python3.10/site-packages (from latentscope) (0.17.1)\n",
      "Requirement already satisfied: safetensors==0.4.1 in /Users/dhruvanand/miniforge3/lib/python3.10/site-packages (from latentscope) (0.4.1)\n",
      "Requirement already satisfied: scikit-learn==1.3.2 in /Users/dhruvanand/miniforge3/lib/python3.10/site-packages (from latentscope) (1.3.2)\n",
      "Requirement already satisfied: scipy==1.11.4 in /Users/dhruvanand/miniforge3/lib/python3.10/site-packages (from latentscope) (1.11.4)\n",
      "Requirement already satisfied: Send2Trash==1.8.2 in /Users/dhruvanand/miniforge3/lib/python3.10/site-packages (from latentscope) (1.8.2)\n",
      "Requirement already satisfied: six==1.16.0 in /Users/dhruvanand/miniforge3/lib/python3.10/site-packages (from latentscope) (1.16.0)\n",
      "Requirement already satisfied: sniffio==1.3.0 in /Users/dhruvanand/miniforge3/lib/python3.10/site-packages (from latentscope) (1.3.0)\n",
      "Requirement already satisfied: soupsieve==2.5 in /Users/dhruvanand/miniforge3/lib/python3.10/site-packages (from latentscope) (2.5)\n",
      "Requirement already satisfied: sseclient-py==1.8.0 in /Users/dhruvanand/miniforge3/lib/python3.10/site-packages (from latentscope) (1.8.0)\n",
      "Requirement already satisfied: stack-data==0.6.3 in /Users/dhruvanand/miniforge3/lib/python3.10/site-packages (from latentscope) (0.6.3)\n",
      "Requirement already satisfied: sympy==1.12 in /Users/dhruvanand/miniforge3/lib/python3.10/site-packages (from latentscope) (1.12)\n",
      "Requirement already satisfied: tabulate==0.9.0 in /Users/dhruvanand/miniforge3/lib/python3.10/site-packages (from latentscope) (0.9.0)\n",
      "Requirement already satisfied: tenacity==8.2.3 in /Users/dhruvanand/miniforge3/lib/python3.10/site-packages (from latentscope) (8.2.3)\n",
      "Requirement already satisfied: terminado==0.18.0 in /Users/dhruvanand/miniforge3/lib/python3.10/site-packages (from latentscope) (0.18.0)\n",
      "Requirement already satisfied: threadpoolctl==3.2.0 in /Users/dhruvanand/miniforge3/lib/python3.10/site-packages (from latentscope) (3.2.0)\n",
      "Requirement already satisfied: tiktoken==0.5.2 in /Users/dhruvanand/miniforge3/lib/python3.10/site-packages (from latentscope) (0.5.2)\n",
      "Requirement already satisfied: tinycss2==1.2.1 in /Users/dhruvanand/miniforge3/lib/python3.10/site-packages (from latentscope) (1.2.1)\n",
      "Requirement already satisfied: together==0.2.10 in /Users/dhruvanand/miniforge3/lib/python3.10/site-packages (from latentscope) (0.2.10)\n",
      "Requirement already satisfied: tokenizers==0.15.0 in /Users/dhruvanand/miniforge3/lib/python3.10/site-packages (from latentscope) (0.15.0)\n",
      "Requirement already satisfied: torch==2.1.2 in /Users/dhruvanand/miniforge3/lib/python3.10/site-packages (from latentscope) (2.1.2)\n",
      "Requirement already satisfied: tornado==6.4 in /Users/dhruvanand/miniforge3/lib/python3.10/site-packages (from latentscope) (6.4)\n",
      "Requirement already satisfied: tqdm==4.66.1 in /Users/dhruvanand/miniforge3/lib/python3.10/site-packages (from latentscope) (4.66.1)\n",
      "Requirement already satisfied: traitlets==5.14.1 in /Users/dhruvanand/miniforge3/lib/python3.10/site-packages (from latentscope) (5.14.1)\n",
      "Requirement already satisfied: transformers==4.36.2 in /Users/dhruvanand/miniforge3/lib/python3.10/site-packages (from latentscope) (4.36.2)\n",
      "Requirement already satisfied: typer==0.9.0 in /Users/dhruvanand/miniforge3/lib/python3.10/site-packages (from latentscope) (0.9.0)\n",
      "Requirement already satisfied: types-python-dateutil==2.8.19.20240106 in /Users/dhruvanand/miniforge3/lib/python3.10/site-packages (from latentscope) (2.8.19.20240106)\n",
      "Requirement already satisfied: typing-extensions==4.9.0 in /Users/dhruvanand/miniforge3/lib/python3.10/site-packages (from latentscope) (4.9.0)\n",
      "Requirement already satisfied: tzdata==2023.4 in /Users/dhruvanand/miniforge3/lib/python3.10/site-packages (from latentscope) (2023.4)\n",
      "Requirement already satisfied: umap-learn==0.5.5 in /Users/dhruvanand/miniforge3/lib/python3.10/site-packages (from latentscope) (0.5.5)\n",
      "Requirement already satisfied: uri-template==1.3.0 in /Users/dhruvanand/miniforge3/lib/python3.10/site-packages (from latentscope) (1.3.0)\n",
      "Requirement already satisfied: urllib3==2.1.0 in /Users/dhruvanand/miniforge3/lib/python3.10/site-packages (from latentscope) (2.1.0)\n",
      "Requirement already satisfied: voyageai==0.1.6 in /Users/dhruvanand/miniforge3/lib/python3.10/site-packages (from latentscope) (0.1.6)\n",
      "Requirement already satisfied: wcwidth==0.2.13 in /Users/dhruvanand/miniforge3/lib/python3.10/site-packages (from latentscope) (0.2.13)\n",
      "Requirement already satisfied: webcolors==1.13 in /Users/dhruvanand/miniforge3/lib/python3.10/site-packages (from latentscope) (1.13)\n",
      "Requirement already satisfied: webencodings==0.5.1 in /Users/dhruvanand/miniforge3/lib/python3.10/site-packages (from latentscope) (0.5.1)\n",
      "Requirement already satisfied: websocket-client==1.7.0 in /Users/dhruvanand/miniforge3/lib/python3.10/site-packages (from latentscope) (1.7.0)\n",
      "Requirement already satisfied: Werkzeug==3.0.1 in /Users/dhruvanand/miniforge3/lib/python3.10/site-packages (from latentscope) (3.0.1)\n",
      "Requirement already satisfied: widgetsnbextension==4.0.9 in /Users/dhruvanand/miniforge3/lib/python3.10/site-packages (from latentscope) (4.0.9)\n",
      "Requirement already satisfied: yarl==1.9.4 in /Users/dhruvanand/miniforge3/lib/python3.10/site-packages (from latentscope) (1.9.4)\n",
      "Requirement already satisfied: zipp==3.17.0 in /Users/dhruvanand/miniforge3/lib/python3.10/site-packages (from latentscope) (3.17.0)\n",
      "Requirement already satisfied: async-timeout<5.0,>=4.0 in /Users/dhruvanand/miniforge3/lib/python3.10/site-packages (from aiohttp==3.9.1->latentscope) (4.0.3)\n",
      "Requirement already satisfied: exceptiongroup>=1.0.2 in /Users/dhruvanand/miniforge3/lib/python3.10/site-packages (from anyio==4.2.0->latentscope) (1.2.0)\n",
      "Requirement already satisfied: tomli in /Users/dhruvanand/miniforge3/lib/python3.10/site-packages (from jupyterlab==4.0.12->latentscope) (2.0.1)\n",
      "Downloading latentscope-0.1.3-py3-none-any.whl (573 kB)\n",
      "\u001b[2K   \u001b[90m━━━━━━━━━━━━━━━━━━━━━━━━━━━━━━━━━━━━━━━━\u001b[0m \u001b[32m573.6/573.6 kB\u001b[0m \u001b[31m5.2 MB/s\u001b[0m eta \u001b[36m0:00:00\u001b[0ma \u001b[36m0:00:01\u001b[0m\n",
      "\u001b[?25hInstalling collected packages: latentscope\n",
      "  Attempting uninstall: latentscope\n",
      "    Found existing installation: latentscope 0.1.2\n",
      "    Uninstalling latentscope-0.1.2:\n",
      "      Successfully uninstalled latentscope-0.1.2\n",
      "Successfully installed latentscope-0.1.3\n",
      "Note: you may need to restart the kernel to use updated packages.\n"
     ]
    }
   ],
   "source": [
    "# %pip install latentscope -U\n",
    "# %pip show latentscope"
   ]
  },
  {
   "cell_type": "code",
   "execution_count": 1,
   "metadata": {},
   "outputs": [],
   "source": [
    "import numpy as np\n",
    "from datasets import load_dataset\n",
    "import latentscope as ls"
   ]
  },
  {
   "cell_type": "code",
   "execution_count": 2,
   "metadata": {},
   "outputs": [],
   "source": [
    "dataset = load_dataset(\"aintech/vdf_20240125_130746_ac5a6_medium_articles\")"
   ]
  },
  {
   "cell_type": "code",
   "execution_count": 3,
   "metadata": {},
   "outputs": [],
   "source": [
    "df = dataset[\"train\"].to_pandas()"
   ]
  },
  {
   "cell_type": "code",
   "execution_count": 4,
   "metadata": {},
   "outputs": [
    {
     "data": {
      "text/plain": [
       "Index(['id', 'title', 'title_vector', 'link', 'reading_time', 'publication',\n",
       "       'claps', 'responses', 'vector_text-embedding-3-small'],\n",
       "      dtype='object')"
      ]
     },
     "execution_count": 4,
     "metadata": {},
     "output_type": "execute_result"
    }
   ],
   "source": [
    "df.columns"
   ]
  },
  {
   "cell_type": "code",
   "execution_count": 5,
   "metadata": {},
   "outputs": [
    {
     "data": {
      "text/html": [
       "<div>\n",
       "<style scoped>\n",
       "    .dataframe tbody tr th:only-of-type {\n",
       "        vertical-align: middle;\n",
       "    }\n",
       "\n",
       "    .dataframe tbody tr th {\n",
       "        vertical-align: top;\n",
       "    }\n",
       "\n",
       "    .dataframe thead th {\n",
       "        text-align: right;\n",
       "    }\n",
       "</style>\n",
       "<table border=\"1\" class=\"dataframe\">\n",
       "  <thead>\n",
       "    <tr style=\"text-align: right;\">\n",
       "      <th></th>\n",
       "      <th>id</th>\n",
       "      <th>title</th>\n",
       "      <th>title_vector</th>\n",
       "      <th>link</th>\n",
       "      <th>reading_time</th>\n",
       "      <th>publication</th>\n",
       "      <th>claps</th>\n",
       "      <th>responses</th>\n",
       "      <th>vector_text-embedding-3-small</th>\n",
       "    </tr>\n",
       "  </thead>\n",
       "  <tbody>\n",
       "    <tr>\n",
       "      <th>0</th>\n",
       "      <td>0</td>\n",
       "      <td>The Reported Mortality Rate of Coronavirus Is ...</td>\n",
       "      <td>[0.041732933, 0.013779674, -0.027564144, -0.01...</td>\n",
       "      <td>https://medium.com/swlh/the-reported-mortality...</td>\n",
       "      <td>13</td>\n",
       "      <td>The Startup</td>\n",
       "      <td>1100</td>\n",
       "      <td>18</td>\n",
       "      <td>[0.01815902255475521, -0.000556989514734596, 0...</td>\n",
       "    </tr>\n",
       "    <tr>\n",
       "      <th>1</th>\n",
       "      <td>1</td>\n",
       "      <td>Dashboards in Python: 3 Advanced Examples for ...</td>\n",
       "      <td>[0.0039737443, 0.003020432, -0.0006188639, 0.0...</td>\n",
       "      <td>https://medium.com/swlh/dashboards-in-python-3...</td>\n",
       "      <td>14</td>\n",
       "      <td>The Startup</td>\n",
       "      <td>726</td>\n",
       "      <td>3</td>\n",
       "      <td>[-0.017228988930583, -0.03712876886129379, 0.0...</td>\n",
       "    </tr>\n",
       "    <tr>\n",
       "      <th>2</th>\n",
       "      <td>2</td>\n",
       "      <td>How Can We Best Switch in Python?</td>\n",
       "      <td>[0.031961977, 0.00047043373, -0.018263113, 0.0...</td>\n",
       "      <td>https://medium.com/swlh/how-can-we-best-switch...</td>\n",
       "      <td>6</td>\n",
       "      <td>The Startup</td>\n",
       "      <td>500</td>\n",
       "      <td>7</td>\n",
       "      <td>[-0.0027948690112680197, -0.006100953556597233...</td>\n",
       "    </tr>\n",
       "    <tr>\n",
       "      <th>3</th>\n",
       "      <td>3</td>\n",
       "      <td>Maternity leave shouldn’t set women back</td>\n",
       "      <td>[0.032572296, -0.011148319, -0.01688577, -0.00...</td>\n",
       "      <td>https://medium.com/swlh/maternity-leave-should...</td>\n",
       "      <td>9</td>\n",
       "      <td>The Startup</td>\n",
       "      <td>460</td>\n",
       "      <td>1</td>\n",
       "      <td>[0.04098882898688316, 0.054017066955566406, 0....</td>\n",
       "    </tr>\n",
       "    <tr>\n",
       "      <th>4</th>\n",
       "      <td>4</td>\n",
       "      <td>Python NLP Tutorial: Information Extraction an...</td>\n",
       "      <td>[-0.011735886, -0.016938083, -0.027233299, 0.0...</td>\n",
       "      <td>https://medium.com/swlh/python-nlp-tutorial-in...</td>\n",
       "      <td>7</td>\n",
       "      <td>The Startup</td>\n",
       "      <td>163</td>\n",
       "      <td>0</td>\n",
       "      <td>[-0.0338607020676136, 0.005243391264230013, -0...</td>\n",
       "    </tr>\n",
       "  </tbody>\n",
       "</table>\n",
       "</div>"
      ],
      "text/plain": [
       "   id                                              title  \\\n",
       "0   0  The Reported Mortality Rate of Coronavirus Is ...   \n",
       "1   1  Dashboards in Python: 3 Advanced Examples for ...   \n",
       "2   2                  How Can We Best Switch in Python?   \n",
       "3   3           Maternity leave shouldn’t set women back   \n",
       "4   4  Python NLP Tutorial: Information Extraction an...   \n",
       "\n",
       "                                        title_vector  \\\n",
       "0  [0.041732933, 0.013779674, -0.027564144, -0.01...   \n",
       "1  [0.0039737443, 0.003020432, -0.0006188639, 0.0...   \n",
       "2  [0.031961977, 0.00047043373, -0.018263113, 0.0...   \n",
       "3  [0.032572296, -0.011148319, -0.01688577, -0.00...   \n",
       "4  [-0.011735886, -0.016938083, -0.027233299, 0.0...   \n",
       "\n",
       "                                                link  reading_time  \\\n",
       "0  https://medium.com/swlh/the-reported-mortality...            13   \n",
       "1  https://medium.com/swlh/dashboards-in-python-3...            14   \n",
       "2  https://medium.com/swlh/how-can-we-best-switch...             6   \n",
       "3  https://medium.com/swlh/maternity-leave-should...             9   \n",
       "4  https://medium.com/swlh/python-nlp-tutorial-in...             7   \n",
       "\n",
       "   publication  claps  responses  \\\n",
       "0  The Startup   1100         18   \n",
       "1  The Startup    726          3   \n",
       "2  The Startup    500          7   \n",
       "3  The Startup    460          1   \n",
       "4  The Startup    163          0   \n",
       "\n",
       "                       vector_text-embedding-3-small  \n",
       "0  [0.01815902255475521, -0.000556989514734596, 0...  \n",
       "1  [-0.017228988930583, -0.03712876886129379, 0.0...  \n",
       "2  [-0.0027948690112680197, -0.006100953556597233...  \n",
       "3  [0.04098882898688316, 0.054017066955566406, 0....  \n",
       "4  [-0.0338607020676136, 0.005243391264230013, -0...  "
      ]
     },
     "execution_count": 5,
     "metadata": {},
     "output_type": "execute_result"
    }
   ],
   "source": [
    "df.head()"
   ]
  },
  {
   "cell_type": "code",
   "execution_count": 6,
   "metadata": {},
   "outputs": [],
   "source": [
    "# embeddings = df[\"title_vector\"].to_numpy()\n",
    "embeddings = df[\"vector_text-embedding-3-small\"].to_numpy()"
   ]
  },
  {
   "cell_type": "code",
   "execution_count": 7,
   "metadata": {},
   "outputs": [
    {
     "data": {
      "text/plain": [
       "(5979,)"
      ]
     },
     "execution_count": 7,
     "metadata": {},
     "output_type": "execute_result"
    }
   ],
   "source": [
    "embeddings.shape"
   ]
  },
  {
   "cell_type": "code",
   "execution_count": 8,
   "metadata": {},
   "outputs": [],
   "source": [
    "# Convert the numpy array of lists into a numpy array of numpy arrays\n",
    "embeddings = np.array([np.array(embedding) for embedding in embeddings])"
   ]
  },
  {
   "cell_type": "code",
   "execution_count": 9,
   "metadata": {},
   "outputs": [
    {
     "data": {
      "text/plain": [
       "(5979, 1536)"
      ]
     },
     "execution_count": 9,
     "metadata": {},
     "output_type": "execute_result"
    }
   ],
   "source": [
    "embeddings.shape"
   ]
  },
  {
   "cell_type": "code",
   "execution_count": 10,
   "metadata": {},
   "outputs": [],
   "source": [
    "# Copy the dataframe excluding the vector columns\n",
    "df2 = df.drop(columns=[\"title_vector\", \"vector_text-embedding-3-small\"])"
   ]
  },
  {
   "cell_type": "code",
   "execution_count": 11,
   "metadata": {},
   "outputs": [
    {
     "name": "stdout",
     "output_type": "stream",
     "text": [
      "Loading environment variables from: /Users/dhruvanand/Code/vector-io/src/vdf_io/notebooks/.env\n",
      "DATA DIR ./\n",
      "DIRECTORY ./medium_articles\n",
      "   id                                              title  \\\n",
      "0   0  The Reported Mortality Rate of Coronavirus Is ...   \n",
      "1   1  Dashboards in Python: 3 Advanced Examples for ...   \n",
      "2   2                  How Can We Best Switch in Python?   \n",
      "3   3           Maternity leave shouldn’t set women back   \n",
      "4   4  Python NLP Tutorial: Information Extraction an...   \n",
      "\n",
      "                                                link  reading_time  \\\n",
      "0  https://medium.com/swlh/the-reported-mortality...            13   \n",
      "1  https://medium.com/swlh/dashboards-in-python-3...            14   \n",
      "2  https://medium.com/swlh/how-can-we-best-switch...             6   \n",
      "3  https://medium.com/swlh/maternity-leave-should...             9   \n",
      "4  https://medium.com/swlh/python-nlp-tutorial-in...             7   \n",
      "\n",
      "   publication  claps  responses  \n",
      "0  The Startup   1100         18  \n",
      "1  The Startup    726          3  \n",
      "2  The Startup    500          7  \n",
      "3  The Startup    460          1  \n",
      "4  The Startup    163          0  \n",
      "        id                                              title  \\\n",
      "5974  5974  5 steps to create a simple digital coloring bo...   \n",
      "5975  5975                       A Brief History of Paul Rand   \n",
      "5976  5976            The user experience of public restrooms   \n",
      "5977  5977                   Is it really all about the user?   \n",
      "5978  5978          Goers UX Case Study — Kano Model Research   \n",
      "\n",
      "                                                   link  reading_time  \\\n",
      "5974  https://uxdesign.cc/5-steps-to-create-a-simple...             6   \n",
      "5975  https://uxdesign.cc/a-brief-history-of-paul-ra...             3   \n",
      "5976  https://uxdesign.cc/the-user-experience-of-pub...             4   \n",
      "5977  https://uxdesign.cc/is-it-really-all-about-the...             3   \n",
      "5978  https://uxdesign.cc/goers-ux-case-study-kano-m...             6   \n",
      "\n",
      "        publication  claps  responses  \n",
      "5974  UX Collective    432          0  \n",
      "5975  UX Collective    224          0  \n",
      "5976  UX Collective     20          0  \n",
      "5977  UX Collective     22          0  \n",
      "5978  UX Collective      8          0  \n",
      "Index(['id', 'title', 'link', 'reading_time', 'publication', 'claps',\n",
      "       'responses'],\n",
      "      dtype='object')\n",
      "wrote ./medium_articles/input.parquet\n"
     ]
    }
   ],
   "source": [
    "ls.ingest(\"medium_articles\", df2, \"title\")"
   ]
  },
  {
   "cell_type": "code",
   "execution_count": 12,
   "metadata": {},
   "outputs": [
    {
     "name": "stdout",
     "output_type": "stream",
     "text": [
      "Loading environment variables from: /Users/dhruvanand/Code/vector-io/src/vdf_io/notebooks/.env\n",
      "importing embeddings with shape (5979, 1536) to ./medium_articles/embeddings/embedding-001.h5\n",
      "done with embedding-001\n"
     ]
    }
   ],
   "source": [
    "ls.import_embeddings(\n",
    "    \"medium_articles\",\n",
    "    embeddings,\n",
    "    text_column=\"title\",\n",
    "    model_id=\"openai-text-embedding-3-small\",\n",
    ")"
   ]
  },
  {
   "cell_type": "code",
   "execution_count": 13,
   "metadata": {},
   "outputs": [],
   "source": [
    "embeddings2 = df[\"title_vector\"].to_numpy()\n",
    "embeddings2 = np.array([np.array(embedding) for embedding in embeddings2])"
   ]
  },
  {
   "cell_type": "code",
   "execution_count": 14,
   "metadata": {},
   "outputs": [
    {
     "name": "stdout",
     "output_type": "stream",
     "text": [
      "Loading environment variables from: /Users/dhruvanand/Code/vector-io/src/vdf_io/notebooks/.env\n",
      "importing embeddings with shape (5979, 768) to ./medium_articles/embeddings/embedding-002.h5\n",
      "done with embedding-002\n"
     ]
    }
   ],
   "source": [
    "# the model (facebook/dpr-ctx_encoder-single-nq-base) isn't in our supported list yet.\n",
    "# we can still import the embeddings, but we won't be able to use the model for similarity search\n",
    "ls.import_embeddings(\"medium_articles\", embeddings2, text_column=\"title\", model_id=\"\")"
   ]
  },
  {
   "cell_type": "code",
   "execution_count": null,
   "metadata": {},
   "outputs": [],
   "source": []
  }
 ],
 "metadata": {
  "kernelspec": {
   "display_name": "testenv",
   "language": "python",
   "name": "python3"
  },
  "language_info": {
   "codemirror_mode": {
    "name": "ipython",
    "version": 3
   },
   "file_extension": ".py",
   "mimetype": "text/x-python",
   "name": "python",
   "nbconvert_exporter": "python",
   "pygments_lexer": "ipython3",
   "version": "3.10.12"
  }
 },
 "nbformat": 4,
 "nbformat_minor": 2
}
