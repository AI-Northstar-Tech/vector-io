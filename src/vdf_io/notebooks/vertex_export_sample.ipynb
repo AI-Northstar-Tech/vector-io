{
 "cells": [
  {
   "cell_type": "markdown",
   "id": "0206620b-45cc-461f-b93b-87fa648aa7e5",
   "metadata": {},
   "source": [
    "# Testing export class for Vertex AI Vector Search"
   ]
  },
  {
   "cell_type": "code",
   "execution_count": 1,
   "id": "0148614c-8d9b-49c4-a890-a5077c4a8f3b",
   "metadata": {
    "tags": []
   },
   "outputs": [
    {
     "name": "stdout",
     "output_type": "stream",
     "text": [
      "/home/jupyter/vector-io/notebooks\n"
     ]
    }
   ],
   "source": [
    "!pwd"
   ]
  },
  {
   "cell_type": "code",
   "execution_count": 2,
   "id": "2dca0e82-f68c-4f10-8115-ab28d0ec3fe6",
   "metadata": {
    "tags": []
   },
   "outputs": [
    {
     "data": {
      "text/plain": [
       "'/home/jupyter/vector-io'"
      ]
     },
     "execution_count": 2,
     "metadata": {},
     "output_type": "execute_result"
    }
   ],
   "source": [
    "import os\n",
    "\n",
    "root_path = \"..\"\n",
    "os.chdir(root_path)\n",
    "os.getcwd()"
   ]
  },
  {
   "cell_type": "code",
   "execution_count": 3,
   "id": "aebd6ce3-9d63-4482-b929-c176e22417bb",
   "metadata": {
    "tags": []
   },
   "outputs": [
    {
     "name": "stdout",
     "output_type": "stream",
     "text": [
      "PREFIX = vvs-vectorio-pubv3\n"
     ]
    }
   ],
   "source": [
    "# naming convention for all cloud resources\n",
    "VERSION = \"pubv3\"  # TODO\n",
    "PREFIX = f\"vvs-vectorio-{VERSION}\"  # TODO\n",
    "\n",
    "print(f\"PREFIX = {PREFIX}\")"
   ]
  },
  {
   "cell_type": "markdown",
   "id": "0ff3b226-1fe6-41b5-9166-27c7c8a79c58",
   "metadata": {},
   "source": [
    "## Load notebook config\n",
    "\n",
    "> If already defined in quickstart notebook, define these vairables with the cell below"
   ]
  },
  {
   "cell_type": "code",
   "execution_count": 4,
   "id": "b54f81dc-320c-45a2-8781-84e4bf63e57b",
   "metadata": {
    "tags": []
   },
   "outputs": [
    {
     "name": "stdout",
     "output_type": "stream",
     "text": [
      "\n",
      "PREFIX                   = \"vvs-vectorio-pubv3\"\n",
      "VERSION                  = \"pubv3\"\n",
      "\n",
      "PROJECT_ID               = \"hybrid-vertex\"\n",
      "PROJECT_NUM              = \"934903580331\"\n",
      "\n",
      "REGION                   = \"us-central1\"\n",
      "BQ_REGION                = \"US\"\n",
      "\n",
      "VERTEX_SA                = \"934903580331-compute@developer.gserviceaccount.com\"\n",
      "\n",
      "VPC_NETWORK_NAME         = \"\"\n",
      "VPC_NETWORK_FULL         = \"None\"\n",
      "\n",
      "USE_PUBLIC_ENDPOINTS     = \"True\"\n",
      "\n",
      "BUCKET_NAME              = \"vvs-vectorio-pubv3-hybrid-vertex\"\n",
      "BUCKET_URI               = \"gs://vvs-vectorio-pubv3-hybrid-vertex\"\n",
      "\n",
      "REMOTE_GCS_FOLDER        = \"gs://vvs-vectorio-pubv3-hybrid-vertex/vvs-vectorio-pubv3/embedding_indexes/tmpm4k5k6gq/\"\n",
      "\n",
      "SO_PARQUET_GCS_DIR       = \"gs://vvs-vectorio-pubv3-hybrid-vertex/emb_vector_parquet/so_2000_5000_1000/tmpsgm4txp8/\"\n",
      "\n",
      "LOCAL_TEST_DIR           = \"data/stack_overflow_parquet_pubv3\"\n",
      "LOCAL_TEST_DATA_DIR      = \"data/stack_overflow_parquet_pubv3/files\"\n",
      "\n",
      "DIMENSIONS               = \"768\"\n",
      "\n",
      "INDEX_DISPLAY_NAME       = \"soverflow_vvs_vectorio_pubv3\"\n",
      "INDEX_RESOURCE_NAME      = \"projects/934903580331/locations/us-central1/indexes/1081325705452584960\"\n",
      "MY_INDEX_ID              = \"1081325705452584960\"\n",
      "\n",
      "ENDPOINT_DISPLAY_NAME    = \"soverflow_vvs_vectorio_pubv3_endpoint\"\n",
      "ENDPOINT_RESOURCE_NAME   = \"projects/934903580331/locations/us-central1/indexEndpoints/5739455095037231104\"\n",
      "MY_INDEX_ENDPOINT_ID     = \"5739455095037231104\"\n",
      "\n",
      "DEPLOYED_INDEX_ID        = \"soverflow_vvs_vectorio_pubv3_20240130131739\"\n",
      "\n",
      "PUBLIC_ENDPOINT_URL      = \"139422526.us-central1-934903580331.vdb.vertexai.goog\"\n",
      "\n",
      "LOCAL_PARQUEST_FILE_LIST = \"data/stack_overflow_parquet_pubv3/files/so_tmpm4k5k6gq_2001.parquet|data/stack_overflow_parquet_pubv3/files/so_tmpm4k5k6gq_2000.parquet|data/stack_overflow_parquet_pubv3/files/so_tmpm4k5k6gq_2002.parquet\"\n",
      "\n"
     ]
    }
   ],
   "source": [
    "# staging GCS\n",
    "GCP_PROJECTS = !gcloud config get-value project\n",
    "PROJECT_ID = GCP_PROJECTS[0]\n",
    "\n",
    "# GCS bucket and paths\n",
    "BUCKET_NAME = f\"{PREFIX}-{PROJECT_ID}\"\n",
    "BUCKET_URI = f\"gs://{BUCKET_NAME}\"\n",
    "\n",
    "config = !gsutil cat {BUCKET_URI}/config/notebook_env.py\n",
    "print(config.n)\n",
    "exec(config.n)"
   ]
  },
  {
   "cell_type": "markdown",
   "id": "0fa0a0f6-0688-4e88-b409-a6ed0cbf274e",
   "metadata": {},
   "source": [
    "## Imports"
   ]
  },
  {
   "cell_type": "code",
   "execution_count": 5,
   "id": "81b44984-a5f4-4363-a13a-e6841e377e96",
   "metadata": {
    "tags": []
   },
   "outputs": [
    {
     "name": "stdout",
     "output_type": "stream",
     "text": [
      "BigQuery SDK version      : 3.15.0\n",
      "Vertex AI SDK version     : 1.39.0\n",
      "Cloud Storage SDK version : 2.14.0\n"
     ]
    }
   ],
   "source": [
    "import pandas as pd\n",
    "import time\n",
    "import json\n",
    "\n",
    "\n",
    "from google.cloud import aiplatform as aip\n",
    "from google.cloud import storage\n",
    "from google.cloud import bigquery\n",
    "\n",
    "# logging\n",
    "import logging\n",
    "\n",
    "logging.disable(logging.WARNING)\n",
    "\n",
    "# python warning\n",
    "import warnings\n",
    "\n",
    "warnings.filterwarnings(\"ignore\")\n",
    "\n",
    "print(f\"BigQuery SDK version      : {bigquery.__version__}\")\n",
    "print(f\"Vertex AI SDK version     : {aip.__version__}\")\n",
    "print(f\"Cloud Storage SDK version : {storage.__version__}\")"
   ]
  },
  {
   "cell_type": "markdown",
   "id": "648801d4-f4af-4cd3-b084-66aa00aa75c8",
   "metadata": {},
   "source": [
    "### init Google Cloud SDK clients"
   ]
  },
  {
   "cell_type": "code",
   "execution_count": 6,
   "id": "42c562b7-92e4-4296-be04-f97b104a00b8",
   "metadata": {
    "tags": []
   },
   "outputs": [],
   "source": [
    "# cloud storage client\n",
    "storage_client = storage.Client(project=PROJECT_ID)\n",
    "\n",
    "# Vertex client\n",
    "aip.init(project=PROJECT_ID, location=REGION)"
   ]
  },
  {
   "cell_type": "markdown",
   "id": "d449076b-af2f-40aa-bfda-6510162e1400",
   "metadata": {},
   "source": [
    "### Vertex AI Vector Search Export class"
   ]
  },
  {
   "cell_type": "code",
   "execution_count": 8,
   "id": "249f4dc9-1a9c-4bae-b33c-7e7ac445b89b",
   "metadata": {
    "tags": []
   },
   "outputs": [],
   "source": [
    "import os\n",
    "\n",
    "# sys.path.append(\"..\")\n",
    "from vdf_io.export_vdf.vertexai_vector_search_export import ExportVertexAIVectorSearch"
   ]
  },
  {
   "cell_type": "markdown",
   "id": "3aee4415-1981-4c1e-a98b-95e84e812802",
   "metadata": {},
   "source": [
    "# Export from existing Vector Search Index"
   ]
  },
  {
   "cell_type": "code",
   "execution_count": 9,
   "id": "af6d0961-3ee6-4996-b0c7-12ad87cc8c04",
   "metadata": {
    "tags": []
   },
   "outputs": [
    {
     "data": {
      "text/plain": [
       "{'name': 'projects/934903580331/locations/us-central1/indexes/1081325705452584960',\n",
       " 'displayName': 'soverflow_vvs_vectorio_pubv3',\n",
       " 'description': 'sample index for vectorio demo',\n",
       " 'metadataSchemaUri': 'gs://google-cloud-aiplatform/schema/matchingengine/metadata/nearest_neighbor_search_1.0.0.yaml',\n",
       " 'metadata': {'config': {'dimensions': 768.0,\n",
       "   'approximateNeighborsCount': 150.0,\n",
       "   'distanceMeasureType': 'DOT_PRODUCT_DISTANCE',\n",
       "   'algorithmConfig': {'treeAhConfig': {'leafNodeEmbeddingCount': '500',\n",
       "     'leafNodesToSearchPercent': 80.0}},\n",
       "   'shardSize': 'SHARD_SIZE_MEDIUM'}},\n",
       " 'deployedIndexes': [{'indexEndpoint': 'projects/934903580331/locations/us-central1/indexEndpoints/5739455095037231104',\n",
       "   'deployedIndexId': 'soverflow_vvs_vectorio_pubv3_20240130131739'}],\n",
       " 'etag': 'AMEw9yPG4wUYBC8xLJctHEy-yYH-P5PDNlwHbqVfcJCg8zt_LsonGiIjUEPYJWTjYpU=',\n",
       " 'createTime': '2024-01-30T13:26:08.725251Z',\n",
       " 'updateTime': '2024-01-30T13:26:17.176312Z',\n",
       " 'indexStats': {'vectorsCount': '1', 'shardsCount': 1},\n",
       " 'indexUpdateMethod': 'STREAM_UPDATE',\n",
       " 'encryptionSpec': {}}"
      ]
     },
     "execution_count": 9,
     "metadata": {},
     "output_type": "execute_result"
    }
   ],
   "source": [
    "target_vs_index = aip.MatchingEngineIndex(INDEX_RESOURCE_NAME)\n",
    "target_vs_index.to_dict()"
   ]
  },
  {
   "cell_type": "code",
   "execution_count": 10,
   "id": "d407eac6-0f44-414b-a038-abeee006d178",
   "metadata": {
    "tags": []
   },
   "outputs": [
    {
     "name": "stdout",
     "output_type": "stream",
     "text": [
      "INDEX_DISPLAY_NAME : soverflow_vvs_vectorio_pubv3\n",
      "DEPLOYED_INDEX_ID  : soverflow_vvs_vectorio_pubv3_20240130131739\n"
     ]
    }
   ],
   "source": [
    "DIMENSIONS = 768\n",
    "VDF_VERSION = \"v1\"\n",
    "TIMESTAMP_vdf = time.strftime(\"%Y%m%d-%H%M%S\")\n",
    "\n",
    "print(f\"INDEX_DISPLAY_NAME : {INDEX_DISPLAY_NAME}\")\n",
    "print(f\"DEPLOYED_INDEX_ID  : {DEPLOYED_INDEX_ID}\")"
   ]
  },
  {
   "cell_type": "code",
   "execution_count": 16,
   "id": "19f1b761-5239-47e6-b7b8-b49be5d1fcb9",
   "metadata": {
    "tags": []
   },
   "outputs": [
    {
     "data": {
      "text/plain": [
       "{'project_id': 'hybrid-vertex',\n",
       " 'location': 'us-central1',\n",
       " 'index': 'projects/934903580331/locations/us-central1/indexes/1081325705452584960',\n",
       " 'library_version': 'v1',\n",
       " 'dir': '.',\n",
       " 'model_name': 'textembedding-gecko@001',\n",
       " 'max_vectors': 5000}"
      ]
     },
     "execution_count": 16,
     "metadata": {},
     "output_type": "execute_result"
    }
   ],
   "source": [
    "my_export_args = {\n",
    "    \"project_id\": PROJECT_ID,\n",
    "    \"location\": REGION,\n",
    "    # \"index\": DEPLOYED_INDEX_ID,\n",
    "    \"index\": INDEX_DISPLAY_NAME,\n",
    "    \"library_version\": VDF_VERSION,\n",
    "    \"dir\": \".\",\n",
    "    \"model_name\": \"textembedding-gecko@001\",\n",
    "    \"max_vectors\": 5000,\n",
    "}\n",
    "my_export_args"
   ]
  },
  {
   "cell_type": "code",
   "execution_count": 17,
   "id": "ad12f0ed-f7a3-499c-bf1a-c59e0ae5cafb",
   "metadata": {
    "tags": []
   },
   "outputs": [
    {
     "data": {
      "text/plain": [
       "<src.export_vdf.vertexai_vector_search_export.ExportVertexAIVectorSearch at 0x7fc110ae2b00>"
      ]
     },
     "execution_count": 17,
     "metadata": {},
     "output_type": "execute_result"
    }
   ],
   "source": [
    "export_vvs = ExportVertexAIVectorSearch(args=my_export_args)\n",
    "\n",
    "export_vvs"
   ]
  },
  {
   "cell_type": "code",
   "execution_count": 18,
   "id": "df72b6e2-313a-4685-a214-cd3fe3f17f90",
   "metadata": {
    "tags": []
   },
   "outputs": [
    {
     "data": {
      "text/plain": [
       "{'project_id': 'hybrid-vertex',\n",
       " 'location': 'us-central1',\n",
       " 'index': 'projects/934903580331/locations/us-central1/indexes/1081325705452584960',\n",
       " 'library_version': 'v1',\n",
       " 'dir': '.',\n",
       " 'model_name': 'textembedding-gecko@001',\n",
       " 'max_vectors': 5000}"
      ]
     },
     "execution_count": 18,
     "metadata": {},
     "output_type": "execute_result"
    }
   ],
   "source": [
    "export_vvs.args"
   ]
  },
  {
   "cell_type": "code",
   "execution_count": 19,
   "id": "77b9be28-b00c-4dc2-896a-768eb8956e6d",
   "metadata": {
    "tags": []
   },
   "outputs": [
    {
     "name": "stdout",
     "output_type": "stream",
     "text": [
      "VDF_EXPORT_DIR_PATH: ./vdf_20240201_181031_a26f5\n"
     ]
    }
   ],
   "source": [
    "VDF_EXPORT_DIR_PATH = f\"./{export_vvs.vdf_directory}\"\n",
    "print(f\"VDF_EXPORT_DIR_PATH: {VDF_EXPORT_DIR_PATH}\")"
   ]
  },
  {
   "cell_type": "code",
   "execution_count": 20,
   "id": "c69eea2f-2fea-4661-bbef-d4c35784efec",
   "metadata": {
    "tags": []
   },
   "outputs": [
    {
     "name": "stdout",
     "output_type": "stream",
     "text": [
      "indexes: ['projects/934903580331/locations/us-central1/indexes/1081325705452584960']\n"
     ]
    },
    {
     "name": "stderr",
     "output_type": "stream",
     "text": [
      "Fetching indexes:   0%|          | 0/1 [00:00<?, ?it/s]\n",
      "Exporting soverflow_vvs_vectorio_pubv3:   0%|          | 0/5000 [00:00<?, ?it/s]\u001b[A\n",
      "Exporting soverflow_vvs_vectorio_pubv3:  90%|█████████ | 4501/5000 [00:01<00:00, 2464.60it/s]\u001b[A\n",
      "Fetching indexes: 100%|██████████| 1/1 [00:02<00:00,  2.07s/it]"
     ]
    },
    {
     "name": "stdout",
     "output_type": "stream",
     "text": [
      "{\n",
      "    \"version\": \"v1\",\n",
      "    \"file_structure\": [\n",
      "        \"vdf_20240201_181031_a26f5/soverflow_vvs_vectorio_pubv3/1.parquet\",\n",
      "        \"vdf_20240201_181031_a26f5/VDF_META.json\"\n",
      "    ],\n",
      "    \"author\": \"jupyter\",\n",
      "    \"exported_from\": \"vertexai_vectorsearch\",\n",
      "    \"indexes\": {\n",
      "        \"projects/934903580331/locations/us-central1/indexes/1081325705452584960\": [\n",
      "            {\n",
      "                \"index_name\": \"soverflow_vvs_vectorio_pubv3\",\n",
      "                \"namespace\": \"namespace\",\n",
      "                \"total_vector_count\": 5000,\n",
      "                \"exported_vector_count\": 4501,\n",
      "                \"metric\": \"Dot\",\n",
      "                \"dimensions\": 768,\n",
      "                \"model_name\": \"textembedding-gecko@001\",\n",
      "                \"vector_columns\": [\n",
      "                    \"vector\"\n",
      "                ],\n",
      "                \"data_path\": \"vdf_20240201_181031_a26f5/soverflow_vvs_vectorio_pubv3\"\n",
      "            }\n",
      "        ]\n",
      "    }\n",
      "}\n"
     ]
    },
    {
     "name": "stderr",
     "output_type": "stream",
     "text": [
      "\n"
     ]
    },
    {
     "data": {
      "text/plain": [
       "True"
      ]
     },
     "execution_count": 20,
     "metadata": {},
     "output_type": "execute_result"
    }
   ],
   "source": [
    "export_vvs.get_data()"
   ]
  },
  {
   "cell_type": "markdown",
   "id": "cda82abb-9d11-4d79-b2a3-40a0da68f8e4",
   "metadata": {},
   "source": [
    "## Check VDF Metadata json"
   ]
  },
  {
   "cell_type": "code",
   "execution_count": 24,
   "id": "236c0725-82db-4540-9d0c-9d6026be278d",
   "metadata": {
    "tags": []
   },
   "outputs": [],
   "source": [
    "with open(f\"{VDF_EXPORT_DIR_PATH}/VDF_META.json\") as f:\n",
    "    d = json.load(f)"
   ]
  },
  {
   "cell_type": "code",
   "execution_count": 25,
   "id": "008ad4c0-9d6c-4f0b-86eb-9bd3705a15c2",
   "metadata": {
    "tags": []
   },
   "outputs": [
    {
     "data": {
      "text/plain": [
       "{'version': 'v1',\n",
       " 'file_structure': ['vdf_20240201_162120_4fb82/soverflow_vvs_vectorio_pubv3/1.parquet',\n",
       "  'vdf_20240201_162120_4fb82/VDF_META.json'],\n",
       " 'author': 'jupyter',\n",
       " 'exported_from': 'vertexai_vectorsearch',\n",
       " 'indexes': {'projects/934903580331/locations/us-central1/indexes/1081325705452584960': [{'index_name': 'soverflow_vvs_vectorio_pubv3',\n",
       "    'namespace': 'namespace',\n",
       "    'total_vector_count': 5000,\n",
       "    'exported_vector_count': 4501,\n",
       "    'metric': 'Dot',\n",
       "    'dimensions': 768,\n",
       "    'model_name': 'textembedding-gecko@001',\n",
       "    'vector_columns': ['vector'],\n",
       "    'data_path': 'vdf_20240201_162120_4fb82/soverflow_vvs_vectorio_pubv3'}]}}"
      ]
     },
     "execution_count": 25,
     "metadata": {},
     "output_type": "execute_result"
    }
   ],
   "source": [
    "d"
   ]
  },
  {
   "cell_type": "code",
   "execution_count": 28,
   "id": "db3fa66b-36f2-4faa-ab92-4d24235c88d1",
   "metadata": {
    "tags": []
   },
   "outputs": [
    {
     "name": "stdout",
     "output_type": "stream",
     "text": [
      "file_path: ./vdf_20240201_162120_4fb82/soverflow_vvs_vectorio_pubv3/1.parquet\n",
      "df shape: (4501, 3)\n"
     ]
    },
    {
     "data": {
      "text/html": [
       "<div>\n",
       "<style scoped>\n",
       "    .dataframe tbody tr th:only-of-type {\n",
       "        vertical-align: middle;\n",
       "    }\n",
       "\n",
       "    .dataframe tbody tr th {\n",
       "        vertical-align: top;\n",
       "    }\n",
       "\n",
       "    .dataframe thead th {\n",
       "        text-align: right;\n",
       "    }\n",
       "</style>\n",
       "<table border=\"1\" class=\"dataframe\">\n",
       "  <thead>\n",
       "    <tr style=\"text-align: right;\">\n",
       "      <th></th>\n",
       "      <th>id</th>\n",
       "      <th>vector</th>\n",
       "      <th>tag</th>\n",
       "    </tr>\n",
       "  </thead>\n",
       "  <tbody>\n",
       "    <tr>\n",
       "      <th>0</th>\n",
       "      <td>019c30f2-6f90-4bb4-b155-8a3d61c1c6b6</td>\n",
       "      <td>[0.0, 0.0, 0.0, 0.0, 0.0, 0.0, 0.0, 0.0, 0.0, ...</td>\n",
       "      <td>None</td>\n",
       "    </tr>\n",
       "    <tr>\n",
       "      <th>1</th>\n",
       "      <td>72719042</td>\n",
       "      <td>[-0.02314985916018486, -0.0009600448538549244,...</td>\n",
       "      <td>[python]</td>\n",
       "    </tr>\n",
       "    <tr>\n",
       "      <th>2</th>\n",
       "      <td>72508354</td>\n",
       "      <td>[-0.01787417009472847, -0.04592113569378853, 0...</td>\n",
       "      <td>[python]</td>\n",
       "    </tr>\n",
       "  </tbody>\n",
       "</table>\n",
       "</div>"
      ],
      "text/plain": [
       "                                     id  \\\n",
       "0  019c30f2-6f90-4bb4-b155-8a3d61c1c6b6   \n",
       "1                              72719042   \n",
       "2                              72508354   \n",
       "\n",
       "                                              vector       tag  \n",
       "0  [0.0, 0.0, 0.0, 0.0, 0.0, 0.0, 0.0, 0.0, 0.0, ...      None  \n",
       "1  [-0.02314985916018486, -0.0009600448538549244,...  [python]  \n",
       "2  [-0.01787417009472847, -0.04592113569378853, 0...  [python]  "
      ]
     },
     "execution_count": 28,
     "metadata": {},
     "output_type": "execute_result"
    }
   ],
   "source": [
    "if isinstance(my_export_args[\"index\"], str):\n",
    "    file_path = f\"{VDF_EXPORT_DIR_PATH}/{my_export_args['index']}/1.parquet\"\n",
    "\n",
    "if isinstance(my_export_args[\"index\"], list):\n",
    "    file_path = f\"{VDF_EXPORT_DIR_PATH}/{my_export_args['index'][0]}/1.parquet\"\n",
    "\n",
    "print(f\"file_path: {file_path}\")\n",
    "\n",
    "test_parquet_df = pd.read_parquet(file_path)\n",
    "print(f\"df shape: {test_parquet_df.shape}\")\n",
    "test_parquet_df.head(3)"
   ]
  },
  {
   "cell_type": "markdown",
   "id": "5edbce11-e6f3-43eb-a6b1-35421cc4ec0b",
   "metadata": {},
   "source": [
    "# Validate imported records"
   ]
  },
  {
   "cell_type": "code",
   "execution_count": 22,
   "id": "f6de062d-b479-4915-af0b-989bc81114ca",
   "metadata": {
    "tags": []
   },
   "outputs": [],
   "source": [
    "my_index_endpoint = aip.MatchingEngineIndexEndpoint(ENDPOINT_RESOURCE_NAME)\n",
    "# my_index_endpoint"
   ]
  },
  {
   "cell_type": "code",
   "execution_count": 23,
   "id": "e7400f3b-6ea1-4330-b896-47935b4080ba",
   "metadata": {
    "tags": []
   },
   "outputs": [],
   "source": [
    "ids_to_check = test_parquet_df[\"id\"][:2].to_list()\n",
    "# ids_to_check = ['2102980']\n",
    "# ids_to_check = ['36062183']\n",
    "# ids_to_check = ['48876786', '48821717']"
   ]
  },
  {
   "cell_type": "code",
   "execution_count": 24,
   "id": "a4f7c53c-7cb2-4a26-8031-ae2cb6d15aa9",
   "metadata": {
    "tags": []
   },
   "outputs": [
    {
     "data": {
      "text/plain": [
       "2"
      ]
     },
     "execution_count": 24,
     "metadata": {},
     "output_type": "execute_result"
    }
   ],
   "source": [
    "read_response = my_index_endpoint.read_index_datapoints(\n",
    "    deployed_index_id=DEPLOYED_INDEX_ID,\n",
    "    ids=ids_to_check,\n",
    ")\n",
    "len(read_response)"
   ]
  },
  {
   "cell_type": "code",
   "execution_count": 27,
   "id": "08dc4a92-9531-427b-9dc4-58c530eddcba",
   "metadata": {
    "tags": []
   },
   "outputs": [],
   "source": [
    "# read_response"
   ]
  },
  {
   "cell_type": "markdown",
   "id": "a9cc3ce4-fa68-46ef-9134-15149e266b2d",
   "metadata": {},
   "source": [
    "**Finished**"
   ]
  }
 ],
 "metadata": {
  "environment": {
   "kernel": "python3",
   "name": "tf2-gpu.2-13.m115",
   "type": "gcloud",
   "uri": "gcr.io/deeplearning-platform-release/tf2-gpu.2-13:m115"
  },
  "kernelspec": {
   "display_name": "Python 3",
   "language": "python",
   "name": "python3"
  },
  "language_info": {
   "codemirror_mode": {
    "name": "ipython",
    "version": 3
   },
   "file_extension": ".py",
   "mimetype": "text/x-python",
   "name": "python",
   "nbconvert_exporter": "python",
   "pygments_lexer": "ipython3",
   "version": "3.10.12"
  }
 },
 "nbformat": 4,
 "nbformat_minor": 5
}
